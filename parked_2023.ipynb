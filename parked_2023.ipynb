{
 "cells": [
  {
   "cell_type": "markdown",
   "id": "422385204faebe3b",
   "metadata": {
    "collapsed": false
   },
   "source": [
    "# Parked: Analysis of 2023 SFMTA Parking Meter and Parking Violation Data\n",
    "\n",
    "**Author:** Nick Gregorich\n",
    "**Date:** December, 2023\n",
    "\n",
    "This analysis was performed with 3 of my favorite tools:\n",
    "\n",
    "1. [DuckDB](https://duckdb.org): a wonderful analytics engine and SQL interface\n",
    "2. [pandas](https://pandas.pydata.org): the standard in Python data analysis\n",
    "3. [Plotly Express](https://plotly.com/python/plotly-express/): my current favorite interactive plotting library\n",
    "\n",
    "DuckDB allows us to query a [directory full of parquet files](https://duckdb.org/docs/data/parquet/overview) as if it were a table in a database with a SQL interface\n",
    "\n",
    "Let's import these 3 packages"
   ]
  },
  {
   "cell_type": "code",
   "execution_count": 1,
   "id": "initial_id",
   "metadata": {
    "ExecuteTime": {
     "end_time": "2024-02-18T23:34:21.721599Z",
     "start_time": "2024-02-18T23:34:19.296567Z"
    },
    "collapsed": true
   },
   "outputs": [],
   "source": [
    "import duckdb\n",
    "import pandas as pd\n",
    "import plotly.express as px"
   ]
  },
  {
   "cell_type": "markdown",
   "id": "d5fe4df904953b77",
   "metadata": {
    "collapsed": false
   },
   "source": [
    "We'll need to set up a few user variables:\n",
    "\n",
    "1. `meter_data_dir`: location of the parking meter archives saved from: [DataSF](https://data.sfgov.org/Transportation/SFMTA-Parking-Meter-Detailed-Revenue-Transactions/imvp-dq3v/about_data)\n",
    "    1. Acquiring this data is left as an exercise for the reader\n",
    "2. `data_dir`: location of the parking violation archives saved from: [DataSF](https://data.sfgov.org/Transportation/SFMTA-Parking-Citations/ab4h-6ztd/about_data)\n",
    "    1. Acquiring this data is left as an exercise for the reader\n",
    "3. `large_amount_thresh`: some parking meter transactions are very large. It's unclear if these are data errors or maybe weekly or monthly passes. Either way, let's set a maximum transaction threshold to focus on what we think are probably single day transactions\n",
    "4. `negative_amount_thresh`: some parking meter transactions are negative. It's unclear if these are data errors or refunds. Either way, let's focus on positive transactions\n",
    "5. `sum_fines_min_thresh`: let's focus on parking violations that generated a total of over $1M in revenue over the year"
   ]
  },
  {
   "cell_type": "code",
   "execution_count": 2,
   "id": "8c706f4d2b43bef3",
   "metadata": {
    "ExecuteTime": {
     "end_time": "2024-02-18T23:34:21.725396Z",
     "start_time": "2024-02-18T23:34:21.720692Z"
    },
    "collapsed": false
   },
   "outputs": [],
   "source": [
    "meter_data_dir = \"meter_data\"\n",
    "data_dir = \"ticket_data\"\n",
    "\n",
    "large_amount_thresh = 30\n",
    "negative_amount_thresh = 0\n",
    "\n",
    "sum_fines_min_thresh = 1000000"
   ]
  },
  {
   "cell_type": "markdown",
   "id": "cc70b98b26002b7d",
   "metadata": {
    "collapsed": false
   },
   "source": [
    "The DuckDB [weekday()](https://duckdb.org/docs/sql/functions/datepart) function returns:\n",
    "\n",
    "```Numeric weekday synonym (Sunday = 0, Saturday = 6)```\n",
    "\n",
    "Let's create and show a *pandas DataFrame* to map the numeric weekday to the actual names "
   ]
  },
  {
   "cell_type": "code",
   "execution_count": 3,
   "id": "3c2ec57a341b8542",
   "metadata": {
    "ExecuteTime": {
     "end_time": "2024-02-18T23:34:21.729701Z",
     "start_time": "2024-02-18T23:34:21.724910Z"
    },
    "collapsed": false
   },
   "outputs": [
    {
     "data": {
      "text/html": [
       "<div>\n",
       "<style scoped>\n",
       "    .dataframe tbody tr th:only-of-type {\n",
       "        vertical-align: middle;\n",
       "    }\n",
       "\n",
       "    .dataframe tbody tr th {\n",
       "        vertical-align: top;\n",
       "    }\n",
       "\n",
       "    .dataframe thead th {\n",
       "        text-align: right;\n",
       "    }\n",
       "</style>\n",
       "<table border=\"1\" class=\"dataframe\">\n",
       "  <thead>\n",
       "    <tr style=\"text-align: right;\">\n",
       "      <th></th>\n",
       "      <th>day</th>\n",
       "    </tr>\n",
       "  </thead>\n",
       "  <tbody>\n",
       "    <tr>\n",
       "      <th>0</th>\n",
       "      <td>Sunday</td>\n",
       "    </tr>\n",
       "    <tr>\n",
       "      <th>1</th>\n",
       "      <td>Monday</td>\n",
       "    </tr>\n",
       "    <tr>\n",
       "      <th>2</th>\n",
       "      <td>Tuesday</td>\n",
       "    </tr>\n",
       "    <tr>\n",
       "      <th>3</th>\n",
       "      <td>Wednesday</td>\n",
       "    </tr>\n",
       "    <tr>\n",
       "      <th>4</th>\n",
       "      <td>Thursday</td>\n",
       "    </tr>\n",
       "    <tr>\n",
       "      <th>5</th>\n",
       "      <td>Friday</td>\n",
       "    </tr>\n",
       "    <tr>\n",
       "      <th>6</th>\n",
       "      <td>Saturday</td>\n",
       "    </tr>\n",
       "  </tbody>\n",
       "</table>\n",
       "</div>"
      ],
      "text/plain": [
       "         day\n",
       "0     Sunday\n",
       "1     Monday\n",
       "2    Tuesday\n",
       "3  Wednesday\n",
       "4   Thursday\n",
       "5     Friday\n",
       "6   Saturday"
      ]
     },
     "execution_count": 3,
     "metadata": {},
     "output_type": "execute_result"
    }
   ],
   "source": [
    "day_week_dict = {0: \"Sunday\", 1: \"Monday\", 2: \"Tuesday\", 3: \"Wednesday\", 4: \"Thursday\", 5: \"Friday\", 6: \"Saturday\"}\n",
    "\n",
    "day_week_df = pd.DataFrame.from_dict(day_week_dict, orient=\"index\", columns=[\"day\"])\n",
    "day_week_df"
   ]
  },
  {
   "cell_type": "markdown",
   "id": "cab4dcf17f13387a",
   "metadata": {
    "collapsed": false
   },
   "source": [
    "We'll want to do a histogram of the parking meter values, but it can be nicer to define the bins where we want them instead of relying on the tool to set them automatically\n",
    "\n",
    "Let's create and show a *DataFrame* of bins with a $1 range (save for the top bin which should go to the max expected value)\n",
    "\n",
    "**Note:** in a future version, it would probably be wise to change the very last `upper` threshold from `10000.000` to `large_amount_thresh` for consistency and clarity"
   ]
  },
  {
   "cell_type": "code",
   "execution_count": 4,
   "id": "d15527e4ce389928",
   "metadata": {
    "ExecuteTime": {
     "end_time": "2024-02-18T23:34:21.736254Z",
     "start_time": "2024-02-18T23:34:21.731651Z"
    },
    "collapsed": false
   },
   "outputs": [
    {
     "data": {
      "text/html": [
       "<div>\n",
       "<style scoped>\n",
       "    .dataframe tbody tr th:only-of-type {\n",
       "        vertical-align: middle;\n",
       "    }\n",
       "\n",
       "    .dataframe tbody tr th {\n",
       "        vertical-align: top;\n",
       "    }\n",
       "\n",
       "    .dataframe thead th {\n",
       "        text-align: right;\n",
       "    }\n",
       "</style>\n",
       "<table border=\"1\" class=\"dataframe\">\n",
       "  <thead>\n",
       "    <tr style=\"text-align: right;\">\n",
       "      <th></th>\n",
       "      <th>lower</th>\n",
       "      <th>upper</th>\n",
       "    </tr>\n",
       "  </thead>\n",
       "  <tbody>\n",
       "    <tr>\n",
       "      <th>0</th>\n",
       "      <td>0.00</td>\n",
       "      <td>1.0</td>\n",
       "    </tr>\n",
       "    <tr>\n",
       "      <th>1</th>\n",
       "      <td>1.01</td>\n",
       "      <td>2.0</td>\n",
       "    </tr>\n",
       "    <tr>\n",
       "      <th>2</th>\n",
       "      <td>2.01</td>\n",
       "      <td>3.0</td>\n",
       "    </tr>\n",
       "    <tr>\n",
       "      <th>3</th>\n",
       "      <td>3.01</td>\n",
       "      <td>4.0</td>\n",
       "    </tr>\n",
       "    <tr>\n",
       "      <th>4</th>\n",
       "      <td>4.01</td>\n",
       "      <td>5.0</td>\n",
       "    </tr>\n",
       "    <tr>\n",
       "      <th>5</th>\n",
       "      <td>5.01</td>\n",
       "      <td>6.0</td>\n",
       "    </tr>\n",
       "    <tr>\n",
       "      <th>6</th>\n",
       "      <td>6.01</td>\n",
       "      <td>7.0</td>\n",
       "    </tr>\n",
       "    <tr>\n",
       "      <th>7</th>\n",
       "      <td>7.01</td>\n",
       "      <td>8.0</td>\n",
       "    </tr>\n",
       "    <tr>\n",
       "      <th>8</th>\n",
       "      <td>8.01</td>\n",
       "      <td>9.0</td>\n",
       "    </tr>\n",
       "    <tr>\n",
       "      <th>9</th>\n",
       "      <td>9.01</td>\n",
       "      <td>10.0</td>\n",
       "    </tr>\n",
       "    <tr>\n",
       "      <th>10</th>\n",
       "      <td>10.01</td>\n",
       "      <td>10000.0</td>\n",
       "    </tr>\n",
       "  </tbody>\n",
       "</table>\n",
       "</div>"
      ],
      "text/plain": [
       "    lower    upper\n",
       "0    0.00      1.0\n",
       "1    1.01      2.0\n",
       "2    2.01      3.0\n",
       "3    3.01      4.0\n",
       "4    4.01      5.0\n",
       "5    5.01      6.0\n",
       "6    6.01      7.0\n",
       "7    7.01      8.0\n",
       "8    8.01      9.0\n",
       "9    9.01     10.0\n",
       "10  10.01  10000.0"
      ]
     },
     "execution_count": 4,
     "metadata": {},
     "output_type": "execute_result"
    }
   ],
   "source": [
    "hist_bins_df = pd.DataFrame.from_dict(\n",
    "    {\"lower\": [0, 1.01, 2.01, 3.01, 4.01, 5.01, 6.01, 7.01, 8.01, 9.01, 10.01],\n",
    "     \"upper\": [1.00, 2.00, 3.00, 4.00, 5.00, 6.00, 7.00, 8.00, 9.00, 10.00, 10000.00]})\n",
    "\n",
    "hist_bins_df"
   ]
  },
  {
   "cell_type": "markdown",
   "id": "caf27fed6064c0bf",
   "metadata": {
    "collapsed": false
   },
   "source": [
    "The violations in the dataset have a very abbreviated name\n",
    "\n",
    "Let's create and display a *DataFrame* that maps the abbreviated name into something a little more descriptive"
   ]
  },
  {
   "cell_type": "code",
   "execution_count": 5,
   "id": "7376626da578613",
   "metadata": {
    "ExecuteTime": {
     "end_time": "2024-02-18T23:34:21.740727Z",
     "start_time": "2024-02-18T23:34:21.735896Z"
    },
    "collapsed": false
   },
   "outputs": [
    {
     "data": {
      "text/html": [
       "<div>\n",
       "<style scoped>\n",
       "    .dataframe tbody tr th:only-of-type {\n",
       "        vertical-align: middle;\n",
       "    }\n",
       "\n",
       "    .dataframe tbody tr th {\n",
       "        vertical-align: top;\n",
       "    }\n",
       "\n",
       "    .dataframe thead th {\n",
       "        text-align: right;\n",
       "    }\n",
       "</style>\n",
       "<table border=\"1\" class=\"dataframe\">\n",
       "  <thead>\n",
       "    <tr style=\"text-align: right;\">\n",
       "      <th></th>\n",
       "      <th>violation_text</th>\n",
       "    </tr>\n",
       "  </thead>\n",
       "  <tbody>\n",
       "    <tr>\n",
       "      <th>STR CLEAN</th>\n",
       "      <td>Street cleaning</td>\n",
       "    </tr>\n",
       "    <tr>\n",
       "      <th>RES/OT</th>\n",
       "      <td>Residential parking</td>\n",
       "    </tr>\n",
       "    <tr>\n",
       "      <th>MTR OUT DT</th>\n",
       "      <td>Meter (out downtown)</td>\n",
       "    </tr>\n",
       "    <tr>\n",
       "      <th>METER DTN</th>\n",
       "      <td>Meter (downtown)</td>\n",
       "    </tr>\n",
       "    <tr>\n",
       "      <th>NO PLATES</th>\n",
       "      <td>No plates</td>\n",
       "    </tr>\n",
       "    <tr>\n",
       "      <th>YEL ZONE</th>\n",
       "      <td>Yellow zone</td>\n",
       "    </tr>\n",
       "    <tr>\n",
       "      <th>FAIL DISPL</th>\n",
       "      <td>Fare evasion</td>\n",
       "    </tr>\n",
       "    <tr>\n",
       "      <th>DRIVEWAY</th>\n",
       "      <td>Blocking driveway</td>\n",
       "    </tr>\n",
       "    <tr>\n",
       "      <th>PK PHB OTD</th>\n",
       "      <td>No parking (not downtown)</td>\n",
       "    </tr>\n",
       "    <tr>\n",
       "      <th>PRK PROHIB</th>\n",
       "      <td>No parking (downtown)</td>\n",
       "    </tr>\n",
       "    <tr>\n",
       "      <th>DBL PARK</th>\n",
       "      <td>Double parking</td>\n",
       "    </tr>\n",
       "    <tr>\n",
       "      <th>BUS ZONE</th>\n",
       "      <td>Bus zone</td>\n",
       "    </tr>\n",
       "    <tr>\n",
       "      <th>ON SIDEWALK</th>\n",
       "      <td>On sidewalk</td>\n",
       "    </tr>\n",
       "    <tr>\n",
       "      <th>RED ZONE</th>\n",
       "      <td>Red zone</td>\n",
       "    </tr>\n",
       "    <tr>\n",
       "      <th>TRK ZONE</th>\n",
       "      <td>Truck loading zone</td>\n",
       "    </tr>\n",
       "    <tr>\n",
       "      <th>NO EV REG</th>\n",
       "      <td>No registration</td>\n",
       "    </tr>\n",
       "    <tr>\n",
       "      <th>PRK GRADE</th>\n",
       "      <td>Parking grade</td>\n",
       "    </tr>\n",
       "  </tbody>\n",
       "</table>\n",
       "</div>"
      ],
      "text/plain": [
       "                        violation_text\n",
       "STR CLEAN              Street cleaning\n",
       "RES/OT             Residential parking\n",
       "MTR OUT DT        Meter (out downtown)\n",
       "METER DTN             Meter (downtown)\n",
       "NO PLATES                    No plates\n",
       "YEL ZONE                   Yellow zone\n",
       "FAIL DISPL                Fare evasion\n",
       "DRIVEWAY             Blocking driveway\n",
       "PK PHB OTD   No parking (not downtown)\n",
       "PRK PROHIB       No parking (downtown)\n",
       "DBL PARK                Double parking\n",
       "BUS ZONE                      Bus zone\n",
       "ON SIDEWALK                On sidewalk\n",
       "RED ZONE                      Red zone\n",
       "TRK ZONE            Truck loading zone\n",
       "NO EV REG              No registration\n",
       "PRK GRADE                Parking grade"
      ]
     },
     "execution_count": 5,
     "metadata": {},
     "output_type": "execute_result"
    }
   ],
   "source": [
    "violation_dict = {\n",
    "    \"STR CLEAN\": \"Street cleaning\",\n",
    "    \"RES/OT\": \"Residential parking\",\n",
    "    \"MTR OUT DT\": \"Meter (out downtown)\",\n",
    "    \"METER DTN\": \"Meter (downtown)\",\n",
    "    \"NO PLATES\": \"No plates\",\n",
    "    \"YEL ZONE\": \"Yellow zone\",\n",
    "    \"FAIL DISPL\": \"Fare evasion\",\n",
    "    \"DRIVEWAY\": \"Blocking driveway\",\n",
    "    \"PK PHB OTD\": \"No parking (not downtown)\",\n",
    "    \"PRK PROHIB\": \"No parking (downtown)\",\n",
    "    \"DBL PARK\": \"Double parking\",\n",
    "    \"BUS ZONE\": \"Bus zone\",\n",
    "    \"ON SIDEWALK\": \"On sidewalk\",\n",
    "    \"RED ZONE\": \"Red zone\",\n",
    "    \"TRK ZONE\": \"Truck loading zone\",\n",
    "    \"NO EV REG\": \"No registration\",\n",
    "    \"PRK GRADE\": \"Parking grade\",\n",
    "}\n",
    "\n",
    "violation_df = pd.DataFrame.from_dict(violation_dict, orient=\"index\", columns=[\"violation_text\"])\n",
    "violation_df"
   ]
  },
  {
   "cell_type": "markdown",
   "id": "1f95ad362b1088cf",
   "metadata": {
    "collapsed": false
   },
   "source": [
    "It's finally time to dive into the actual data!\n",
    "\n",
    "First, we run a SQL `describe` on the parking meter data in order to see its schema\n",
    "\n",
    "In the DuckDB workflow, we:\n",
    "\n",
    "1. Define the DuckDB SQL query in a Python (f-)`string`\n",
    "   1. Instead of a table name, use the [read_parquet](https://duckdb.org/docs/data/parquet/overview) function\n",
    "   2. Point `read_parquet` to the directory containing the parking meter data\n",
    "   3. Use a [glob](https://en.wikipedia.org/wiki/Glob_%28programming%29) to specify all the `.parquet` files in the directory\n",
    "2. Run the query and use the `.to_df()` method to convert the result of the query to a pandas DataFrame\n",
    "3. Display the DataFrame\n",
    "\n",
    "**Note:** the documentation refers to `.df()` rather than `.to_df()`, so later versions may have simplified this method"
   ]
  },
  {
   "cell_type": "code",
   "execution_count": 6,
   "id": "ee40fa525a361c79",
   "metadata": {
    "ExecuteTime": {
     "end_time": "2024-02-18T23:34:21.794640Z",
     "start_time": "2024-02-18T23:34:21.738471Z"
    },
    "collapsed": false
   },
   "outputs": [
    {
     "data": {
      "text/html": [
       "<div>\n",
       "<style scoped>\n",
       "    .dataframe tbody tr th:only-of-type {\n",
       "        vertical-align: middle;\n",
       "    }\n",
       "\n",
       "    .dataframe tbody tr th {\n",
       "        vertical-align: top;\n",
       "    }\n",
       "\n",
       "    .dataframe thead th {\n",
       "        text-align: right;\n",
       "    }\n",
       "</style>\n",
       "<table border=\"1\" class=\"dataframe\">\n",
       "  <thead>\n",
       "    <tr style=\"text-align: right;\">\n",
       "      <th></th>\n",
       "      <th>column_name</th>\n",
       "      <th>column_type</th>\n",
       "      <th>null</th>\n",
       "      <th>key</th>\n",
       "      <th>default</th>\n",
       "      <th>extra</th>\n",
       "    </tr>\n",
       "  </thead>\n",
       "  <tbody>\n",
       "    <tr>\n",
       "      <th>0</th>\n",
       "      <td>transmission_datetime</td>\n",
       "      <td>VARCHAR</td>\n",
       "      <td>YES</td>\n",
       "      <td>None</td>\n",
       "      <td>None</td>\n",
       "      <td>None</td>\n",
       "    </tr>\n",
       "    <tr>\n",
       "      <th>1</th>\n",
       "      <td>post_id</td>\n",
       "      <td>VARCHAR</td>\n",
       "      <td>YES</td>\n",
       "      <td>None</td>\n",
       "      <td>None</td>\n",
       "      <td>None</td>\n",
       "    </tr>\n",
       "    <tr>\n",
       "      <th>2</th>\n",
       "      <td>street_block</td>\n",
       "      <td>VARCHAR</td>\n",
       "      <td>YES</td>\n",
       "      <td>None</td>\n",
       "      <td>None</td>\n",
       "      <td>None</td>\n",
       "    </tr>\n",
       "    <tr>\n",
       "      <th>3</th>\n",
       "      <td>payment_type</td>\n",
       "      <td>VARCHAR</td>\n",
       "      <td>YES</td>\n",
       "      <td>None</td>\n",
       "      <td>None</td>\n",
       "      <td>None</td>\n",
       "    </tr>\n",
       "    <tr>\n",
       "      <th>4</th>\n",
       "      <td>session_start_dt</td>\n",
       "      <td>VARCHAR</td>\n",
       "      <td>YES</td>\n",
       "      <td>None</td>\n",
       "      <td>None</td>\n",
       "      <td>None</td>\n",
       "    </tr>\n",
       "    <tr>\n",
       "      <th>5</th>\n",
       "      <td>session_end_dt</td>\n",
       "      <td>VARCHAR</td>\n",
       "      <td>YES</td>\n",
       "      <td>None</td>\n",
       "      <td>None</td>\n",
       "      <td>None</td>\n",
       "    </tr>\n",
       "    <tr>\n",
       "      <th>6</th>\n",
       "      <td>meter_event_type</td>\n",
       "      <td>VARCHAR</td>\n",
       "      <td>YES</td>\n",
       "      <td>None</td>\n",
       "      <td>None</td>\n",
       "      <td>None</td>\n",
       "    </tr>\n",
       "    <tr>\n",
       "      <th>7</th>\n",
       "      <td>gross_paid_amt</td>\n",
       "      <td>VARCHAR</td>\n",
       "      <td>YES</td>\n",
       "      <td>None</td>\n",
       "      <td>None</td>\n",
       "      <td>None</td>\n",
       "    </tr>\n",
       "  </tbody>\n",
       "</table>\n",
       "</div>"
      ],
      "text/plain": [
       "             column_name column_type null   key default extra\n",
       "0  transmission_datetime     VARCHAR  YES  None    None  None\n",
       "1                post_id     VARCHAR  YES  None    None  None\n",
       "2           street_block     VARCHAR  YES  None    None  None\n",
       "3           payment_type     VARCHAR  YES  None    None  None\n",
       "4       session_start_dt     VARCHAR  YES  None    None  None\n",
       "5         session_end_dt     VARCHAR  YES  None    None  None\n",
       "6       meter_event_type     VARCHAR  YES  None    None  None\n",
       "7         gross_paid_amt     VARCHAR  YES  None    None  None"
      ]
     },
     "execution_count": 6,
     "metadata": {},
     "output_type": "execute_result"
    }
   ],
   "source": [
    "query = f\"describe select * from read_parquet('{meter_data_dir}/*.parquet');\"\n",
    "columns_df = duckdb.sql(query).to_df()\n",
    "columns_df"
   ]
  },
  {
   "cell_type": "markdown",
   "id": "3b066548476cc02d",
   "metadata": {
    "collapsed": false
   },
   "source": [
    "There are 8 [varchar](https://en.wikipedia.org/wiki/Varchar) columns. We can use a standard `select * from table limit 1` query to inspect a single row of the data and learn what the columns contain\n",
    "\n",
    "**Note:** Since every column is a `varchar` *string* instead of a specialized type like `timestamp` or `double`, we need to `cast()` the varchar to the desired type in every query\n",
    " \n",
    "I expect this to result in a performance hit since we are likely doing the same `cast()` repeatedly on the same data. We could `cast()` once and save the data to memory or disk, but that also may be prohibitive depending on the size of the dataset and resources available\n",
    " \n",
    "The performance of `cast()` in every query was sufficient for this analysis"
   ]
  },
  {
   "cell_type": "code",
   "execution_count": 7,
   "id": "761f5039f8f9f9a5",
   "metadata": {
    "ExecuteTime": {
     "end_time": "2024-02-18T23:34:22.190462Z",
     "start_time": "2024-02-18T23:34:21.745995Z"
    },
    "collapsed": false
   },
   "outputs": [
    {
     "data": {
      "text/html": [
       "<div>\n",
       "<style scoped>\n",
       "    .dataframe tbody tr th:only-of-type {\n",
       "        vertical-align: middle;\n",
       "    }\n",
       "\n",
       "    .dataframe tbody tr th {\n",
       "        vertical-align: top;\n",
       "    }\n",
       "\n",
       "    .dataframe thead th {\n",
       "        text-align: right;\n",
       "    }\n",
       "</style>\n",
       "<table border=\"1\" class=\"dataframe\">\n",
       "  <thead>\n",
       "    <tr style=\"text-align: right;\">\n",
       "      <th></th>\n",
       "      <th>transmission_datetime</th>\n",
       "      <th>post_id</th>\n",
       "      <th>street_block</th>\n",
       "      <th>payment_type</th>\n",
       "      <th>session_start_dt</th>\n",
       "      <th>session_end_dt</th>\n",
       "      <th>meter_event_type</th>\n",
       "      <th>gross_paid_amt</th>\n",
       "    </tr>\n",
       "  </thead>\n",
       "  <tbody>\n",
       "    <tr>\n",
       "      <th>0</th>\n",
       "      <td>112784135_4_01012017000836</td>\n",
       "      <td>585-02240</td>\n",
       "      <td>NORTH POINT ST 200</td>\n",
       "      <td>CASH</td>\n",
       "      <td>2017-01-01T00:08:36.000</td>\n",
       "      <td>2017-01-01T00:08:36.000</td>\n",
       "      <td>NS</td>\n",
       "      <td>0.5</td>\n",
       "    </tr>\n",
       "  </tbody>\n",
       "</table>\n",
       "</div>"
      ],
      "text/plain": [
       "        transmission_datetime    post_id        street_block payment_type  \\\n",
       "0  112784135_4_01012017000836  585-02240  NORTH POINT ST 200         CASH   \n",
       "\n",
       "          session_start_dt           session_end_dt meter_event_type  \\\n",
       "0  2017-01-01T00:08:36.000  2017-01-01T00:08:36.000               NS   \n",
       "\n",
       "  gross_paid_amt  \n",
       "0            0.5  "
      ]
     },
     "execution_count": 7,
     "metadata": {},
     "output_type": "execute_result"
    }
   ],
   "source": [
    "query = f\"select * from read_parquet('{meter_data_dir}/*.parquet') limit 1;\"\n",
    "a_row_df = duckdb.sql(query).to_df()\n",
    "a_row_df"
   ]
  },
  {
   "cell_type": "markdown",
   "id": "d8dfb0cbff43425b",
   "metadata": {
    "collapsed": false
   },
   "source": [
    "Now we can see what we're dealing with in the parking meter data! Note that the DataSF link above has simple descriptions of the columns\n",
    "\n",
    "1. `transmission_datetime = 1044369491_9_01032023131055`\n",
    "    1. Using context clues from other columns, we can determine\n",
    "    2. The 3rd section of the string seems to start with a date\n",
    "        1. `01` month\n",
    "        2. `03` day\n",
    "        3. `2023` year\n",
    "    3. Then there's a time\n",
    "        1. `13` hour\n",
    "        2. `10` minute\n",
    "        3. `55` second\n",
    "    4. The first section of the string may be more of a transaction number?\n",
    "        1. If so, this column looks like the only unique identifier\n",
    "2. `post_id = 722-28260`\n",
    "    1. This is a unique identifier for the parking meter\n",
    "    2. We may want to `group by` this column to compare revenue of different parking meters\n",
    "3. `street_block = WEBSTER ST 2800`\n",
    "    1. This is the street name and block of the parking meter\n",
    "4. `payment_type = PAY BY CELL`\n",
    "    1. Obviously this is the payment type of the transaction\n",
    "    2. We may want to do a `group by` on this column to compare revenue from different payment methods\n",
    "5. `session_start_dt = 2023-01-03T13:10:55.000`\n",
    "    1. The starting datetime of the parking meter session\n",
    "    2. Note that this is the same datetime we see in the first column, `transmission_datetime`\n",
    "6. `session_end_dt = 2023-01-03T14:10:55.000`\n",
    "    1. The ending datetime of the parking meter session\n",
    "    2. This would have been nice to compare the durations of parking meter payments\n",
    "    3. However, this column was never used in analysis\n",
    "7. `meter_event_type = NS`\n",
    "    1. Parking meter event type including:\n",
    "        1. `NS = new session`\n",
    "        2. `AT = additional time`\n",
    "        3. `SC = status change`\n",
    "    2. This column was not used in analysis\n",
    "8. `gross_paid_amt = 6.75`\n",
    "    1. Amount paid to the parking meter by the customer\n",
    "    2. This column is the most interesting and is the basis for most of the analysis\n",
    "\n",
    "Cool, we have a much better understanding of the parking meter data!\n",
    "\n",
    "Let's see the datetime range of the dataset. We'll look at:\n",
    "\n",
    "`min(session_start_dt::timestamp) as first_start_ts`, the minimum session starting datetime as the beginning of the dataset and\n",
    "\n",
    "`max(session_start_dt::timestamp) as last_start_ts`, the maximum session starting datetime as the end of the dataset\n",
    "\n",
    "**Note:** notice the `::timestamp` cast as mentioned above"
   ]
  },
  {
   "cell_type": "code",
   "execution_count": 8,
   "id": "2f02f61505f727cd",
   "metadata": {
    "ExecuteTime": {
     "end_time": "2024-02-18T23:34:23.552530Z",
     "start_time": "2024-02-18T23:34:22.193014Z"
    },
    "collapsed": false
   },
   "outputs": [
    {
     "data": {
      "text/html": [
       "<div>\n",
       "<style scoped>\n",
       "    .dataframe tbody tr th:only-of-type {\n",
       "        vertical-align: middle;\n",
       "    }\n",
       "\n",
       "    .dataframe tbody tr th {\n",
       "        vertical-align: top;\n",
       "    }\n",
       "\n",
       "    .dataframe thead th {\n",
       "        text-align: right;\n",
       "    }\n",
       "</style>\n",
       "<table border=\"1\" class=\"dataframe\">\n",
       "  <thead>\n",
       "    <tr style=\"text-align: right;\">\n",
       "      <th></th>\n",
       "      <th>first_start_ts</th>\n",
       "      <th>last_start_ts</th>\n",
       "    </tr>\n",
       "  </thead>\n",
       "  <tbody>\n",
       "    <tr>\n",
       "      <th>0</th>\n",
       "      <td>2017-01-01 00:08:36</td>\n",
       "      <td>2023-12-16 22:38:27</td>\n",
       "    </tr>\n",
       "  </tbody>\n",
       "</table>\n",
       "</div>"
      ],
      "text/plain": [
       "       first_start_ts       last_start_ts\n",
       "0 2017-01-01 00:08:36 2023-12-16 22:38:27"
      ]
     },
     "execution_count": 8,
     "metadata": {},
     "output_type": "execute_result"
    }
   ],
   "source": [
    "query = f\"\"\"select\n",
    "min(session_start_dt::timestamp) as first_start_ts,\n",
    "max(session_start_dt::timestamp) as last_start_ts\n",
    "from read_parquet('{meter_data_dir}/*.parquet');\"\"\"\n",
    "first_last_start_df = duckdb.sql(query).to_df()\n",
    "first_last_start_df"
   ]
  },
  {
   "cell_type": "markdown",
   "id": "78270eb8f4262300",
   "metadata": {
    "collapsed": false
   },
   "source": [
    "The dataset started on January 1st, 2017 at 12:08:36 AM and the most recent entry as of this writing is December 16th, 2023 at 10:38:27 PM\n",
    "\n",
    "Nearly 6 years, that's a lot of parking meter transactions!\n",
    "\n",
    "But how many? Great question, let's find out by counting the number of rows / entries in the dataset:"
   ]
  },
  {
   "cell_type": "code",
   "execution_count": 9,
   "id": "f3daaddf53d790af",
   "metadata": {
    "ExecuteTime": {
     "end_time": "2024-02-18T23:34:23.565547Z",
     "start_time": "2024-02-18T23:34:23.551958Z"
    },
    "collapsed": false
   },
   "outputs": [
    {
     "data": {
      "text/html": [
       "<div>\n",
       "<style scoped>\n",
       "    .dataframe tbody tr th:only-of-type {\n",
       "        vertical-align: middle;\n",
       "    }\n",
       "\n",
       "    .dataframe tbody tr th {\n",
       "        vertical-align: top;\n",
       "    }\n",
       "\n",
       "    .dataframe thead th {\n",
       "        text-align: right;\n",
       "    }\n",
       "</style>\n",
       "<table border=\"1\" class=\"dataframe\">\n",
       "  <thead>\n",
       "    <tr style=\"text-align: right;\">\n",
       "      <th></th>\n",
       "      <th>count_rows</th>\n",
       "    </tr>\n",
       "  </thead>\n",
       "  <tbody>\n",
       "    <tr>\n",
       "      <th>0</th>\n",
       "      <td>167449468</td>\n",
       "    </tr>\n",
       "  </tbody>\n",
       "</table>\n",
       "</div>"
      ],
      "text/plain": [
       "   count_rows\n",
       "0   167449468"
      ]
     },
     "execution_count": 9,
     "metadata": {},
     "output_type": "execute_result"
    }
   ],
   "source": [
    "query = f\"select count(*) as count_rows from read_parquet('{meter_data_dir}/*.parquet');\"\n",
    "count_rows_df = duckdb.sql(query).to_df()\n",
    "count_rows_df"
   ]
  },
  {
   "cell_type": "markdown",
   "id": "d7034f64cc7534ca",
   "metadata": {
    "collapsed": false
   },
   "source": [
    "Wow, there are 167,449,468 parking meter transactions in the 6 years of records! If we assume a constant number of transactions per year, that would be over 27 million transactions per year\n",
    "\n",
    "One of the most important (and least glorious) aspects of working with data is *cleaning* it. We can try and learn a little bit about the data and combine it with our intuition in order to know which data is trustworthy and which is not. This can be things like duplicate data, missing data, or outliers\n",
    "\n",
    "We might expect all parking meter transactions to be positive since we generally don't get paid *by* meters to park, so let's see if there are any negative transaction amounts and if so, how many\n",
    "\n",
    "**Note:** notice the `gross_paid_amt` column is cast to `double`"
   ]
  },
  {
   "cell_type": "code",
   "execution_count": 10,
   "id": "f5a903f9727ab9be",
   "metadata": {
    "ExecuteTime": {
     "end_time": "2024-02-18T23:34:24.544622Z",
     "start_time": "2024-02-18T23:34:23.565476Z"
    },
    "collapsed": false
   },
   "outputs": [
    {
     "data": {
      "text/html": [
       "<div>\n",
       "<style scoped>\n",
       "    .dataframe tbody tr th:only-of-type {\n",
       "        vertical-align: middle;\n",
       "    }\n",
       "\n",
       "    .dataframe tbody tr th {\n",
       "        vertical-align: top;\n",
       "    }\n",
       "\n",
       "    .dataframe thead th {\n",
       "        text-align: right;\n",
       "    }\n",
       "</style>\n",
       "<table border=\"1\" class=\"dataframe\">\n",
       "  <thead>\n",
       "    <tr style=\"text-align: right;\">\n",
       "      <th></th>\n",
       "      <th>count_rows</th>\n",
       "    </tr>\n",
       "  </thead>\n",
       "  <tbody>\n",
       "    <tr>\n",
       "      <th>0</th>\n",
       "      <td>8</td>\n",
       "    </tr>\n",
       "  </tbody>\n",
       "</table>\n",
       "</div>"
      ],
      "text/plain": [
       "   count_rows\n",
       "0           8"
      ]
     },
     "execution_count": 10,
     "metadata": {},
     "output_type": "execute_result"
    }
   ],
   "source": [
    "query = f\"\"\"select count(gross_paid_amt) as count_rows\n",
    "from read_parquet('{meter_data_dir}/*.parquet')\n",
    "where gross_paid_amt::double < {negative_amount_thresh};\"\"\"\n",
    "count_negative_amount_df = duckdb.sql(query).df()\n",
    "count_negative_amount_df"
   ]
  },
  {
   "cell_type": "markdown",
   "id": "bb34ceb36cacc4f0",
   "metadata": {
    "collapsed": false
   },
   "source": [
    "There are only 8 (out of 167 million) records that have negative dollar amounts. That's a very small percentage, so it is unlikely to meaningfully affect our analysis (we could look at the actual amounts to estimate their affect), but we'll still filter them out\n",
    "\n",
    "We might expect parking meter transaction amounts to have a reasonable upper limit. We chose a threshold of $30 in the user variables section above, which feels like it should cover the range *normal* parking meter transactions\n",
    "\n",
    "Let's see how many transactions are greater than our upper threshold"
   ]
  },
  {
   "cell_type": "code",
   "execution_count": 11,
   "id": "cc105331b50a807c",
   "metadata": {
    "ExecuteTime": {
     "end_time": "2024-02-18T23:34:25.558796Z",
     "start_time": "2024-02-18T23:34:24.543688Z"
    },
    "collapsed": false
   },
   "outputs": [
    {
     "data": {
      "text/html": [
       "<div>\n",
       "<style scoped>\n",
       "    .dataframe tbody tr th:only-of-type {\n",
       "        vertical-align: middle;\n",
       "    }\n",
       "\n",
       "    .dataframe tbody tr th {\n",
       "        vertical-align: top;\n",
       "    }\n",
       "\n",
       "    .dataframe thead th {\n",
       "        text-align: right;\n",
       "    }\n",
       "</style>\n",
       "<table border=\"1\" class=\"dataframe\">\n",
       "  <thead>\n",
       "    <tr style=\"text-align: right;\">\n",
       "      <th></th>\n",
       "      <th>count_rows</th>\n",
       "    </tr>\n",
       "  </thead>\n",
       "  <tbody>\n",
       "    <tr>\n",
       "      <th>0</th>\n",
       "      <td>145363</td>\n",
       "    </tr>\n",
       "  </tbody>\n",
       "</table>\n",
       "</div>"
      ],
      "text/plain": [
       "   count_rows\n",
       "0      145363"
      ]
     },
     "execution_count": 11,
     "metadata": {},
     "output_type": "execute_result"
    }
   ],
   "source": [
    "query = f\"\"\"select count(gross_paid_amt) as count_rows\n",
    "from read_parquet('{meter_data_dir}/*.parquet')\n",
    "where gross_paid_amt::double > {large_amount_thresh};\"\"\"\n",
    "count_large_amount_df = duckdb.sql(query).df()\n",
    "count_large_amount_df"
   ]
  },
  {
   "cell_type": "markdown",
   "id": "4d6421bebc2fe2b0",
   "metadata": {
    "collapsed": false
   },
   "source": [
    "There are 145,363 transactions over $30 in the dataset, significantly more than the negative transactions! It would be nice to understand these better, but for this analysis we'll just filter them out\n",
    "\n",
    "Let's focus on transactions in 2023 and see how many there were. We'll:\n",
    "\n",
    "1. Cast the session start `varchar` to a `date`\n",
    "2. Take the `year()` of the `date`\n",
    "3. Filter where `year()` is 2023\n",
    "4. Filter where transactions are between 0 and 30 (inclusive)\n",
    "5. `group by` the year so we can `count()` the number of payments\n",
    "    1. In a future version, I would put `year(session_start_dt::date)` in the `where` so I could drop the `group by`"
   ]
  },
  {
   "cell_type": "code",
   "execution_count": 12,
   "id": "b23f39259c7a1a32",
   "metadata": {
    "ExecuteTime": {
     "end_time": "2024-02-18T23:34:27.184182Z",
     "start_time": "2024-02-18T23:34:25.559613Z"
    },
    "collapsed": false
   },
   "outputs": [
    {
     "data": {
      "text/html": [
       "<div>\n",
       "<style scoped>\n",
       "    .dataframe tbody tr th:only-of-type {\n",
       "        vertical-align: middle;\n",
       "    }\n",
       "\n",
       "    .dataframe tbody tr th {\n",
       "        vertical-align: top;\n",
       "    }\n",
       "\n",
       "    .dataframe thead th {\n",
       "        text-align: right;\n",
       "    }\n",
       "</style>\n",
       "<table border=\"1\" class=\"dataframe\">\n",
       "  <thead>\n",
       "    <tr style=\"text-align: right;\">\n",
       "      <th></th>\n",
       "      <th>year</th>\n",
       "      <th>count_payments</th>\n",
       "    </tr>\n",
       "  </thead>\n",
       "  <tbody>\n",
       "    <tr>\n",
       "      <th>0</th>\n",
       "      <td>2023</td>\n",
       "      <td>17478748</td>\n",
       "    </tr>\n",
       "  </tbody>\n",
       "</table>\n",
       "</div>"
      ],
      "text/plain": [
       "   year  count_payments\n",
       "0  2023        17478748"
      ]
     },
     "execution_count": 12,
     "metadata": {},
     "output_type": "execute_result"
    }
   ],
   "source": [
    "query = f\"\"\"\n",
    "select year(session_start_dt::date) as year, count(gross_paid_amt) as count_payments\n",
    "from read_parquet('{meter_data_dir}/*.parquet') as data_t\n",
    "where year = 2023\n",
    "and gross_paid_amt::double between {negative_amount_thresh} and {large_amount_thresh}\n",
    "group by year;\n",
    "\"\"\"\n",
    "payment_count_2023_df = duckdb.sql(query).to_df()\n",
    "payment_count_2023_df"
   ]
  },
  {
   "cell_type": "markdown",
   "id": "e8caa8bc8f1c2e97",
   "metadata": {
    "collapsed": false
   },
   "source": [
    "There were 17,478,748 parking meter transactions in 2023. Although the year wasn't quite over, that is significantly lower than the 27 million transactions per year we estimated above\n",
    "\n",
    "How much revenue did these 17 million transactions generate?\n",
    "\n",
    "1. Start with the previous query\n",
    "2. Instead of counting the number of transaction amounts\n",
    "    1. Sum the amount paid (cast to `double`)"
   ]
  },
  {
   "cell_type": "code",
   "execution_count": 13,
   "id": "276a93e2caa04402",
   "metadata": {
    "ExecuteTime": {
     "end_time": "2024-02-18T23:34:28.966300Z",
     "start_time": "2024-02-18T23:34:27.183709Z"
    },
    "collapsed": false
   },
   "outputs": [
    {
     "data": {
      "text/html": [
       "<div>\n",
       "<style scoped>\n",
       "    .dataframe tbody tr th:only-of-type {\n",
       "        vertical-align: middle;\n",
       "    }\n",
       "\n",
       "    .dataframe tbody tr th {\n",
       "        vertical-align: top;\n",
       "    }\n",
       "\n",
       "    .dataframe thead th {\n",
       "        text-align: right;\n",
       "    }\n",
       "</style>\n",
       "<table border=\"1\" class=\"dataframe\">\n",
       "  <thead>\n",
       "    <tr style=\"text-align: right;\">\n",
       "      <th></th>\n",
       "      <th>year</th>\n",
       "      <th>sum_amount_paid</th>\n",
       "    </tr>\n",
       "  </thead>\n",
       "  <tbody>\n",
       "    <tr>\n",
       "      <th>0</th>\n",
       "      <td>2023</td>\n",
       "      <td>4.727701e+07</td>\n",
       "    </tr>\n",
       "  </tbody>\n",
       "</table>\n",
       "</div>"
      ],
      "text/plain": [
       "   year  sum_amount_paid\n",
       "0  2023     4.727701e+07"
      ]
     },
     "execution_count": 13,
     "metadata": {},
     "output_type": "execute_result"
    }
   ],
   "source": [
    "query = f\"\"\"\n",
    "select year(session_start_dt::date) as year, sum(gross_paid_amt::double) as sum_amount_paid\n",
    "from read_parquet('{meter_data_dir}/*.parquet') as data_t\n",
    "where year = 2023\n",
    "and gross_paid_amt::double between {negative_amount_thresh} and {large_amount_thresh}\n",
    "group by year;\n",
    "\"\"\"\n",
    "amount_sum_2023_df = duckdb.sql(query).to_df()\n",
    "amount_sum_2023_df"
   ]
  },
  {
   "cell_type": "markdown",
   "id": "89fd1439637e9bf0",
   "metadata": {
    "collapsed": false
   },
   "source": [
    "Wow, over $47M was collected in parking meter transactions! That's a solid business!\n",
    "\n",
    "Above, we noted that the payment method is present in the table. Let's take a look by doing a `group by` on `payment_type` "
   ]
  },
  {
   "cell_type": "code",
   "execution_count": 14,
   "id": "350ebfeae8282d91",
   "metadata": {
    "ExecuteTime": {
     "end_time": "2024-02-18T23:34:31.360023Z",
     "start_time": "2024-02-18T23:34:28.952876Z"
    },
    "collapsed": false
   },
   "outputs": [
    {
     "data": {
      "text/html": [
       "<div>\n",
       "<style scoped>\n",
       "    .dataframe tbody tr th:only-of-type {\n",
       "        vertical-align: middle;\n",
       "    }\n",
       "\n",
       "    .dataframe tbody tr th {\n",
       "        vertical-align: top;\n",
       "    }\n",
       "\n",
       "    .dataframe thead th {\n",
       "        text-align: right;\n",
       "    }\n",
       "</style>\n",
       "<table border=\"1\" class=\"dataframe\">\n",
       "  <thead>\n",
       "    <tr style=\"text-align: right;\">\n",
       "      <th></th>\n",
       "      <th>payment_type</th>\n",
       "      <th>sum_amount_paid</th>\n",
       "    </tr>\n",
       "  </thead>\n",
       "  <tbody>\n",
       "    <tr>\n",
       "      <th>0</th>\n",
       "      <td>CASH</td>\n",
       "      <td>3.631406e+06</td>\n",
       "    </tr>\n",
       "    <tr>\n",
       "      <th>1</th>\n",
       "      <td>CREDIT CARD</td>\n",
       "      <td>2.822013e+07</td>\n",
       "    </tr>\n",
       "    <tr>\n",
       "      <th>2</th>\n",
       "      <td>PAY BY CELL</td>\n",
       "      <td>1.520821e+07</td>\n",
       "    </tr>\n",
       "    <tr>\n",
       "      <th>3</th>\n",
       "      <td>SMART CARD</td>\n",
       "      <td>2.172594e+05</td>\n",
       "    </tr>\n",
       "  </tbody>\n",
       "</table>\n",
       "</div>"
      ],
      "text/plain": [
       "  payment_type  sum_amount_paid\n",
       "0         CASH     3.631406e+06\n",
       "1  CREDIT CARD     2.822013e+07\n",
       "2  PAY BY CELL     1.520821e+07\n",
       "3   SMART CARD     2.172594e+05"
      ]
     },
     "execution_count": 14,
     "metadata": {},
     "output_type": "execute_result"
    }
   ],
   "source": [
    "query = f\"\"\"\n",
    "select payment_type, sum(gross_paid_amt::double) as sum_amount_paid\n",
    "from read_parquet('{meter_data_dir}/*.parquet') as data_t\n",
    "where year(session_start_dt::date) = 2023\n",
    "and gross_paid_amt::double between {negative_amount_thresh} and {large_amount_thresh}\n",
    "group by payment_type\n",
    "order by payment_type\n",
    "\"\"\"\n",
    "amount_type_2023_df = duckdb.sql(query).to_df()\n",
    "amount_type_2023_df"
   ]
  },
  {
   "cell_type": "markdown",
   "id": "11e6bb51a4d1b1b6",
   "metadata": {
    "collapsed": false
   },
   "source": [
    "It looks like there are 4 payment methods in the dataset:\n",
    "\n",
    "1. Cash: &#36;3.6M\n",
    "2. Credit card: &#36;28M\n",
    "3. Pay by cell phone: &#36;15M\n",
    "4. Smart card: &#36;217k\n",
    "\n",
    "Credit cards were the most common payment method at &#36;28M followed by pay by cell phone around half that at &#36;15M. Cash was an order of magnitude lower at &#36;3.6M and a legacy payment method called smart card was another order of magnitude lower at &#36;217k\n",
    "\n",
    "If we get these numbers as a fraction of the total, we can build a nice pie or donut chart for our infographic!\n",
    "\n",
    "Here we do some manipulation of the *pandas DataFrame* saved above in order to generate the fractions of the whole (aka percentages). In hindsight this was a little bit of a strange decision since we did all of our previous data manipulation in *DuckDB* / *SQL*\n",
    "\n",
    "1. Create a Python dictionary with keys of payment method and the aggregate sum of the payment amounts\n",
    "    1. For simplicity, the legacy smart cards are lumped in with credit cards\n",
    "2. Create a *pandas DataFrame* from the dictionary, rename and reindex\n",
    "3. Create a new `fraction` column in the DataFrame\n",
    "4. Set the `fraction` column to the amount paid per transaction method over the total of all transaction amounts "
   ]
  },
  {
   "cell_type": "code",
   "execution_count": 15,
   "id": "497237047b8f25a5",
   "metadata": {
    "ExecuteTime": {
     "end_time": "2024-02-18T23:34:31.369357Z",
     "start_time": "2024-02-18T23:34:31.364327Z"
    },
    "collapsed": false
   },
   "outputs": [
    {
     "data": {
      "text/html": [
       "<div>\n",
       "<style scoped>\n",
       "    .dataframe tbody tr th:only-of-type {\n",
       "        vertical-align: middle;\n",
       "    }\n",
       "\n",
       "    .dataframe tbody tr th {\n",
       "        vertical-align: top;\n",
       "    }\n",
       "\n",
       "    .dataframe thead th {\n",
       "        text-align: right;\n",
       "    }\n",
       "</style>\n",
       "<table border=\"1\" class=\"dataframe\">\n",
       "  <thead>\n",
       "    <tr style=\"text-align: right;\">\n",
       "      <th></th>\n",
       "      <th>index</th>\n",
       "      <th>sum_amount_paid</th>\n",
       "      <th>payment_type</th>\n",
       "      <th>fraction</th>\n",
       "    </tr>\n",
       "  </thead>\n",
       "  <tbody>\n",
       "    <tr>\n",
       "      <th>0</th>\n",
       "      <td>CASH</td>\n",
       "      <td>3.631406e+06</td>\n",
       "      <td>CASH</td>\n",
       "      <td>0.076811</td>\n",
       "    </tr>\n",
       "    <tr>\n",
       "      <th>1</th>\n",
       "      <td>CREDIT CARD</td>\n",
       "      <td>2.843739e+07</td>\n",
       "      <td>CREDIT CARD</td>\n",
       "      <td>0.601506</td>\n",
       "    </tr>\n",
       "    <tr>\n",
       "      <th>2</th>\n",
       "      <td>PAY BY CELL</td>\n",
       "      <td>1.520821e+07</td>\n",
       "      <td>PAY BY CELL</td>\n",
       "      <td>0.321683</td>\n",
       "    </tr>\n",
       "  </tbody>\n",
       "</table>\n",
       "</div>"
      ],
      "text/plain": [
       "         index  sum_amount_paid payment_type  fraction\n",
       "0         CASH     3.631406e+06         CASH  0.076811\n",
       "1  CREDIT CARD     2.843739e+07  CREDIT CARD  0.601506\n",
       "2  PAY BY CELL     1.520821e+07  PAY BY CELL  0.321683"
      ]
     },
     "execution_count": 15,
     "metadata": {},
     "output_type": "execute_result"
    }
   ],
   "source": [
    "amount_type_2023_dict = {\n",
    "    \"CASH\": amount_type_2023_df[amount_type_2023_df.payment_type == \"CASH\"].iloc[0].sum_amount_paid,\n",
    "    \"CREDIT CARD\": amount_type_2023_df[amount_type_2023_df.payment_type == \"CREDIT CARD\"].iloc[0].sum_amount_paid + \\\n",
    "                   amount_type_2023_df[amount_type_2023_df.payment_type == \"SMART CARD\"].iloc[0].sum_amount_paid,\n",
    "    \"PAY BY CELL\": amount_type_2023_df[amount_type_2023_df.payment_type == \"PAY BY CELL\"].iloc[0].sum_amount_paid,\n",
    "}\n",
    "amount_type_2023_df = pd.DataFrame.from_dict(amount_type_2023_dict, orient=\"index\")\n",
    "amount_type_2023_df = amount_type_2023_df.rename(columns={0: \"sum_amount_paid\"})\n",
    "amount_type_2023_df[\"payment_type\"] = amount_type_2023_df.index\n",
    "amount_type_2023_df = amount_type_2023_df.reset_index()\n",
    "amount_type_2023_df[\"fraction\"] = amount_type_2023_df.sum_amount_paid / amount_type_2023_df.sum_amount_paid.sum()\n",
    "amount_type_2023_df"
   ]
  },
  {
   "cell_type": "markdown",
   "id": "3b52e825e4d11fa8",
   "metadata": {
    "collapsed": false
   },
   "source": [
    "Nice, we can see credit card was 60% of transactions by dollar amount, pay by cell phone was 32% by amount, and cash was just 7.7% by amount\n",
    "\n",
    "Let's see a pie chart of this data using *Plotly Express*"
   ]
  },
  {
   "cell_type": "code",
   "execution_count": 16,
   "id": "8e1c7ae2ce33a14d",
   "metadata": {
    "ExecuteTime": {
     "end_time": "2024-02-18T23:34:31.700126Z",
     "start_time": "2024-02-18T23:34:31.368270Z"
    },
    "collapsed": false
   },
   "outputs": [
    {
     "data": {
      "application/vnd.plotly.v1+json": {
       "config": {
        "plotlyServerURL": "https://plot.ly"
       },
       "data": [
        {
         "domain": {
          "x": [
           0,
           1
          ],
          "y": [
           0,
           1
          ]
         },
         "hovertemplate": "sum_amount_paid=%{value}<extra></extra>",
         "legendgroup": "",
         "name": "",
         "showlegend": false,
         "textinfo": "none",
         "textposition": "inside",
         "type": "pie",
         "values": [
          3631405.779997846,
          28437385.119983576,
          15208214.409976231
         ]
        }
       ],
       "layout": {
        "legend": {
         "tracegroupgap": 0
        },
        "margin": {
         "t": 60
        },
        "template": {
         "data": {
          "bar": [
           {
            "error_x": {
             "color": "#2a3f5f"
            },
            "error_y": {
             "color": "#2a3f5f"
            },
            "marker": {
             "line": {
              "color": "#E5ECF6",
              "width": 0.5
             },
             "pattern": {
              "fillmode": "overlay",
              "size": 10,
              "solidity": 0.2
             }
            },
            "type": "bar"
           }
          ],
          "barpolar": [
           {
            "marker": {
             "line": {
              "color": "#E5ECF6",
              "width": 0.5
             },
             "pattern": {
              "fillmode": "overlay",
              "size": 10,
              "solidity": 0.2
             }
            },
            "type": "barpolar"
           }
          ],
          "carpet": [
           {
            "aaxis": {
             "endlinecolor": "#2a3f5f",
             "gridcolor": "white",
             "linecolor": "white",
             "minorgridcolor": "white",
             "startlinecolor": "#2a3f5f"
            },
            "baxis": {
             "endlinecolor": "#2a3f5f",
             "gridcolor": "white",
             "linecolor": "white",
             "minorgridcolor": "white",
             "startlinecolor": "#2a3f5f"
            },
            "type": "carpet"
           }
          ],
          "choropleth": [
           {
            "colorbar": {
             "outlinewidth": 0,
             "ticks": ""
            },
            "type": "choropleth"
           }
          ],
          "contour": [
           {
            "colorbar": {
             "outlinewidth": 0,
             "ticks": ""
            },
            "colorscale": [
             [
              0,
              "#0d0887"
             ],
             [
              0.1111111111111111,
              "#46039f"
             ],
             [
              0.2222222222222222,
              "#7201a8"
             ],
             [
              0.3333333333333333,
              "#9c179e"
             ],
             [
              0.4444444444444444,
              "#bd3786"
             ],
             [
              0.5555555555555556,
              "#d8576b"
             ],
             [
              0.6666666666666666,
              "#ed7953"
             ],
             [
              0.7777777777777778,
              "#fb9f3a"
             ],
             [
              0.8888888888888888,
              "#fdca26"
             ],
             [
              1,
              "#f0f921"
             ]
            ],
            "type": "contour"
           }
          ],
          "contourcarpet": [
           {
            "colorbar": {
             "outlinewidth": 0,
             "ticks": ""
            },
            "type": "contourcarpet"
           }
          ],
          "heatmap": [
           {
            "colorbar": {
             "outlinewidth": 0,
             "ticks": ""
            },
            "colorscale": [
             [
              0,
              "#0d0887"
             ],
             [
              0.1111111111111111,
              "#46039f"
             ],
             [
              0.2222222222222222,
              "#7201a8"
             ],
             [
              0.3333333333333333,
              "#9c179e"
             ],
             [
              0.4444444444444444,
              "#bd3786"
             ],
             [
              0.5555555555555556,
              "#d8576b"
             ],
             [
              0.6666666666666666,
              "#ed7953"
             ],
             [
              0.7777777777777778,
              "#fb9f3a"
             ],
             [
              0.8888888888888888,
              "#fdca26"
             ],
             [
              1,
              "#f0f921"
             ]
            ],
            "type": "heatmap"
           }
          ],
          "heatmapgl": [
           {
            "colorbar": {
             "outlinewidth": 0,
             "ticks": ""
            },
            "colorscale": [
             [
              0,
              "#0d0887"
             ],
             [
              0.1111111111111111,
              "#46039f"
             ],
             [
              0.2222222222222222,
              "#7201a8"
             ],
             [
              0.3333333333333333,
              "#9c179e"
             ],
             [
              0.4444444444444444,
              "#bd3786"
             ],
             [
              0.5555555555555556,
              "#d8576b"
             ],
             [
              0.6666666666666666,
              "#ed7953"
             ],
             [
              0.7777777777777778,
              "#fb9f3a"
             ],
             [
              0.8888888888888888,
              "#fdca26"
             ],
             [
              1,
              "#f0f921"
             ]
            ],
            "type": "heatmapgl"
           }
          ],
          "histogram": [
           {
            "marker": {
             "pattern": {
              "fillmode": "overlay",
              "size": 10,
              "solidity": 0.2
             }
            },
            "type": "histogram"
           }
          ],
          "histogram2d": [
           {
            "colorbar": {
             "outlinewidth": 0,
             "ticks": ""
            },
            "colorscale": [
             [
              0,
              "#0d0887"
             ],
             [
              0.1111111111111111,
              "#46039f"
             ],
             [
              0.2222222222222222,
              "#7201a8"
             ],
             [
              0.3333333333333333,
              "#9c179e"
             ],
             [
              0.4444444444444444,
              "#bd3786"
             ],
             [
              0.5555555555555556,
              "#d8576b"
             ],
             [
              0.6666666666666666,
              "#ed7953"
             ],
             [
              0.7777777777777778,
              "#fb9f3a"
             ],
             [
              0.8888888888888888,
              "#fdca26"
             ],
             [
              1,
              "#f0f921"
             ]
            ],
            "type": "histogram2d"
           }
          ],
          "histogram2dcontour": [
           {
            "colorbar": {
             "outlinewidth": 0,
             "ticks": ""
            },
            "colorscale": [
             [
              0,
              "#0d0887"
             ],
             [
              0.1111111111111111,
              "#46039f"
             ],
             [
              0.2222222222222222,
              "#7201a8"
             ],
             [
              0.3333333333333333,
              "#9c179e"
             ],
             [
              0.4444444444444444,
              "#bd3786"
             ],
             [
              0.5555555555555556,
              "#d8576b"
             ],
             [
              0.6666666666666666,
              "#ed7953"
             ],
             [
              0.7777777777777778,
              "#fb9f3a"
             ],
             [
              0.8888888888888888,
              "#fdca26"
             ],
             [
              1,
              "#f0f921"
             ]
            ],
            "type": "histogram2dcontour"
           }
          ],
          "mesh3d": [
           {
            "colorbar": {
             "outlinewidth": 0,
             "ticks": ""
            },
            "type": "mesh3d"
           }
          ],
          "parcoords": [
           {
            "line": {
             "colorbar": {
              "outlinewidth": 0,
              "ticks": ""
             }
            },
            "type": "parcoords"
           }
          ],
          "pie": [
           {
            "automargin": true,
            "type": "pie"
           }
          ],
          "scatter": [
           {
            "fillpattern": {
             "fillmode": "overlay",
             "size": 10,
             "solidity": 0.2
            },
            "type": "scatter"
           }
          ],
          "scatter3d": [
           {
            "line": {
             "colorbar": {
              "outlinewidth": 0,
              "ticks": ""
             }
            },
            "marker": {
             "colorbar": {
              "outlinewidth": 0,
              "ticks": ""
             }
            },
            "type": "scatter3d"
           }
          ],
          "scattercarpet": [
           {
            "marker": {
             "colorbar": {
              "outlinewidth": 0,
              "ticks": ""
             }
            },
            "type": "scattercarpet"
           }
          ],
          "scattergeo": [
           {
            "marker": {
             "colorbar": {
              "outlinewidth": 0,
              "ticks": ""
             }
            },
            "type": "scattergeo"
           }
          ],
          "scattergl": [
           {
            "marker": {
             "colorbar": {
              "outlinewidth": 0,
              "ticks": ""
             }
            },
            "type": "scattergl"
           }
          ],
          "scattermapbox": [
           {
            "marker": {
             "colorbar": {
              "outlinewidth": 0,
              "ticks": ""
             }
            },
            "type": "scattermapbox"
           }
          ],
          "scatterpolar": [
           {
            "marker": {
             "colorbar": {
              "outlinewidth": 0,
              "ticks": ""
             }
            },
            "type": "scatterpolar"
           }
          ],
          "scatterpolargl": [
           {
            "marker": {
             "colorbar": {
              "outlinewidth": 0,
              "ticks": ""
             }
            },
            "type": "scatterpolargl"
           }
          ],
          "scatterternary": [
           {
            "marker": {
             "colorbar": {
              "outlinewidth": 0,
              "ticks": ""
             }
            },
            "type": "scatterternary"
           }
          ],
          "surface": [
           {
            "colorbar": {
             "outlinewidth": 0,
             "ticks": ""
            },
            "colorscale": [
             [
              0,
              "#0d0887"
             ],
             [
              0.1111111111111111,
              "#46039f"
             ],
             [
              0.2222222222222222,
              "#7201a8"
             ],
             [
              0.3333333333333333,
              "#9c179e"
             ],
             [
              0.4444444444444444,
              "#bd3786"
             ],
             [
              0.5555555555555556,
              "#d8576b"
             ],
             [
              0.6666666666666666,
              "#ed7953"
             ],
             [
              0.7777777777777778,
              "#fb9f3a"
             ],
             [
              0.8888888888888888,
              "#fdca26"
             ],
             [
              1,
              "#f0f921"
             ]
            ],
            "type": "surface"
           }
          ],
          "table": [
           {
            "cells": {
             "fill": {
              "color": "#EBF0F8"
             },
             "line": {
              "color": "white"
             }
            },
            "header": {
             "fill": {
              "color": "#C8D4E3"
             },
             "line": {
              "color": "white"
             }
            },
            "type": "table"
           }
          ]
         },
         "layout": {
          "annotationdefaults": {
           "arrowcolor": "#2a3f5f",
           "arrowhead": 0,
           "arrowwidth": 1
          },
          "autotypenumbers": "strict",
          "coloraxis": {
           "colorbar": {
            "outlinewidth": 0,
            "ticks": ""
           }
          },
          "colorscale": {
           "diverging": [
            [
             0,
             "#8e0152"
            ],
            [
             0.1,
             "#c51b7d"
            ],
            [
             0.2,
             "#de77ae"
            ],
            [
             0.3,
             "#f1b6da"
            ],
            [
             0.4,
             "#fde0ef"
            ],
            [
             0.5,
             "#f7f7f7"
            ],
            [
             0.6,
             "#e6f5d0"
            ],
            [
             0.7,
             "#b8e186"
            ],
            [
             0.8,
             "#7fbc41"
            ],
            [
             0.9,
             "#4d9221"
            ],
            [
             1,
             "#276419"
            ]
           ],
           "sequential": [
            [
             0,
             "#0d0887"
            ],
            [
             0.1111111111111111,
             "#46039f"
            ],
            [
             0.2222222222222222,
             "#7201a8"
            ],
            [
             0.3333333333333333,
             "#9c179e"
            ],
            [
             0.4444444444444444,
             "#bd3786"
            ],
            [
             0.5555555555555556,
             "#d8576b"
            ],
            [
             0.6666666666666666,
             "#ed7953"
            ],
            [
             0.7777777777777778,
             "#fb9f3a"
            ],
            [
             0.8888888888888888,
             "#fdca26"
            ],
            [
             1,
             "#f0f921"
            ]
           ],
           "sequentialminus": [
            [
             0,
             "#0d0887"
            ],
            [
             0.1111111111111111,
             "#46039f"
            ],
            [
             0.2222222222222222,
             "#7201a8"
            ],
            [
             0.3333333333333333,
             "#9c179e"
            ],
            [
             0.4444444444444444,
             "#bd3786"
            ],
            [
             0.5555555555555556,
             "#d8576b"
            ],
            [
             0.6666666666666666,
             "#ed7953"
            ],
            [
             0.7777777777777778,
             "#fb9f3a"
            ],
            [
             0.8888888888888888,
             "#fdca26"
            ],
            [
             1,
             "#f0f921"
            ]
           ]
          },
          "colorway": [
           "#636efa",
           "#EF553B",
           "#00cc96",
           "#ab63fa",
           "#FFA15A",
           "#19d3f3",
           "#FF6692",
           "#B6E880",
           "#FF97FF",
           "#FECB52"
          ],
          "font": {
           "color": "#2a3f5f"
          },
          "geo": {
           "bgcolor": "white",
           "lakecolor": "white",
           "landcolor": "#E5ECF6",
           "showlakes": true,
           "showland": true,
           "subunitcolor": "white"
          },
          "hoverlabel": {
           "align": "left"
          },
          "hovermode": "closest",
          "mapbox": {
           "style": "light"
          },
          "paper_bgcolor": "white",
          "plot_bgcolor": "#E5ECF6",
          "polar": {
           "angularaxis": {
            "gridcolor": "white",
            "linecolor": "white",
            "ticks": ""
           },
           "bgcolor": "#E5ECF6",
           "radialaxis": {
            "gridcolor": "white",
            "linecolor": "white",
            "ticks": ""
           }
          },
          "scene": {
           "xaxis": {
            "backgroundcolor": "#E5ECF6",
            "gridcolor": "white",
            "gridwidth": 2,
            "linecolor": "white",
            "showbackground": true,
            "ticks": "",
            "zerolinecolor": "white"
           },
           "yaxis": {
            "backgroundcolor": "#E5ECF6",
            "gridcolor": "white",
            "gridwidth": 2,
            "linecolor": "white",
            "showbackground": true,
            "ticks": "",
            "zerolinecolor": "white"
           },
           "zaxis": {
            "backgroundcolor": "#E5ECF6",
            "gridcolor": "white",
            "gridwidth": 2,
            "linecolor": "white",
            "showbackground": true,
            "ticks": "",
            "zerolinecolor": "white"
           }
          },
          "shapedefaults": {
           "line": {
            "color": "#2a3f5f"
           }
          },
          "ternary": {
           "aaxis": {
            "gridcolor": "white",
            "linecolor": "white",
            "ticks": ""
           },
           "baxis": {
            "gridcolor": "white",
            "linecolor": "white",
            "ticks": ""
           },
           "bgcolor": "#E5ECF6",
           "caxis": {
            "gridcolor": "white",
            "linecolor": "white",
            "ticks": ""
           }
          },
          "title": {
           "x": 0.05
          },
          "xaxis": {
           "automargin": true,
           "gridcolor": "white",
           "linecolor": "white",
           "ticks": "",
           "title": {
            "standoff": 15
           },
           "zerolinecolor": "white",
           "zerolinewidth": 2
          },
          "yaxis": {
           "automargin": true,
           "gridcolor": "white",
           "linecolor": "white",
           "ticks": "",
           "title": {
            "standoff": 15
           },
           "zerolinecolor": "white",
           "zerolinewidth": 2
          }
         }
        }
       }
      }
     },
     "metadata": {},
     "output_type": "display_data"
    }
   ],
   "source": [
    "fig = px.pie(amount_type_2023_df, values=\"sum_amount_paid\")\n",
    "fig.update_traces(textposition='inside', textinfo='none')\n",
    "fig.show()"
   ]
  },
  {
   "cell_type": "markdown",
   "id": "faf0ffe2c1c51ea9",
   "metadata": {
    "collapsed": false
   },
   "source": [
    "Nice, the first chart for our infographic! Thanks Plotly!\n",
    "\n",
    "It would be interesting to know some details about the parking meter transaction amounts. Are the bulk of the transactions $1 quick stops or are they higher dollar, presumably longer duration events?\n",
    "\n",
    "This will be our most ambitious query yet:\n",
    "\n",
    "1. The `from` will be the same `read_parquet()` *table* we've been using\n",
    "2. `cross join` to the `hist_bins_df` DataFrame we created above\n",
    "    1. `cross join` is a rare join method but possibly the simplest: it returns all the possible pairing between both tables\n",
    "    2. `hist_bins_df` is the DataFrame of histogram ranges we created above\n",
    "        1. It contains a lower and upper limit (inclusive) for each bin we want in our histogram\n",
    "3. `select` the `lower` and `upper` limits from `hist_bins_df`\n",
    "4. `group by` the same `lower` and `upper` limits so we can do an aggregate count of the number of parking meter payments\n",
    "5. Use the same filters as before\n",
    "    1. Year is 2023\n",
    "    2. Transaction amount is between 0 and 30 (inclusive)\n",
    "6. `order by` the upper limit\n",
    "7. After the *DuckDB SQL* query\n",
    "    1. Use pandas to add a `fraction` of each bin of the total number of transactions\n",
    "    2. Use pandas to add a `proportion` of each fraction relative to the max fraction\n",
    "        1. In our infographic, we may want to make relatively sized objects. The `proportion` column will help there\n",
    "\n",
    "**Note:** in a future version, I would order `lower` before `upper`. We also don't need to do an aggregate count of the `gross_paid_amt` `cast()` to `double`"
   ]
  },
  {
   "cell_type": "code",
   "execution_count": 17,
   "id": "de1c4e312d5b6035",
   "metadata": {
    "ExecuteTime": {
     "end_time": "2024-02-18T23:34:37.586498Z",
     "start_time": "2024-02-18T23:34:31.640634Z"
    },
    "collapsed": false
   },
   "outputs": [
    {
     "data": {
      "text/html": [
       "<div>\n",
       "<style scoped>\n",
       "    .dataframe tbody tr th:only-of-type {\n",
       "        vertical-align: middle;\n",
       "    }\n",
       "\n",
       "    .dataframe tbody tr th {\n",
       "        vertical-align: top;\n",
       "    }\n",
       "\n",
       "    .dataframe thead th {\n",
       "        text-align: right;\n",
       "    }\n",
       "</style>\n",
       "<table border=\"1\" class=\"dataframe\">\n",
       "  <thead>\n",
       "    <tr style=\"text-align: right;\">\n",
       "      <th></th>\n",
       "      <th>upper</th>\n",
       "      <th>lower</th>\n",
       "      <th>count_rows</th>\n",
       "      <th>fraction</th>\n",
       "      <th>proportion</th>\n",
       "    </tr>\n",
       "  </thead>\n",
       "  <tbody>\n",
       "    <tr>\n",
       "      <th>0</th>\n",
       "      <td>1.0</td>\n",
       "      <td>0.00</td>\n",
       "      <td>6877770</td>\n",
       "      <td>0.393493</td>\n",
       "      <td>1.000000</td>\n",
       "    </tr>\n",
       "    <tr>\n",
       "      <th>1</th>\n",
       "      <td>2.0</td>\n",
       "      <td>1.01</td>\n",
       "      <td>3291349</td>\n",
       "      <td>0.188306</td>\n",
       "      <td>0.478549</td>\n",
       "    </tr>\n",
       "    <tr>\n",
       "      <th>2</th>\n",
       "      <td>3.0</td>\n",
       "      <td>2.01</td>\n",
       "      <td>1993588</td>\n",
       "      <td>0.114058</td>\n",
       "      <td>0.289860</td>\n",
       "    </tr>\n",
       "    <tr>\n",
       "      <th>3</th>\n",
       "      <td>4.0</td>\n",
       "      <td>3.01</td>\n",
       "      <td>1494789</td>\n",
       "      <td>0.085520</td>\n",
       "      <td>0.217336</td>\n",
       "    </tr>\n",
       "    <tr>\n",
       "      <th>4</th>\n",
       "      <td>5.0</td>\n",
       "      <td>4.01</td>\n",
       "      <td>1414455</td>\n",
       "      <td>0.080924</td>\n",
       "      <td>0.205656</td>\n",
       "    </tr>\n",
       "    <tr>\n",
       "      <th>5</th>\n",
       "      <td>6.0</td>\n",
       "      <td>5.01</td>\n",
       "      <td>574052</td>\n",
       "      <td>0.032843</td>\n",
       "      <td>0.083465</td>\n",
       "    </tr>\n",
       "    <tr>\n",
       "      <th>6</th>\n",
       "      <td>7.0</td>\n",
       "      <td>6.01</td>\n",
       "      <td>490803</td>\n",
       "      <td>0.028080</td>\n",
       "      <td>0.071361</td>\n",
       "    </tr>\n",
       "    <tr>\n",
       "      <th>7</th>\n",
       "      <td>8.0</td>\n",
       "      <td>7.01</td>\n",
       "      <td>312368</td>\n",
       "      <td>0.017871</td>\n",
       "      <td>0.045417</td>\n",
       "    </tr>\n",
       "    <tr>\n",
       "      <th>8</th>\n",
       "      <td>9.0</td>\n",
       "      <td>8.01</td>\n",
       "      <td>222548</td>\n",
       "      <td>0.012732</td>\n",
       "      <td>0.032358</td>\n",
       "    </tr>\n",
       "    <tr>\n",
       "      <th>9</th>\n",
       "      <td>10.0</td>\n",
       "      <td>9.01</td>\n",
       "      <td>162231</td>\n",
       "      <td>0.009282</td>\n",
       "      <td>0.023588</td>\n",
       "    </tr>\n",
       "    <tr>\n",
       "      <th>10</th>\n",
       "      <td>10000.0</td>\n",
       "      <td>10.01</td>\n",
       "      <td>644795</td>\n",
       "      <td>0.036890</td>\n",
       "      <td>0.093751</td>\n",
       "    </tr>\n",
       "  </tbody>\n",
       "</table>\n",
       "</div>"
      ],
      "text/plain": [
       "      upper  lower  count_rows  fraction  proportion\n",
       "0       1.0   0.00     6877770  0.393493    1.000000\n",
       "1       2.0   1.01     3291349  0.188306    0.478549\n",
       "2       3.0   2.01     1993588  0.114058    0.289860\n",
       "3       4.0   3.01     1494789  0.085520    0.217336\n",
       "4       5.0   4.01     1414455  0.080924    0.205656\n",
       "5       6.0   5.01      574052  0.032843    0.083465\n",
       "6       7.0   6.01      490803  0.028080    0.071361\n",
       "7       8.0   7.01      312368  0.017871    0.045417\n",
       "8       9.0   8.01      222548  0.012732    0.032358\n",
       "9      10.0   9.01      162231  0.009282    0.023588\n",
       "10  10000.0  10.01      644795  0.036890    0.093751"
      ]
     },
     "execution_count": 17,
     "metadata": {},
     "output_type": "execute_result"
    }
   ],
   "source": [
    "query = f\"\"\"\n",
    "select hist_bins_df.upper, hist_bins_df.lower, count(gross_paid_amt::double) as count_rows\n",
    "from read_parquet('{meter_data_dir}/*.parquet')\n",
    "cross join hist_bins_df\n",
    "where year(session_start_dt::date) = 2023\n",
    "and gross_paid_amt::double between {negative_amount_thresh} and {large_amount_thresh}\n",
    "and gross_paid_amt::double between hist_bins_df.lower and hist_bins_df.upper\n",
    "group by hist_bins_df.lower, hist_bins_df.upper\n",
    "order by hist_bins_df.upper\n",
    "\"\"\"\n",
    "amount_2023_hist_df = duckdb.sql(query).to_df()\n",
    "amount_2023_hist_df[\"fraction\"] = amount_2023_hist_df.count_rows / amount_2023_hist_df.count_rows.sum()\n",
    "amount_2023_hist_df[\"proportion\"] = amount_2023_hist_df.fraction / amount_2023_hist_df.fraction.max()\n",
    "amount_2023_hist_df"
   ]
  },
  {
   "cell_type": "markdown",
   "id": "88749e8fe3efe98e",
   "metadata": {
    "collapsed": false
   },
   "source": [
    "That's a nice table of results!\n",
    "\n",
    "1. In the first 2 columns, we see the range of each histogram bin\n",
    "2. In the `count_rows` column, we see the number of transactions that fall into each bin\n",
    "3. In the `fraction` column, we see each bin's / row's fraction of the total number of transactions\n",
    "4. In the `proportion` column, we see each row's `fraction` normalized by the largest `fraction`\n",
    "\n",
    "The greatest number of transactions was in the &#36;0 - &#36;1 range, with over 6.8 million transactions which is over 39% of the total number of transactions. Note that the proportion is 1.0 here\n",
    "\n",
    "The number of transactions in the &#36;1 - &#36;2 range is half of the &#36;0 - &#36;1. Numbers decrease as you may expect until the &#36;10 - &#36;10,000 range. This makes sense, the bin is very large\n",
    "\n",
    "**Note:** as mentioned previously, it was confusing to have the top bin go to &#36;10,000 when the query is filtering to &#36;30\n",
    "\n",
    "Another thing we could look at is the amount of parking meter revenue by day of the week. We can:\n",
    "\n",
    "1. Cast the parking session start datetime to `date`, then use the `weekday()` function to extract the day of the week\n",
    "2. `group by` the day of the week so we can aggregate the sum of the amount paid (cast to `double`)\n",
    "3. Calculate the fraction and proportion in pandas, as we did above"
   ]
  },
  {
   "cell_type": "code",
   "execution_count": 18,
   "id": "ef9b4586a8fd4c4f",
   "metadata": {
    "ExecuteTime": {
     "end_time": "2024-02-18T23:34:39.639603Z",
     "start_time": "2024-02-18T23:34:37.574437Z"
    },
    "collapsed": false
   },
   "outputs": [
    {
     "data": {
      "text/html": [
       "<div>\n",
       "<style scoped>\n",
       "    .dataframe tbody tr th:only-of-type {\n",
       "        vertical-align: middle;\n",
       "    }\n",
       "\n",
       "    .dataframe tbody tr th {\n",
       "        vertical-align: top;\n",
       "    }\n",
       "\n",
       "    .dataframe thead th {\n",
       "        text-align: right;\n",
       "    }\n",
       "</style>\n",
       "<table border=\"1\" class=\"dataframe\">\n",
       "  <thead>\n",
       "    <tr style=\"text-align: right;\">\n",
       "      <th></th>\n",
       "      <th>day_week</th>\n",
       "      <th>sum_amount_paid</th>\n",
       "      <th>day</th>\n",
       "      <th>fraction</th>\n",
       "      <th>proportion</th>\n",
       "    </tr>\n",
       "  </thead>\n",
       "  <tbody>\n",
       "    <tr>\n",
       "      <th>0</th>\n",
       "      <td>0</td>\n",
       "      <td>1124208.46</td>\n",
       "      <td>Sunday</td>\n",
       "      <td>0.023779</td>\n",
       "      <td>0.134735</td>\n",
       "    </tr>\n",
       "    <tr>\n",
       "      <th>1</th>\n",
       "      <td>1</td>\n",
       "      <td>7106789.91</td>\n",
       "      <td>Monday</td>\n",
       "      <td>0.150322</td>\n",
       "      <td>0.851741</td>\n",
       "    </tr>\n",
       "    <tr>\n",
       "      <th>2</th>\n",
       "      <td>2</td>\n",
       "      <td>7535308.73</td>\n",
       "      <td>Tuesday</td>\n",
       "      <td>0.159386</td>\n",
       "      <td>0.903099</td>\n",
       "    </tr>\n",
       "    <tr>\n",
       "      <th>3</th>\n",
       "      <td>3</td>\n",
       "      <td>7722644.45</td>\n",
       "      <td>Wednesday</td>\n",
       "      <td>0.163349</td>\n",
       "      <td>0.925551</td>\n",
       "    </tr>\n",
       "    <tr>\n",
       "      <th>4</th>\n",
       "      <td>4</td>\n",
       "      <td>7481758.58</td>\n",
       "      <td>Thursday</td>\n",
       "      <td>0.158254</td>\n",
       "      <td>0.896681</td>\n",
       "    </tr>\n",
       "    <tr>\n",
       "      <th>5</th>\n",
       "      <td>5</td>\n",
       "      <td>7962459.22</td>\n",
       "      <td>Friday</td>\n",
       "      <td>0.168421</td>\n",
       "      <td>0.954292</td>\n",
       "    </tr>\n",
       "    <tr>\n",
       "      <th>6</th>\n",
       "      <td>6</td>\n",
       "      <td>8343835.96</td>\n",
       "      <td>Saturday</td>\n",
       "      <td>0.176488</td>\n",
       "      <td>1.000000</td>\n",
       "    </tr>\n",
       "  </tbody>\n",
       "</table>\n",
       "</div>"
      ],
      "text/plain": [
       "   day_week  sum_amount_paid        day  fraction  proportion\n",
       "0         0       1124208.46     Sunday  0.023779    0.134735\n",
       "1         1       7106789.91     Monday  0.150322    0.851741\n",
       "2         2       7535308.73    Tuesday  0.159386    0.903099\n",
       "3         3       7722644.45  Wednesday  0.163349    0.925551\n",
       "4         4       7481758.58   Thursday  0.158254    0.896681\n",
       "5         5       7962459.22     Friday  0.168421    0.954292\n",
       "6         6       8343835.96   Saturday  0.176488    1.000000"
      ]
     },
     "execution_count": 18,
     "metadata": {},
     "output_type": "execute_result"
    }
   ],
   "source": [
    "query = f\"\"\"\n",
    "select weekday(session_start_dt::date) as day_week, sum(gross_paid_amt::double) as sum_amount_paid\n",
    "from read_parquet('{meter_data_dir}/*.parquet')\n",
    "where year(session_start_dt::date) = 2023\n",
    "and gross_paid_amt::double between {negative_amount_thresh} and {large_amount_thresh}\n",
    "group by day_week;\n",
    "\"\"\"\n",
    "amount_day_hist_df = duckdb.sql(query).to_df()\n",
    "amount_day_hist_df = amount_day_hist_df.merge(day_week_df, left_on=\"day_week\", right_index=True)\n",
    "amount_day_hist_df[\"fraction\"] = amount_day_hist_df.sum_amount_paid / amount_day_hist_df.sum_amount_paid.sum()\n",
    "amount_day_hist_df[\"proportion\"] = amount_day_hist_df.fraction / amount_day_hist_df.fraction.max()\n",
    "amount_day_hist_df"
   ]
  },
  {
   "cell_type": "markdown",
   "id": "16b6fb118bc0e625",
   "metadata": {
    "collapsed": false
   },
   "source": [
    "Interesting results, we see fairly similar revenue (and therefore fraction) per day -- except on Sunday! This makes sense, many parking meters do not require payment on Sunday. It's unclear if some parking meters do in fact collect on Sunday or if people mistakenly pay on a day that is free. Sunday still has a respectable revenue of over $1M\n",
    "\n",
    "Next we could look at is the amount of parking meter revenue by hour of the day. We can take the last query and substitute the `weekday()` function with `hour()`"
   ]
  },
  {
   "cell_type": "code",
   "execution_count": 19,
   "id": "855993268b57f15",
   "metadata": {
    "ExecuteTime": {
     "end_time": "2024-02-18T23:34:41.417109Z",
     "start_time": "2024-02-18T23:34:39.639879Z"
    },
    "collapsed": false
   },
   "outputs": [
    {
     "data": {
      "text/html": [
       "<div>\n",
       "<style scoped>\n",
       "    .dataframe tbody tr th:only-of-type {\n",
       "        vertical-align: middle;\n",
       "    }\n",
       "\n",
       "    .dataframe tbody tr th {\n",
       "        vertical-align: top;\n",
       "    }\n",
       "\n",
       "    .dataframe thead th {\n",
       "        text-align: right;\n",
       "    }\n",
       "</style>\n",
       "<table border=\"1\" class=\"dataframe\">\n",
       "  <thead>\n",
       "    <tr style=\"text-align: right;\">\n",
       "      <th></th>\n",
       "      <th>hour</th>\n",
       "      <th>sum_amount_paid</th>\n",
       "      <th>fraction</th>\n",
       "      <th>proportion</th>\n",
       "    </tr>\n",
       "  </thead>\n",
       "  <tbody>\n",
       "    <tr>\n",
       "      <th>0</th>\n",
       "      <td>0</td>\n",
       "      <td>114.40</td>\n",
       "      <td>0.000002</td>\n",
       "      <td>0.000018</td>\n",
       "    </tr>\n",
       "    <tr>\n",
       "      <th>1</th>\n",
       "      <td>1</td>\n",
       "      <td>93.65</td>\n",
       "      <td>0.000002</td>\n",
       "      <td>0.000015</td>\n",
       "    </tr>\n",
       "    <tr>\n",
       "      <th>2</th>\n",
       "      <td>2</td>\n",
       "      <td>52.05</td>\n",
       "      <td>0.000001</td>\n",
       "      <td>0.000008</td>\n",
       "    </tr>\n",
       "    <tr>\n",
       "      <th>3</th>\n",
       "      <td>3</td>\n",
       "      <td>79.45</td>\n",
       "      <td>0.000002</td>\n",
       "      <td>0.000013</td>\n",
       "    </tr>\n",
       "    <tr>\n",
       "      <th>4</th>\n",
       "      <td>4</td>\n",
       "      <td>33047.07</td>\n",
       "      <td>0.000699</td>\n",
       "      <td>0.005238</td>\n",
       "    </tr>\n",
       "    <tr>\n",
       "      <th>5</th>\n",
       "      <td>5</td>\n",
       "      <td>109934.97</td>\n",
       "      <td>0.002325</td>\n",
       "      <td>0.017425</td>\n",
       "    </tr>\n",
       "    <tr>\n",
       "      <th>6</th>\n",
       "      <td>6</td>\n",
       "      <td>267409.40</td>\n",
       "      <td>0.005656</td>\n",
       "      <td>0.042384</td>\n",
       "    </tr>\n",
       "    <tr>\n",
       "      <th>7</th>\n",
       "      <td>7</td>\n",
       "      <td>829156.10</td>\n",
       "      <td>0.017538</td>\n",
       "      <td>0.131421</td>\n",
       "    </tr>\n",
       "    <tr>\n",
       "      <th>8</th>\n",
       "      <td>8</td>\n",
       "      <td>1552226.78</td>\n",
       "      <td>0.032833</td>\n",
       "      <td>0.246028</td>\n",
       "    </tr>\n",
       "    <tr>\n",
       "      <th>9</th>\n",
       "      <td>9</td>\n",
       "      <td>5806223.29</td>\n",
       "      <td>0.122813</td>\n",
       "      <td>0.920286</td>\n",
       "    </tr>\n",
       "    <tr>\n",
       "      <th>10</th>\n",
       "      <td>10</td>\n",
       "      <td>4207594.30</td>\n",
       "      <td>0.088999</td>\n",
       "      <td>0.666903</td>\n",
       "    </tr>\n",
       "    <tr>\n",
       "      <th>11</th>\n",
       "      <td>11</td>\n",
       "      <td>5669519.18</td>\n",
       "      <td>0.119921</td>\n",
       "      <td>0.898618</td>\n",
       "    </tr>\n",
       "    <tr>\n",
       "      <th>12</th>\n",
       "      <td>12</td>\n",
       "      <td>6309152.57</td>\n",
       "      <td>0.133451</td>\n",
       "      <td>1.000000</td>\n",
       "    </tr>\n",
       "    <tr>\n",
       "      <th>13</th>\n",
       "      <td>13</td>\n",
       "      <td>5967305.05</td>\n",
       "      <td>0.126220</td>\n",
       "      <td>0.945817</td>\n",
       "    </tr>\n",
       "    <tr>\n",
       "      <th>14</th>\n",
       "      <td>14</td>\n",
       "      <td>5007785.57</td>\n",
       "      <td>0.105924</td>\n",
       "      <td>0.793733</td>\n",
       "    </tr>\n",
       "    <tr>\n",
       "      <th>15</th>\n",
       "      <td>15</td>\n",
       "      <td>4602242.56</td>\n",
       "      <td>0.097346</td>\n",
       "      <td>0.729455</td>\n",
       "    </tr>\n",
       "    <tr>\n",
       "      <th>16</th>\n",
       "      <td>16</td>\n",
       "      <td>4030409.97</td>\n",
       "      <td>0.085251</td>\n",
       "      <td>0.638820</td>\n",
       "    </tr>\n",
       "    <tr>\n",
       "      <th>17</th>\n",
       "      <td>17</td>\n",
       "      <td>1942681.56</td>\n",
       "      <td>0.041091</td>\n",
       "      <td>0.307915</td>\n",
       "    </tr>\n",
       "    <tr>\n",
       "      <th>18</th>\n",
       "      <td>18</td>\n",
       "      <td>468747.03</td>\n",
       "      <td>0.009915</td>\n",
       "      <td>0.074296</td>\n",
       "    </tr>\n",
       "    <tr>\n",
       "      <th>19</th>\n",
       "      <td>19</td>\n",
       "      <td>322016.65</td>\n",
       "      <td>0.006811</td>\n",
       "      <td>0.051040</td>\n",
       "    </tr>\n",
       "    <tr>\n",
       "      <th>20</th>\n",
       "      <td>20</td>\n",
       "      <td>116755.45</td>\n",
       "      <td>0.002470</td>\n",
       "      <td>0.018506</td>\n",
       "    </tr>\n",
       "    <tr>\n",
       "      <th>21</th>\n",
       "      <td>21</td>\n",
       "      <td>33025.25</td>\n",
       "      <td>0.000699</td>\n",
       "      <td>0.005234</td>\n",
       "    </tr>\n",
       "    <tr>\n",
       "      <th>22</th>\n",
       "      <td>22</td>\n",
       "      <td>1290.32</td>\n",
       "      <td>0.000027</td>\n",
       "      <td>0.000205</td>\n",
       "    </tr>\n",
       "    <tr>\n",
       "      <th>23</th>\n",
       "      <td>23</td>\n",
       "      <td>142.69</td>\n",
       "      <td>0.000003</td>\n",
       "      <td>0.000023</td>\n",
       "    </tr>\n",
       "  </tbody>\n",
       "</table>\n",
       "</div>"
      ],
      "text/plain": [
       "    hour  sum_amount_paid  fraction  proportion\n",
       "0      0           114.40  0.000002    0.000018\n",
       "1      1            93.65  0.000002    0.000015\n",
       "2      2            52.05  0.000001    0.000008\n",
       "3      3            79.45  0.000002    0.000013\n",
       "4      4         33047.07  0.000699    0.005238\n",
       "5      5        109934.97  0.002325    0.017425\n",
       "6      6        267409.40  0.005656    0.042384\n",
       "7      7        829156.10  0.017538    0.131421\n",
       "8      8       1552226.78  0.032833    0.246028\n",
       "9      9       5806223.29  0.122813    0.920286\n",
       "10    10       4207594.30  0.088999    0.666903\n",
       "11    11       5669519.18  0.119921    0.898618\n",
       "12    12       6309152.57  0.133451    1.000000\n",
       "13    13       5967305.05  0.126220    0.945817\n",
       "14    14       5007785.57  0.105924    0.793733\n",
       "15    15       4602242.56  0.097346    0.729455\n",
       "16    16       4030409.97  0.085251    0.638820\n",
       "17    17       1942681.56  0.041091    0.307915\n",
       "18    18        468747.03  0.009915    0.074296\n",
       "19    19        322016.65  0.006811    0.051040\n",
       "20    20        116755.45  0.002470    0.018506\n",
       "21    21         33025.25  0.000699    0.005234\n",
       "22    22          1290.32  0.000027    0.000205\n",
       "23    23           142.69  0.000003    0.000023"
      ]
     },
     "execution_count": 19,
     "metadata": {},
     "output_type": "execute_result"
    }
   ],
   "source": [
    "query = f\"\"\"\n",
    "select hour(session_start_dt::timestamp) as hour, sum(gross_paid_amt::double) as sum_amount_paid\n",
    "from read_parquet('{meter_data_dir}/*.parquet')\n",
    "where year(session_start_dt::date) = 2023\n",
    "and gross_paid_amt::double between {negative_amount_thresh} and {large_amount_thresh}\n",
    "group by hour;\n",
    "\"\"\"\n",
    "amount_hour_hist_df = duckdb.sql(query).to_df()\n",
    "amount_hour_hist_df[\"fraction\"] = amount_hour_hist_df.sum_amount_paid / amount_hour_hist_df.sum_amount_paid.sum()\n",
    "amount_hour_hist_df[\"proportion\"] = amount_hour_hist_df.fraction / amount_hour_hist_df.fraction.max()\n",
    "amount_hour_hist_df"
   ]
  },
  {
   "cell_type": "markdown",
   "id": "6d4edae2dc669990",
   "metadata": {
    "collapsed": false
   },
   "source": [
    "This looks like it will make a nice visualization!\n",
    "\n",
    "That's interesting, the highest revenue by hour is at noon: folks getting lunch and / or running errands at lunch? There are relative maxima at 9 AM, 11 AM, and 1 PM too\n",
    "\n",
    "Maybe we could find the highest grossing parking meters to get an idea of where the hotspots are around town\n",
    "\n",
    "1. `group by` the `street_block` column\n",
    "2. Aggregate the sum of the amount paid"
   ]
  },
  {
   "cell_type": "code",
   "execution_count": 20,
   "id": "1801ccb876df7bb7",
   "metadata": {
    "ExecuteTime": {
     "end_time": "2024-02-18T23:34:43.951041Z",
     "start_time": "2024-02-18T23:34:41.417096Z"
    },
    "collapsed": false
   },
   "outputs": [
    {
     "data": {
      "text/html": [
       "<div>\n",
       "<style scoped>\n",
       "    .dataframe tbody tr th:only-of-type {\n",
       "        vertical-align: middle;\n",
       "    }\n",
       "\n",
       "    .dataframe tbody tr th {\n",
       "        vertical-align: top;\n",
       "    }\n",
       "\n",
       "    .dataframe thead th {\n",
       "        text-align: right;\n",
       "    }\n",
       "</style>\n",
       "<table border=\"1\" class=\"dataframe\">\n",
       "  <thead>\n",
       "    <tr style=\"text-align: right;\">\n",
       "      <th></th>\n",
       "      <th>street_block</th>\n",
       "      <th>sum_amount_paid</th>\n",
       "      <th>fraction</th>\n",
       "      <th>proportion</th>\n",
       "    </tr>\n",
       "  </thead>\n",
       "  <tbody>\n",
       "    <tr>\n",
       "      <th>0</th>\n",
       "      <td>UNION ST 2100</td>\n",
       "      <td>266266.58</td>\n",
       "      <td>5.632053e-03</td>\n",
       "      <td>1.000000e+00</td>\n",
       "    </tr>\n",
       "    <tr>\n",
       "      <th>1</th>\n",
       "      <td>CHESTNUT ST 2200</td>\n",
       "      <td>238154.79</td>\n",
       "      <td>5.037434e-03</td>\n",
       "      <td>8.944224e-01</td>\n",
       "    </tr>\n",
       "    <tr>\n",
       "      <th>2</th>\n",
       "      <td>POST ST 1700</td>\n",
       "      <td>237352.73</td>\n",
       "      <td>5.020469e-03</td>\n",
       "      <td>8.914101e-01</td>\n",
       "    </tr>\n",
       "    <tr>\n",
       "      <th>3</th>\n",
       "      <td>CHESTNUT ST 2100</td>\n",
       "      <td>225117.34</td>\n",
       "      <td>4.761667e-03</td>\n",
       "      <td>8.454585e-01</td>\n",
       "    </tr>\n",
       "    <tr>\n",
       "      <th>4</th>\n",
       "      <td>CHANNEL ST 200</td>\n",
       "      <td>217342.39</td>\n",
       "      <td>4.597211e-03</td>\n",
       "      <td>8.162586e-01</td>\n",
       "    </tr>\n",
       "    <tr>\n",
       "      <th>...</th>\n",
       "      <td>...</td>\n",
       "      <td>...</td>\n",
       "      <td>...</td>\n",
       "      <td>...</td>\n",
       "    </tr>\n",
       "    <tr>\n",
       "      <th>1739</th>\n",
       "      <td>HARRISON ST 100</td>\n",
       "      <td>2.00</td>\n",
       "      <td>4.230386e-08</td>\n",
       "      <td>7.511269e-06</td>\n",
       "    </tr>\n",
       "    <tr>\n",
       "      <th>1740</th>\n",
       "      <td>POLK ST 100</td>\n",
       "      <td>1.50</td>\n",
       "      <td>3.172790e-08</td>\n",
       "      <td>5.633452e-06</td>\n",
       "    </tr>\n",
       "    <tr>\n",
       "      <th>1741</th>\n",
       "      <td>EMBARCADERO SOUTH  500</td>\n",
       "      <td>1.18</td>\n",
       "      <td>2.495928e-08</td>\n",
       "      <td>4.431649e-06</td>\n",
       "    </tr>\n",
       "    <tr>\n",
       "      <th>1742</th>\n",
       "      <td>EMBARCADERO NORTH  900</td>\n",
       "      <td>1.00</td>\n",
       "      <td>2.115193e-08</td>\n",
       "      <td>3.755635e-06</td>\n",
       "    </tr>\n",
       "    <tr>\n",
       "      <th>1743</th>\n",
       "      <td>HARRISON ST 1200</td>\n",
       "      <td>0.03</td>\n",
       "      <td>6.345580e-10</td>\n",
       "      <td>1.126690e-07</td>\n",
       "    </tr>\n",
       "  </tbody>\n",
       "</table>\n",
       "<p>1744 rows × 4 columns</p>\n",
       "</div>"
      ],
      "text/plain": [
       "                street_block  sum_amount_paid      fraction    proportion\n",
       "0              UNION ST 2100        266266.58  5.632053e-03  1.000000e+00\n",
       "1           CHESTNUT ST 2200        238154.79  5.037434e-03  8.944224e-01\n",
       "2               POST ST 1700        237352.73  5.020469e-03  8.914101e-01\n",
       "3           CHESTNUT ST 2100        225117.34  4.761667e-03  8.454585e-01\n",
       "4             CHANNEL ST 200        217342.39  4.597211e-03  8.162586e-01\n",
       "...                      ...              ...           ...           ...\n",
       "1739         HARRISON ST 100             2.00  4.230386e-08  7.511269e-06\n",
       "1740             POLK ST 100             1.50  3.172790e-08  5.633452e-06\n",
       "1741  EMBARCADERO SOUTH  500             1.18  2.495928e-08  4.431649e-06\n",
       "1742  EMBARCADERO NORTH  900             1.00  2.115193e-08  3.755635e-06\n",
       "1743        HARRISON ST 1200             0.03  6.345580e-10  1.126690e-07\n",
       "\n",
       "[1744 rows x 4 columns]"
      ]
     },
     "execution_count": 20,
     "metadata": {},
     "output_type": "execute_result"
    }
   ],
   "source": [
    "query = f\"\"\"\n",
    "select street_block, sum(gross_paid_amt::double) as sum_amount_paid\n",
    "from read_parquet('{meter_data_dir}/*.parquet') as data_t\n",
    "where gross_paid_amt::double between {negative_amount_thresh} and {large_amount_thresh}\n",
    "and year(session_start_dt::date) = 2023\n",
    "group by street_block\n",
    "order by sum_amount_paid desc;\n",
    "\"\"\"\n",
    "amount_meter_2023_df = duckdb.sql(query).to_df()\n",
    "amount_meter_2023_df[\"fraction\"] = amount_meter_2023_df.sum_amount_paid / amount_meter_2023_df.sum_amount_paid.sum()\n",
    "amount_meter_2023_df[\"proportion\"] = amount_meter_2023_df.fraction / amount_meter_2023_df.fraction.max()\n",
    "amount_meter_2023_df"
   ]
  },
  {
   "cell_type": "markdown",
   "id": "ad784c6c024fd8bf",
   "metadata": {
    "collapsed": false
   },
   "source": [
    "Nice, we have a list of 1,743 parking meters, the total revenue in 2023 per meter, the fraction of the total revenue per meter, and the proportion normalized to the maximum revenue per meter\n",
    "\n",
    "We could use a plot to visualize the revenue per parking meter to get an idea of the distribution: are all meters created equal?"
   ]
  },
  {
   "cell_type": "code",
   "execution_count": 21,
   "id": "92bd13c48b151146",
   "metadata": {
    "ExecuteTime": {
     "end_time": "2024-02-18T23:34:44.325972Z",
     "start_time": "2024-02-18T23:34:43.950826Z"
    },
    "collapsed": false
   },
   "outputs": [
    {
     "data": {
      "application/vnd.plotly.v1+json": {
       "config": {
        "plotlyServerURL": "https://plot.ly"
       },
       "data": [
        {
         "hovertemplate": "index=%{x}<br>sum_amount_paid=%{y}<extra></extra>",
         "legendgroup": "",
         "line": {
          "color": "#636efa",
          "dash": "solid"
         },
         "marker": {
          "symbol": "circle"
         },
         "mode": "lines",
         "name": "",
         "showlegend": false,
         "type": "scattergl",
         "x": [
          0,
          1,
          2,
          3,
          4,
          5,
          6,
          7,
          8,
          9,
          10,
          11,
          12,
          13,
          14,
          15,
          16,
          17,
          18,
          19,
          20,
          21,
          22,
          23,
          24,
          25,
          26,
          27,
          28,
          29,
          30,
          31,
          32,
          33,
          34,
          35,
          36,
          37,
          38,
          39,
          40,
          41,
          42,
          43,
          44,
          45,
          46,
          47,
          48,
          49,
          50,
          51,
          52,
          53,
          54,
          55,
          56,
          57,
          58,
          59,
          60,
          61,
          62,
          63,
          64,
          65,
          66,
          67,
          68,
          69,
          70,
          71,
          72,
          73,
          74,
          75,
          76,
          77,
          78,
          79,
          80,
          81,
          82,
          83,
          84,
          85,
          86,
          87,
          88,
          89,
          90,
          91,
          92,
          93,
          94,
          95,
          96,
          97,
          98,
          99,
          100,
          101,
          102,
          103,
          104,
          105,
          106,
          107,
          108,
          109,
          110,
          111,
          112,
          113,
          114,
          115,
          116,
          117,
          118,
          119,
          120,
          121,
          122,
          123,
          124,
          125,
          126,
          127,
          128,
          129,
          130,
          131,
          132,
          133,
          134,
          135,
          136,
          137,
          138,
          139,
          140,
          141,
          142,
          143,
          144,
          145,
          146,
          147,
          148,
          149,
          150,
          151,
          152,
          153,
          154,
          155,
          156,
          157,
          158,
          159,
          160,
          161,
          162,
          163,
          164,
          165,
          166,
          167,
          168,
          169,
          170,
          171,
          172,
          173,
          174,
          175,
          176,
          177,
          178,
          179,
          180,
          181,
          182,
          183,
          184,
          185,
          186,
          187,
          188,
          189,
          190,
          191,
          192,
          193,
          194,
          195,
          196,
          197,
          198,
          199,
          200,
          201,
          202,
          203,
          204,
          205,
          206,
          207,
          208,
          209,
          210,
          211,
          212,
          213,
          214,
          215,
          216,
          217,
          218,
          219,
          220,
          221,
          222,
          223,
          224,
          225,
          226,
          227,
          228,
          229,
          230,
          231,
          232,
          233,
          234,
          235,
          236,
          237,
          238,
          239,
          240,
          241,
          242,
          243,
          244,
          245,
          246,
          247,
          248,
          249,
          250,
          251,
          252,
          253,
          254,
          255,
          256,
          257,
          258,
          259,
          260,
          261,
          262,
          263,
          264,
          265,
          266,
          267,
          268,
          269,
          270,
          271,
          272,
          273,
          274,
          275,
          276,
          277,
          278,
          279,
          280,
          281,
          282,
          283,
          284,
          285,
          286,
          287,
          288,
          289,
          290,
          291,
          292,
          293,
          294,
          295,
          296,
          297,
          298,
          299,
          300,
          301,
          302,
          303,
          304,
          305,
          306,
          307,
          308,
          309,
          310,
          311,
          312,
          313,
          314,
          315,
          316,
          317,
          318,
          319,
          320,
          321,
          322,
          323,
          324,
          325,
          326,
          327,
          328,
          329,
          330,
          331,
          332,
          333,
          334,
          335,
          336,
          337,
          338,
          339,
          340,
          341,
          342,
          343,
          344,
          345,
          346,
          347,
          348,
          349,
          350,
          351,
          352,
          353,
          354,
          355,
          356,
          357,
          358,
          359,
          360,
          361,
          362,
          363,
          364,
          365,
          366,
          367,
          368,
          369,
          370,
          371,
          372,
          373,
          374,
          375,
          376,
          377,
          378,
          379,
          380,
          381,
          382,
          383,
          384,
          385,
          386,
          387,
          388,
          389,
          390,
          391,
          392,
          393,
          394,
          395,
          396,
          397,
          398,
          399,
          400,
          401,
          402,
          403,
          404,
          405,
          406,
          407,
          408,
          409,
          410,
          411,
          412,
          413,
          414,
          415,
          416,
          417,
          418,
          419,
          420,
          421,
          422,
          423,
          424,
          425,
          426,
          427,
          428,
          429,
          430,
          431,
          432,
          433,
          434,
          435,
          436,
          437,
          438,
          439,
          440,
          441,
          442,
          443,
          444,
          445,
          446,
          447,
          448,
          449,
          450,
          451,
          452,
          453,
          454,
          455,
          456,
          457,
          458,
          459,
          460,
          461,
          462,
          463,
          464,
          465,
          466,
          467,
          468,
          469,
          470,
          471,
          472,
          473,
          474,
          475,
          476,
          477,
          478,
          479,
          480,
          481,
          482,
          483,
          484,
          485,
          486,
          487,
          488,
          489,
          490,
          491,
          492,
          493,
          494,
          495,
          496,
          497,
          498,
          499,
          500,
          501,
          502,
          503,
          504,
          505,
          506,
          507,
          508,
          509,
          510,
          511,
          512,
          513,
          514,
          515,
          516,
          517,
          518,
          519,
          520,
          521,
          522,
          523,
          524,
          525,
          526,
          527,
          528,
          529,
          530,
          531,
          532,
          533,
          534,
          535,
          536,
          537,
          538,
          539,
          540,
          541,
          542,
          543,
          544,
          545,
          546,
          547,
          548,
          549,
          550,
          551,
          552,
          553,
          554,
          555,
          556,
          557,
          558,
          559,
          560,
          561,
          562,
          563,
          564,
          565,
          566,
          567,
          568,
          569,
          570,
          571,
          572,
          573,
          574,
          575,
          576,
          577,
          578,
          579,
          580,
          581,
          582,
          583,
          584,
          585,
          586,
          587,
          588,
          589,
          590,
          591,
          592,
          593,
          594,
          595,
          596,
          597,
          598,
          599,
          600,
          601,
          602,
          603,
          604,
          605,
          606,
          607,
          608,
          609,
          610,
          611,
          612,
          613,
          614,
          615,
          616,
          617,
          618,
          619,
          620,
          621,
          622,
          623,
          624,
          625,
          626,
          627,
          628,
          629,
          630,
          631,
          632,
          633,
          634,
          635,
          636,
          637,
          638,
          639,
          640,
          641,
          642,
          643,
          644,
          645,
          646,
          647,
          648,
          649,
          650,
          651,
          652,
          653,
          654,
          655,
          656,
          657,
          658,
          659,
          660,
          661,
          662,
          663,
          664,
          665,
          666,
          667,
          668,
          669,
          670,
          671,
          672,
          673,
          674,
          675,
          676,
          677,
          678,
          679,
          680,
          681,
          682,
          683,
          684,
          685,
          686,
          687,
          688,
          689,
          690,
          691,
          692,
          693,
          694,
          695,
          696,
          697,
          698,
          699,
          700,
          701,
          702,
          703,
          704,
          705,
          706,
          707,
          708,
          709,
          710,
          711,
          712,
          713,
          714,
          715,
          716,
          717,
          718,
          719,
          720,
          721,
          722,
          723,
          724,
          725,
          726,
          727,
          728,
          729,
          730,
          731,
          732,
          733,
          734,
          735,
          736,
          737,
          738,
          739,
          740,
          741,
          742,
          743,
          744,
          745,
          746,
          747,
          748,
          749,
          750,
          751,
          752,
          753,
          754,
          755,
          756,
          757,
          758,
          759,
          760,
          761,
          762,
          763,
          764,
          765,
          766,
          767,
          768,
          769,
          770,
          771,
          772,
          773,
          774,
          775,
          776,
          777,
          778,
          779,
          780,
          781,
          782,
          783,
          784,
          785,
          786,
          787,
          788,
          789,
          790,
          791,
          792,
          793,
          794,
          795,
          796,
          797,
          798,
          799,
          800,
          801,
          802,
          803,
          804,
          805,
          806,
          807,
          808,
          809,
          810,
          811,
          812,
          813,
          814,
          815,
          816,
          817,
          818,
          819,
          820,
          821,
          822,
          823,
          824,
          825,
          826,
          827,
          828,
          829,
          830,
          831,
          832,
          833,
          834,
          835,
          836,
          837,
          838,
          839,
          840,
          841,
          842,
          843,
          844,
          845,
          846,
          847,
          848,
          849,
          850,
          851,
          852,
          853,
          854,
          855,
          856,
          857,
          858,
          859,
          860,
          861,
          862,
          863,
          864,
          865,
          866,
          867,
          868,
          869,
          870,
          871,
          872,
          873,
          874,
          875,
          876,
          877,
          878,
          879,
          880,
          881,
          882,
          883,
          884,
          885,
          886,
          887,
          888,
          889,
          890,
          891,
          892,
          893,
          894,
          895,
          896,
          897,
          898,
          899,
          900,
          901,
          902,
          903,
          904,
          905,
          906,
          907,
          908,
          909,
          910,
          911,
          912,
          913,
          914,
          915,
          916,
          917,
          918,
          919,
          920,
          921,
          922,
          923,
          924,
          925,
          926,
          927,
          928,
          929,
          930,
          931,
          932,
          933,
          934,
          935,
          936,
          937,
          938,
          939,
          940,
          941,
          942,
          943,
          944,
          945,
          946,
          947,
          948,
          949,
          950,
          951,
          952,
          953,
          954,
          955,
          956,
          957,
          958,
          959,
          960,
          961,
          962,
          963,
          964,
          965,
          966,
          967,
          968,
          969,
          970,
          971,
          972,
          973,
          974,
          975,
          976,
          977,
          978,
          979,
          980,
          981,
          982,
          983,
          984,
          985,
          986,
          987,
          988,
          989,
          990,
          991,
          992,
          993,
          994,
          995,
          996,
          997,
          998,
          999,
          1000,
          1001,
          1002,
          1003,
          1004,
          1005,
          1006,
          1007,
          1008,
          1009,
          1010,
          1011,
          1012,
          1013,
          1014,
          1015,
          1016,
          1017,
          1018,
          1019,
          1020,
          1021,
          1022,
          1023,
          1024,
          1025,
          1026,
          1027,
          1028,
          1029,
          1030,
          1031,
          1032,
          1033,
          1034,
          1035,
          1036,
          1037,
          1038,
          1039,
          1040,
          1041,
          1042,
          1043,
          1044,
          1045,
          1046,
          1047,
          1048,
          1049,
          1050,
          1051,
          1052,
          1053,
          1054,
          1055,
          1056,
          1057,
          1058,
          1059,
          1060,
          1061,
          1062,
          1063,
          1064,
          1065,
          1066,
          1067,
          1068,
          1069,
          1070,
          1071,
          1072,
          1073,
          1074,
          1075,
          1076,
          1077,
          1078,
          1079,
          1080,
          1081,
          1082,
          1083,
          1084,
          1085,
          1086,
          1087,
          1088,
          1089,
          1090,
          1091,
          1092,
          1093,
          1094,
          1095,
          1096,
          1097,
          1098,
          1099,
          1100,
          1101,
          1102,
          1103,
          1104,
          1105,
          1106,
          1107,
          1108,
          1109,
          1110,
          1111,
          1112,
          1113,
          1114,
          1115,
          1116,
          1117,
          1118,
          1119,
          1120,
          1121,
          1122,
          1123,
          1124,
          1125,
          1126,
          1127,
          1128,
          1129,
          1130,
          1131,
          1132,
          1133,
          1134,
          1135,
          1136,
          1137,
          1138,
          1139,
          1140,
          1141,
          1142,
          1143,
          1144,
          1145,
          1146,
          1147,
          1148,
          1149,
          1150,
          1151,
          1152,
          1153,
          1154,
          1155,
          1156,
          1157,
          1158,
          1159,
          1160,
          1161,
          1162,
          1163,
          1164,
          1165,
          1166,
          1167,
          1168,
          1169,
          1170,
          1171,
          1172,
          1173,
          1174,
          1175,
          1176,
          1177,
          1178,
          1179,
          1180,
          1181,
          1182,
          1183,
          1184,
          1185,
          1186,
          1187,
          1188,
          1189,
          1190,
          1191,
          1192,
          1193,
          1194,
          1195,
          1196,
          1197,
          1198,
          1199,
          1200,
          1201,
          1202,
          1203,
          1204,
          1205,
          1206,
          1207,
          1208,
          1209,
          1210,
          1211,
          1212,
          1213,
          1214,
          1215,
          1216,
          1217,
          1218,
          1219,
          1220,
          1221,
          1222,
          1223,
          1224,
          1225,
          1226,
          1227,
          1228,
          1229,
          1230,
          1231,
          1232,
          1233,
          1234,
          1235,
          1236,
          1237,
          1238,
          1239,
          1240,
          1241,
          1242,
          1243,
          1244,
          1245,
          1246,
          1247,
          1248,
          1249,
          1250,
          1251,
          1252,
          1253,
          1254,
          1255,
          1256,
          1257,
          1258,
          1259,
          1260,
          1261,
          1262,
          1263,
          1264,
          1265,
          1266,
          1267,
          1268,
          1269,
          1270,
          1271,
          1272,
          1273,
          1274,
          1275,
          1276,
          1277,
          1278,
          1279,
          1280,
          1281,
          1282,
          1283,
          1284,
          1285,
          1286,
          1287,
          1288,
          1289,
          1290,
          1291,
          1292,
          1293,
          1294,
          1295,
          1296,
          1297,
          1298,
          1299,
          1300,
          1301,
          1302,
          1303,
          1304,
          1305,
          1306,
          1307,
          1308,
          1309,
          1310,
          1311,
          1312,
          1313,
          1314,
          1315,
          1316,
          1317,
          1318,
          1319,
          1320,
          1321,
          1322,
          1323,
          1324,
          1325,
          1326,
          1327,
          1328,
          1329,
          1330,
          1331,
          1332,
          1333,
          1334,
          1335,
          1336,
          1337,
          1338,
          1339,
          1340,
          1341,
          1342,
          1343,
          1344,
          1345,
          1346,
          1347,
          1348,
          1349,
          1350,
          1351,
          1352,
          1353,
          1354,
          1355,
          1356,
          1357,
          1358,
          1359,
          1360,
          1361,
          1362,
          1363,
          1364,
          1365,
          1366,
          1367,
          1368,
          1369,
          1370,
          1371,
          1372,
          1373,
          1374,
          1375,
          1376,
          1377,
          1378,
          1379,
          1380,
          1381,
          1382,
          1383,
          1384,
          1385,
          1386,
          1387,
          1388,
          1389,
          1390,
          1391,
          1392,
          1393,
          1394,
          1395,
          1396,
          1397,
          1398,
          1399,
          1400,
          1401,
          1402,
          1403,
          1404,
          1405,
          1406,
          1407,
          1408,
          1409,
          1410,
          1411,
          1412,
          1413,
          1414,
          1415,
          1416,
          1417,
          1418,
          1419,
          1420,
          1421,
          1422,
          1423,
          1424,
          1425,
          1426,
          1427,
          1428,
          1429,
          1430,
          1431,
          1432,
          1433,
          1434,
          1435,
          1436,
          1437,
          1438,
          1439,
          1440,
          1441,
          1442,
          1443,
          1444,
          1445,
          1446,
          1447,
          1448,
          1449,
          1450,
          1451,
          1452,
          1453,
          1454,
          1455,
          1456,
          1457,
          1458,
          1459,
          1460,
          1461,
          1462,
          1463,
          1464,
          1465,
          1466,
          1467,
          1468,
          1469,
          1470,
          1471,
          1472,
          1473,
          1474,
          1475,
          1476,
          1477,
          1478,
          1479,
          1480,
          1481,
          1482,
          1483,
          1484,
          1485,
          1486,
          1487,
          1488,
          1489,
          1490,
          1491,
          1492,
          1493,
          1494,
          1495,
          1496,
          1497,
          1498,
          1499,
          1500,
          1501,
          1502,
          1503,
          1504,
          1505,
          1506,
          1507,
          1508,
          1509,
          1510,
          1511,
          1512,
          1513,
          1514,
          1515,
          1516,
          1517,
          1518,
          1519,
          1520,
          1521,
          1522,
          1523,
          1524,
          1525,
          1526,
          1527,
          1528,
          1529,
          1530,
          1531,
          1532,
          1533,
          1534,
          1535,
          1536,
          1537,
          1538,
          1539,
          1540,
          1541,
          1542,
          1543,
          1544,
          1545,
          1546,
          1547,
          1548,
          1549,
          1550,
          1551,
          1552,
          1553,
          1554,
          1555,
          1556,
          1557,
          1558,
          1559,
          1560,
          1561,
          1562,
          1563,
          1564,
          1565,
          1566,
          1567,
          1568,
          1569,
          1570,
          1571,
          1572,
          1573,
          1574,
          1575,
          1576,
          1577,
          1578,
          1579,
          1580,
          1581,
          1582,
          1583,
          1584,
          1585,
          1586,
          1587,
          1588,
          1589,
          1590,
          1591,
          1592,
          1593,
          1594,
          1595,
          1596,
          1597,
          1598,
          1599,
          1600,
          1601,
          1602,
          1603,
          1604,
          1605,
          1606,
          1607,
          1608,
          1609,
          1610,
          1611,
          1612,
          1613,
          1614,
          1615,
          1616,
          1617,
          1618,
          1619,
          1620,
          1621,
          1622,
          1623,
          1624,
          1625,
          1626,
          1627,
          1628,
          1629,
          1630,
          1631,
          1632,
          1633,
          1634,
          1635,
          1636,
          1637,
          1638,
          1639,
          1640,
          1641,
          1642,
          1643,
          1644,
          1645,
          1646,
          1647,
          1648,
          1649,
          1650,
          1651,
          1652,
          1653,
          1654,
          1655,
          1656,
          1657,
          1658,
          1659,
          1660,
          1661,
          1662,
          1663,
          1664,
          1665,
          1666,
          1667,
          1668,
          1669,
          1670,
          1671,
          1672,
          1673,
          1674,
          1675,
          1676,
          1677,
          1678,
          1679,
          1680,
          1681,
          1682,
          1683,
          1684,
          1685,
          1686,
          1687,
          1688,
          1689,
          1690,
          1691,
          1692,
          1693,
          1694,
          1695,
          1696,
          1697,
          1698,
          1699,
          1700,
          1701,
          1702,
          1703,
          1704,
          1705,
          1706,
          1707,
          1708,
          1709,
          1710,
          1711,
          1712,
          1713,
          1714,
          1715,
          1716,
          1717,
          1718,
          1719,
          1720,
          1721,
          1722,
          1723,
          1724,
          1725,
          1726,
          1727,
          1728,
          1729,
          1730,
          1731,
          1732,
          1733,
          1734,
          1735,
          1736,
          1737,
          1738,
          1739,
          1740,
          1741,
          1742,
          1743
         ],
         "xaxis": "x",
         "y": [
          266266.58000000054,
          238154.79000000027,
          237352.72999999922,
          225117.34000000014,
          217342.39000000077,
          212617.75000000006,
          210801.13000000003,
          207709.85000000015,
          201515.10999999987,
          192739.4799999998,
          192572.97,
          177241.2199999995,
          175886.75000000003,
          172610.91999999987,
          171884.9699999994,
          171015.1399999994,
          170544.84999999966,
          166474.9399999982,
          163098.02999999997,
          161868.25999999943,
          159620.12999999957,
          154834.43999999997,
          152551.09999999992,
          149030.73999999886,
          147600.7199999999,
          147267.32999999967,
          145397.02999999977,
          145229.03999999972,
          144269.87999999963,
          142866.18999999974,
          142504.84999999971,
          140533.12999999974,
          139676.6099999998,
          139057.28999999983,
          138290.04999999673,
          137820.45999999958,
          133403.1599999993,
          128536.26999999981,
          127549.59999999974,
          122084.15999999977,
          120397.1399999998,
          120139.27999999982,
          119847.36999999995,
          118813.89999999989,
          118142.11999999968,
          117371.99999999985,
          116367.71999999971,
          115558.99999999985,
          115187.4299999999,
          115141.54999999981,
          114812.89999999995,
          112834.73999999947,
          112559.16999999975,
          111098.88999999993,
          110104.76999999967,
          108154.37999999957,
          107244.71999999993,
          106860.46999999974,
          105790.50999999931,
          105388.86999999962,
          103734.17999999966,
          103607.21000000006,
          103438.6699999999,
          103128.23999999998,
          102890.32999999994,
          102837.10999999993,
          101862.46999999983,
          101551.33999999987,
          100836.25999999903,
          100148.32999999993,
          98900.22999999985,
          98664.12999999996,
          98523.48999999976,
          97522.84999999986,
          96850.11999999992,
          96648.25999999986,
          95894.53999999976,
          95542.86999999998,
          95307.38999999993,
          94428.70999999995,
          94179.05000000009,
          94161.13,
          92904.41999999993,
          92654.88999999987,
          91882.53999999992,
          91790.60999999993,
          91679.72999999976,
          91463.41,
          90262.78999999994,
          90101.5199999999,
          90095.58999999998,
          89218.27000000003,
          89126.92000000001,
          88658.98000000027,
          88049.59999999992,
          86682.45000000017,
          86668.63,
          85705.55000000012,
          85604.25000000012,
          85278.28000000003,
          85130.06,
          84949.59000000003,
          84634.79999999997,
          83800.09999999998,
          83425.68999999994,
          83396.57000000002,
          83339.48999999999,
          82963.36999999994,
          82369.84000000013,
          81742.04999999999,
          81519.65999999997,
          79232.51000000017,
          79022.19999999994,
          78706.89999999992,
          78417.45000000016,
          78093.61000000019,
          78081.65999999999,
          77581.12000000002,
          77449.24000000009,
          77169.76000000004,
          76496.92000000006,
          76201.44000000016,
          75941.6,
          75875.10000000003,
          75659.04000000007,
          75617.98999999999,
          75361.5300000001,
          75142.67000000003,
          74871.49000000002,
          74011.84000000013,
          73898.15000000002,
          73619.99000000009,
          73565.03000000001,
          73453.42,
          73306.37000000026,
          73258.89000000003,
          73217.13000000014,
          72907.67000000004,
          72768.27000000005,
          72516.06000000006,
          72423.80000000061,
          71989.75000000035,
          71891.79000000007,
          70913.78000000009,
          70357.71000000021,
          69589.38000000012,
          69555.26,
          69355.15000000008,
          69321.51000000004,
          69220.87000000005,
          69156.9500000002,
          69039.87000000004,
          68902.48000000001,
          68810.71000000002,
          68600.40000000013,
          68448.88999999998,
          68396.45000000003,
          68112.32999999999,
          68111.73000000048,
          67956.17000000001,
          67945.40000000004,
          67877.82000000011,
          67798.03000000009,
          67516.93000000004,
          67029.18000000024,
          66947.1300000001,
          66756.27000000016,
          66380.80000000026,
          66340.02000000014,
          66064.92000000001,
          65645.28000000045,
          65514.29000000052,
          65205.24000000006,
          65110.12000000068,
          64977.660000000134,
          64829.340000000164,
          64603.320000000684,
          63986.730000000265,
          63839.83000000013,
          63746.509999999995,
          63714.00000000006,
          63567.22000000003,
          63458.34000000011,
          63258.41000000003,
          63007.700000000244,
          62961.380000000056,
          62878.35000000016,
          62771.640000000116,
          62752.38000000002,
          62738.63000000017,
          62520.69000000002,
          62409.73000000028,
          62376.560000000056,
          62218.95000000007,
          61813.59000000004,
          61666.67000000054,
          61429.43000000007,
          61318.990000000085,
          61132.460000000065,
          61098.70999999999,
          60985.28000000055,
          60846.510000000104,
          60842.35000000005,
          60625.22000000004,
          60522.74000000004,
          60442.41000000005,
          60205.580000000016,
          60199.070000000036,
          59444.990000000034,
          58907.73000000007,
          58779.41000000018,
          58520.090000000404,
          58421.46000000023,
          58118.360000000284,
          58045.32000000065,
          58022.06000000003,
          57963.200000000244,
          57748.190000000024,
          57676.950000000026,
          57652.190000000104,
          57523.14000000003,
          57444.71000000008,
          57432.340000000455,
          57300.230000000534,
          57282.440000000046,
          57259.89000000005,
          57166.22000000023,
          57130.810000000056,
          56686.640000000174,
          56280.02000000016,
          56212.000000000146,
          56165.980000000025,
          56099.08999999999,
          55869.70000000001,
          55712.22000000028,
          55598.80000000032,
          55583.99000000002,
          55530.26000000005,
          55527.71000000038,
          55217.94000000008,
          55189.03000000002,
          55091.50000000004,
          54558.52000000012,
          54444.51000000012,
          54400.4200000002,
          54332.00000000029,
          54317.10000000005,
          54308.98000000029,
          54249.43000000006,
          54110.94000000003,
          54074.15000000005,
          54064.920000000246,
          54028.210000000036,
          54027.20000000006,
          53932.77000000003,
          53837.49000000005,
          53767.01000000003,
          53707.19000000022,
          53679.520000000426,
          53627.51000000003,
          53461.350000000006,
          53453.330000000184,
          53425.680000000124,
          53298.05000000016,
          53116.99999999998,
          52897.3100000001,
          52700.71000000001,
          52329.46000000013,
          52276.24000000003,
          52181.29000000001,
          51860.950000000026,
          51786.950000000084,
          51693.33000000015,
          51543.2300000001,
          51502.990000000595,
          51444.05000000005,
          51073.13000000031,
          51066.51000000006,
          50914.28000000004,
          50883.71000000003,
          50841.130000000005,
          50411.78000000022,
          50090.83000000003,
          49867.86000000013,
          49490.7000000002,
          49460.800000000076,
          49447.21000000017,
          49316.40000000004,
          49050.06000000003,
          48795.520000000004,
          48696.23000000008,
          48663.64000000006,
          48638.68000000005,
          48568.90000000004,
          48385.28000000005,
          48328.95000000008,
          48303.53000000011,
          48285.67000000009,
          48204.5300000001,
          48088.970000000074,
          48083.410000000134,
          48063.48000000016,
          48037.48000000021,
          48005.320000000014,
          47846.43000000007,
          47829.59000000001,
          47653.300000000156,
          47490.980000000076,
          47398.340000000324,
          47246.16000000002,
          47088.08000000011,
          46965.55000000007,
          46907.90000000005,
          46640.290000000205,
          46532.73000000003,
          46482.150000000096,
          46344.03000000002,
          46323.80000000001,
          46263.420000000144,
          46201.02000000003,
          45918.76000000001,
          45809.03000000002,
          45768.55000000004,
          45767.47000000016,
          45756.65000000008,
          45591.220000000074,
          45525.830000000125,
          45324.04000000009,
          45136.16000000005,
          45086.01000000019,
          44765.38000000013,
          44593.39000000002,
          44564.53000000002,
          44525.480000000134,
          44441.14000000003,
          44271.82000000024,
          44189.75000000008,
          44173.59000000005,
          44136.50000000001,
          44074.920000000035,
          43980.490000000085,
          43908.210000000014,
          43900.610000000095,
          43872.520000000266,
          43607.510000000075,
          43574.12000000006,
          43499.57000000002,
          43437.060000000056,
          43382.49000000024,
          43185.580000000016,
          43074.970000000016,
          42829.41000000008,
          42818.61000000012,
          42767.58999999999,
          42746.45000000009,
          42733.61000000013,
          42636.77000000006,
          42559.08000000014,
          42467.17000000003,
          42269.67000000011,
          42149.58000000001,
          41927.300000000025,
          41662.94000000009,
          41661.49000000004,
          41639.880000000165,
          41491.34000000011,
          41312.60000000005,
          41305.00000000006,
          41167.51000000015,
          41161.740000000034,
          41132.88000000002,
          41079.13000000002,
          41066.99000000007,
          41046.20000000001,
          41026.41999999999,
          40969.96000000034,
          40938.76000000014,
          40798.3700000001,
          40757.61000000009,
          40733.19000000001,
          40624.11000000007,
          40620.77000000012,
          40419.210000000065,
          40395.360000000044,
          40334.64000000006,
          40296.06000000009,
          40285.09000000003,
          40060.58000000012,
          39984.340000000055,
          39965.79000000018,
          39723.94000000006,
          39609.320000000065,
          39560.560000000034,
          39431.360000000044,
          39388.51000000004,
          39346.740000000085,
          39313.93000000002,
          39267.930000000066,
          39092.47000000002,
          39047.11000000007,
          39000.81000000007,
          38942.16000000002,
          38917.58000000006,
          38871.37000000019,
          38740.54000000004,
          38588.880000000085,
          38475.390000000094,
          38352.27000000011,
          38247.49000000005,
          37961.490000000056,
          37926.31000000005,
          37835.07000000004,
          37804.67000000002,
          37687.13000000025,
          37630.28000000003,
          37628.1800000001,
          37610.430000000095,
          37583.89000000002,
          37549.410000000134,
          37491.31000000002,
          37261.23000000008,
          37174.880000000034,
          37173.99000000001,
          37159.65000000002,
          37034.420000000064,
          37030.040000000066,
          36955.59000000011,
          36887.18000000003,
          36880.12999999998,
          36696.48000000018,
          36580.07000000012,
          36569.8500000001,
          36544.12000000005,
          36512.07000000011,
          36510.50000000006,
          36477.90000000002,
          36475.52000000008,
          36361.56000000004,
          36312.78000000004,
          36281.33000000005,
          36211.57000000007,
          36200.71000000001,
          36095.340000000084,
          36031.940000000046,
          35937.99000000002,
          35920.12000000003,
          35739.850000000035,
          35717.70000000004,
          35707.00000000008,
          35700.8000000001,
          35629.55000000018,
          35614.70000000007,
          35596.950000000055,
          35550.070000000174,
          35545.91999999997,
          35410.260000000024,
          35408.98000000013,
          35198.02000000002,
          35132.340000000055,
          35100.23000000005,
          34813.81999999999,
          34791.05000000021,
          34736.06000000002,
          34707.47000000005,
          34525.40000000006,
          34498.10000000008,
          34483.090000000055,
          34477.37000000008,
          34423.94000000012,
          34372.440000000104,
          34342.53000000012,
          34271.17000000022,
          34094.670000000035,
          34058.850000000035,
          33985.84000000004,
          33913.00000000003,
          33693.680000000124,
          33598.230000000054,
          33497.87000000007,
          33342.21000000002,
          33273.420000000035,
          33213.90000000007,
          33167.24000000006,
          33144.130000000056,
          33137.35000000002,
          33108.53000000004,
          33089.89000000008,
          32903.24000000002,
          32889.860000000015,
          32869.43000000001,
          32747.87000000001,
          32744.310000000063,
          32643.670000000046,
          32433.160000000018,
          32394.170000000104,
          32327.470000000085,
          32310.89000000008,
          32282.28000000001,
          32003.120000000104,
          31873.000000000033,
          31857.300000000014,
          31855.180000000055,
          31836.960000000057,
          31799.23000000001,
          31736.400000000052,
          31730.80000000002,
          31699.10000000003,
          31609.480000000043,
          31568.390000000018,
          31539.700000000004,
          31181.200000000143,
          31173.570000000032,
          31173.500000000025,
          31131.210000000134,
          31107.230000000003,
          31081.130000000012,
          31032.600000000075,
          30887.370000000057,
          30828.580000000024,
          30711.390000000047,
          30699.680000000022,
          30663.72000000006,
          30655.550000000054,
          30360.98000000003,
          30265.66000000011,
          30102.46000000007,
          30070.390000000025,
          29922.530000000166,
          29899.42000000003,
          29856.250000000084,
          29854.730000000007,
          29806.50000000005,
          29727.880000000012,
          29724.63000000002,
          29620.60000000001,
          29598.700000000044,
          29593.15000000004,
          29584.870000000097,
          29540.59000000001,
          29538.370000000068,
          29437.090000000055,
          29418.060000000078,
          29387.93000000004,
          29384.31000000004,
          29292.310000000078,
          29273.610000000015,
          29147.880000000056,
          28837.729999999974,
          28787.920000000035,
          28772.760000000042,
          28763.210000000032,
          28745.720000000038,
          28682.910000000003,
          28649.850000000035,
          28634.970000000012,
          28617.36000000001,
          28522.47000000003,
          28480.660000000007,
          28249.400000000016,
          28229.050000000047,
          28221.130000000212,
          28159.14000000001,
          28149.840000000047,
          28141.47,
          28127.400000000052,
          28122.060000000067,
          28028.120000000028,
          27987.980000000087,
          27966.700000000023,
          27917.19000000003,
          27912.65000000007,
          27898.78000000007,
          27871.590000000047,
          27849.760000000024,
          27841.43000000006,
          27785.570000000025,
          27768.220000000038,
          27756.780000000042,
          27686.770000000095,
          27596.78000000003,
          27591.280000000024,
          27588.20000000006,
          27408.400000000012,
          27356.58000000003,
          27275.510000000035,
          27206.810000000063,
          27141.680000000022,
          27123.110000000037,
          27104.85000000006,
          27089.310000000012,
          27056.840000000073,
          27053.14000000013,
          27032.300000000076,
          26993.070000000014,
          26954.020000000022,
          26853.430000000113,
          26839.9900000001,
          26788.180000000026,
          26755.450000000008,
          26712.84000000004,
          26483.000000000025,
          26456.100000000006,
          26439.52000000006,
          26342.32000000003,
          26327.76000000004,
          26206.77000000003,
          26198.79000000006,
          26181.29000000001,
          26146.080000000016,
          26111.800000000025,
          26092.34000000002,
          26077.070000000036,
          26061.490000000053,
          26047.12000000002,
          26038.640000000007,
          26035.110000000004,
          26023.360000000048,
          25995.340000000047,
          25960.820000000065,
          25877.55000000001,
          25875.450000000008,
          25752.470000000045,
          25723.000000000087,
          25678.350000000013,
          25672.09000000003,
          25618.77000000002,
          25586.850000000002,
          25585.040000000026,
          25550.09000000018,
          25523.260000000053,
          25520.65000000007,
          25497.020000000066,
          25494.68000000007,
          25490.420000000056,
          25449.94000000004,
          25370.670000000016,
          25304.07000000001,
          25301.320000000058,
          25276.46000000004,
          25234.610000000037,
          25193.510000000028,
          25094.670000000006,
          25086.60000000004,
          25082.589999999993,
          25027.240000000016,
          25021.40000000002,
          24953.210000000083,
          24937.320000000018,
          24903.87000000002,
          24877.27000000012,
          24791.18000000006,
          24738.220000000038,
          24686.120000000024,
          24651.84000000001,
          24607.860000000004,
          24552.290000000045,
          24522.870000000017,
          24510.230000000072,
          24487.730000000025,
          24485.630000000016,
          24476.75000000003,
          24476.54000000002,
          24467.63000000003,
          24365.62000000002,
          24344.330000000038,
          24338.070000000043,
          24311.120000000024,
          24283.140000000018,
          24277.440000000013,
          24224.600000000075,
          24204.44000000002,
          24201.420000000002,
          24116.42000000003,
          24114.570000000007,
          24101.030000000013,
          24092.200000000008,
          24039.44000000001,
          24004.410000000044,
          23944.560000000038,
          23905.620000000054,
          23767.010000000046,
          23738.160000000033,
          23714.30000000003,
          23704.080000000075,
          23652.610000000033,
          23605.910000000033,
          23600.439999999995,
          23583.00000000001,
          23554.030000000017,
          23515.820000000036,
          23442.610000000015,
          23347.33000000006,
          23182.67000000004,
          23174.010000000042,
          23141.560000000038,
          23075.590000000055,
          23061.540000000023,
          22976.270000000033,
          22933.380000000012,
          22923.70000000013,
          22922.300000000014,
          22906.210000000014,
          22841.98000000003,
          22840.760000000013,
          22823.070000000047,
          22755.390000000036,
          22733.720000000034,
          22551.970000000063,
          22536.360000000015,
          22530.87000000003,
          22474.320000000036,
          22448.329999999987,
          22439.720000000016,
          22427.260000000002,
          22422.390000000025,
          22300.79,
          22297.36999999997,
          22293.450000000023,
          22277.230000000014,
          22199.550000000072,
          22134.07000000002,
          22026.06000000004,
          21989.31000000004,
          21981.15000000005,
          21978.409999999996,
          21941.509999999995,
          21897.510000000002,
          21796.350000000006,
          21788.4,
          21777.490000000023,
          21701.290000000015,
          21495.320000000007,
          21408.150000000005,
          21392.269999999997,
          21331.23,
          21244.05000000002,
          21243.990000000016,
          21208.510000000035,
          21137.81000000004,
          21078.36000000001,
          21034.180000000015,
          21005.72000000002,
          20953.670000000024,
          20931.210000000036,
          20797.87000000003,
          20777.36000000002,
          20668.620000000017,
          20576.000000000065,
          20575.820000000018,
          20516.890000000087,
          20464.820000000014,
          20406.13,
          20388.250000000007,
          20354.940000000017,
          20349.519999999997,
          20277.950000000026,
          20226.72000000001,
          20223.000000000007,
          20204.88000000002,
          20194.100000000002,
          20158.580000000005,
          20121.34000000001,
          20109.100000000017,
          20091.330000000027,
          19971.70000000017,
          19952.520000000037,
          19910.110000000004,
          19817.14000000001,
          19762.350000000082,
          19721.950000000008,
          19646.820000000018,
          19602.130000000016,
          19594.310000000045,
          19354.200000000015,
          19276.010000000013,
          19252.910000000044,
          19178.000000000025,
          19172.649999999998,
          19025.140000000018,
          18979.360000000015,
          18978.51000000003,
          18970.96000000003,
          18953.020000000022,
          18933.180000000015,
          18907.360000000008,
          18905.11000000003,
          18882.990000000013,
          18838.110000000022,
          18765.30000000002,
          18753.650000000023,
          18697.19000000002,
          18649.010000000057,
          18635.41000000002,
          18622.800000000025,
          18607.590000000022,
          18587.180000000033,
          18557.620000000006,
          18516.25000000002,
          18498.79000000001,
          18485.440000000013,
          18454.08000000001,
          18445.330000000005,
          18438.920000000002,
          18325.080000000005,
          18302.490000000013,
          18252.500000000004,
          18139.75000000001,
          18048.219999999998,
          18031.55000000001,
          17994.12000000001,
          17986.370000000006,
          17969.24000000001,
          17934.340000000026,
          17924.22,
          17904.820000000025,
          17878.350000000006,
          17846.519999999993,
          17837.92000000002,
          17835.77000000001,
          17823.170000000013,
          17756.80000000001,
          17730.919999999955,
          17692.080000000013,
          17675.25000000001,
          17671.220000000005,
          17629.180000000037,
          17615.750000000004,
          17569.20000000001,
          17528.780000000013,
          17525.01000000001,
          17450.85000000002,
          17426.620000000003,
          17408.040000000023,
          17404.420000000006,
          17396.490000000005,
          17365.110000000015,
          17337.680000000026,
          17318.550000000014,
          17288.749999999996,
          17286.210000000014,
          17269.000000000015,
          17258.340000000033,
          17217.510000000006,
          17193.10000000003,
          17153.899999999976,
          17140.08,
          17085.230000000007,
          17074.99,
          17068.28000000001,
          17062.59,
          17015.73,
          16997.36000000001,
          16967.33,
          16966.410000000036,
          16946.820000000014,
          16869.41999999999,
          16839.050000000003,
          16818.860000000008,
          16756.77000000002,
          16749.33000000003,
          16729.28,
          16718.440000000002,
          16713.750000000022,
          16703.25000000001,
          16688.73,
          16661.51000000001,
          16613.24,
          16606.710000000017,
          16603.130000000012,
          16590.25000000001,
          16573.71000000001,
          16512.540000000026,
          16490.33000000002,
          16473.889999999985,
          16387.65000000001,
          16377.969999999994,
          16358.990000000009,
          16354.700000000013,
          16329.18000000001,
          16324.690000000011,
          16314.770000000008,
          16266.190000000006,
          16239.100000000033,
          16230.50999999998,
          16159.380000000008,
          16142.680000000022,
          16129.990000000005,
          16089.989999999998,
          16016.000000000011,
          15981.85,
          15972.110000000006,
          15958.250000000184,
          15954.41000000001,
          15953.870000000046,
          15901.720000000016,
          15899.220000000025,
          15866.930000000017,
          15799.330000000009,
          15767.860000000008,
          15751.609999999957,
          15570.160000000002,
          15531.770000000031,
          15515.710000000026,
          15501.430000000004,
          15474.410000000009,
          15426.04,
          15305.070000000012,
          15285.25000000003,
          15226.890000000049,
          15199.240000000003,
          15149.180000000004,
          15122.240000000002,
          15120.810000000003,
          15114.320000000023,
          15081.08999999999,
          15073.19000000003,
          15038.420000000038,
          15000.530000000002,
          14991.77000000001,
          14973.960000000003,
          14936.130000000014,
          14882.740000000002,
          14662.58000000001,
          14636.65999999998,
          14628.20000000002,
          14612.500000000002,
          14542.860000000008,
          14461.870000000024,
          14428.140000000003,
          14391.070000000005,
          14348.910000000003,
          14316.44,
          14292.110000000004,
          14292.070000000002,
          14259.200000000003,
          14249.900000000003,
          14232.540000000015,
          14221.340000000004,
          14211.420000000004,
          14139.720000000003,
          14074.499999999993,
          13976.900000000005,
          13957.280000000002,
          13847.620000000004,
          13821.690000000006,
          13747.97000000001,
          13739.92,
          13655.01000000001,
          13646.380000000001,
          13612.5,
          13609.940000000006,
          13607.809999999998,
          13513.430000000015,
          13484.570000000002,
          13481.620000000024,
          13453.990000000013,
          13427.700000000008,
          13329.680000000004,
          13318.560000000009,
          13284.729999999992,
          13255.06000000001,
          13132.560000000009,
          13126.880000000008,
          13091.29,
          13051.940000000006,
          13020.380000000005,
          12959.64000000001,
          12874.630000000014,
          12849.320000000009,
          12811.540000000005,
          12763.719999999994,
          12752.400000000003,
          12708.330000000005,
          12696.990000000005,
          12672.899999999996,
          12626.750000000011,
          12624.140000000003,
          12619.79,
          12612.760000000007,
          12564.71000000001,
          12550.099999999988,
          12498.649999999996,
          12386.740000000009,
          12377.230000000005,
          12375.580000000004,
          12370.49,
          12347.609999999999,
          12228.46000000001,
          12207.150000000014,
          12099.23,
          12096.240000000007,
          12079.600000000006,
          12074.650000000009,
          12052.940000000002,
          12032.739999999996,
          12006.660000000002,
          11985.740000000002,
          11916.589999999997,
          11908.989999999993,
          11878.730000000014,
          11838.330000000016,
          11823.750000000004,
          11818.689999999999,
          11774.750000000007,
          11759.81,
          11736.95,
          11731.700000000003,
          11725.620000000004,
          11707.680000000004,
          11672.880000000006,
          11654.750000000004,
          11639.070000000007,
          11634.86,
          11620.300000000007,
          11601.140000000058,
          11507.280000000002,
          11500.160000000003,
          11492.400000000003,
          11470,
          11378.770000000006,
          11368.680000000004,
          11346.480000000001,
          11335.570000000005,
          11296.199999999999,
          11280.050000000005,
          11277.990000000002,
          11208.250000000005,
          11172.110000000002,
          11149.37,
          11110.579999999998,
          11061.580000000007,
          11047.29,
          10962.460000000001,
          10953.490000000003,
          10878.650000000001,
          10874.22,
          10864.450000000028,
          10849.119999999999,
          10846.87,
          10822.980000000001,
          10813.96,
          10803.180000000008,
          10802.970000000003,
          10772.750000000004,
          10750.890000000009,
          10707.39,
          10702.630000000005,
          10702.330000000002,
          10674.000000000004,
          10645.2,
          10622.210000000001,
          10613.76,
          10607.260000000006,
          10578.060000000003,
          10551.260000000002,
          10544.550000000003,
          10511.25,
          10506.760000000004,
          10506,
          10478.4,
          10465.129999999996,
          10464.28,
          10383.339999999995,
          10299.660000000002,
          10280.420000000002,
          10250.440000000011,
          10238.119999999999,
          10132.530000000004,
          10113.349999999995,
          10031.230000000001,
          9985.480000000001,
          9968.960000000001,
          9959.130000000001,
          9954.43,
          9934.660000000002,
          9846.269999999999,
          9843.400000000001,
          9837.11,
          9817.300000000003,
          9810.680000000002,
          9748.190000000002,
          9701.970000000003,
          9687.579999999998,
          9677.750000000005,
          9598.630000000001,
          9584.330000000007,
          9511.260000000002,
          9447.79,
          9436.690000000002,
          9420.93,
          9414.130000000003,
          9399.55,
          9335.669999999998,
          9262.420000000004,
          9208.210000000001,
          9196.790000000008,
          9158.82,
          9146.139999999998,
          9128.77,
          9125.279999999997,
          9117.909999999996,
          9113.37,
          9109.25,
          9095.07,
          9090.900000000001,
          9084.05,
          9071.440000000002,
          9055.13,
          9050.310000000003,
          9027.979999999998,
          9021.830000000005,
          9010.609999999999,
          9007.050000000001,
          8985.670000000002,
          8980.359999999999,
          8946.700000000003,
          8931.180000000018,
          8926.55,
          8924.840000000004,
          8904.310000000003,
          8893.150000000001,
          8881.37,
          8881.24,
          8870.58,
          8856.760000000007,
          8856.449999999993,
          8827.080000000002,
          8816.050000000001,
          8800.78,
          8769.69000000001,
          8764.41,
          8753.960000000003,
          8737.929999999998,
          8730.210000000005,
          8723.55,
          8712.329999999998,
          8660.710000000003,
          8636.569999999994,
          8629.680000000002,
          8610.950000000003,
          8594.960000000001,
          8591.050000000001,
          8564.829999999998,
          8563.140000000009,
          8549.479999999998,
          8533.920000000004,
          8526.929999999998,
          8473.109999999999,
          8427.22,
          8418.210000000001,
          8416.220000000001,
          8337.77,
          8331.499999999995,
          8316.460000000001,
          8301.629999999997,
          8291.58,
          8275.999999999998,
          8272.51,
          8268.280000000006,
          8240.199999999999,
          8233.429999999997,
          8196.38,
          8170.199999999999,
          8098.669999999998,
          8093.740000000001,
          8074.919999999999,
          8074.54,
          8030.339999999994,
          8027.019999999996,
          8009.809999999998,
          7992.209999999998,
          7971.359999999997,
          7968.44,
          7960.459999999998,
          7955.700000000002,
          7850.48,
          7818.149999999997,
          7814.300000000001,
          7805.18,
          7797.800000000001,
          7786.779999999999,
          7769.36,
          7763.23,
          7722.830000000001,
          7716.080000000003,
          7712.549999999997,
          7680.590000000002,
          7674.39000000001,
          7660.710000000001,
          7657.569999999996,
          7636.440000000002,
          7628.57,
          7624.21,
          7599.0999999999985,
          7593.040000000001,
          7562.1500000000015,
          7552.399999999999,
          7528.549999999999,
          7523.419999999998,
          7483.480000000002,
          7474.209999999999,
          7470.5700000000015,
          7427.52,
          7400.59,
          7388.219999999999,
          7375.259999999999,
          7366.05,
          7363.5999999999985,
          7353.719999999998,
          7344.77,
          7335.85,
          7319.950000000008,
          7306.49,
          7300.639999999999,
          7208.169999999999,
          7202.519999999996,
          7194.760000000004,
          7162.250000000015,
          7152.200000000001,
          7131.5700000000015,
          7116.66,
          7111.899999999999,
          7110.879999999999,
          7100.469999999999,
          7075.289999999999,
          7056.800000000001,
          7051.049999999999,
          7043.73,
          7043.28,
          6997.779999999999,
          6979.000000000002,
          6977.79,
          6975.08,
          6974.57,
          6964.620000000001,
          6953.219999999997,
          6931.560000000001,
          6923.959999999999,
          6916.040000000001,
          6886.219999999999,
          6847.389999999999,
          6826.200000000001,
          6795.2800000000025,
          6789.030000000002,
          6772.3600000000015,
          6745.070000000001,
          6723.860000000001,
          6723.429999999999,
          6711.869999999999,
          6680.919999999998,
          6675.119999999994,
          6656.949999999999,
          6656.729999999999,
          6633.459999999999,
          6604.440000000002,
          6588.179999999999,
          6568.2,
          6566.5,
          6565.880000000001,
          6558.080000000001,
          6548.029999999999,
          6531.030000000004,
          6527.660000000002,
          6513.469999999996,
          6504.589999999999,
          6496.229999999999,
          6413.0599999999995,
          6404.64,
          6402.89,
          6342.12,
          6340.14,
          6331.95,
          6310.029999999998,
          6277.669999999997,
          6267.819999999997,
          6242.5700000000015,
          6240.640000000003,
          6236.719999999997,
          6236.59,
          6220.389999999999,
          6218.6900000000005,
          6201.490000000002,
          6187.820000000001,
          6130.15,
          6109.279999999999,
          6105.03,
          6085.16,
          6076.830000000001,
          6057.570000000002,
          6055.8099999999995,
          6016.640000000001,
          6007.07,
          5987.1900000000005,
          5941.98,
          5939.969999999999,
          5899.559999999999,
          5827.200000000002,
          5799.200000000002,
          5772.960000000001,
          5759.459999999998,
          5742.939999999998,
          5718.439999999998,
          5718.220000000001,
          5653.420000000004,
          5602.209999999994,
          5584.3200000000015,
          5554.92,
          5513.13,
          5504.169999999999,
          5497.59,
          5473.509999999999,
          5465.66,
          5451.73,
          5414.389999999999,
          5387.81,
          5356.779999999999,
          5348.849999999999,
          5346.8499999999985,
          5346.530000000001,
          5344.98,
          5325.469999999999,
          5324.319999999998,
          5301.060000000001,
          5285.029999999999,
          5277.8,
          5273.910000000001,
          5269.68,
          5268.62,
          5253.430000000001,
          5241.47,
          5222.369999999999,
          5206.55,
          5199.399999999999,
          5180.5199999999995,
          5159.72,
          5158.630000000005,
          5135.259999999999,
          5129.07,
          5099.040000000002,
          5056.560000000001,
          5055.829999999999,
          5035.870000000001,
          5030.950000000001,
          5024.860000000001,
          5001.32,
          4983.6799999999985,
          4981.469999999999,
          4933.61,
          4929.600000000002,
          4926.6,
          4903.170000000001,
          4888.920000000001,
          4888.109999999999,
          4871.4400000000005,
          4863.680000000002,
          4818.290000000004,
          4806.199999999999,
          4785.699999999999,
          4750.949999999999,
          4725.739999999999,
          4687.75,
          4666.129999999997,
          4664.1,
          4660.429999999999,
          4647.39,
          4644.899999999988,
          4628.9,
          4623.36,
          4591.04,
          4545.95,
          4528.909999999999,
          4511.219999999999,
          4466.610000000001,
          4428.38,
          4389.349999999999,
          4386.2,
          4378.110000000001,
          4377.5199999999995,
          4325.390000000003,
          4281.410000000002,
          4265.94,
          4257.4299999999985,
          4254.03,
          4228.81,
          4215.24,
          4181.889999999999,
          4174.7699999999995,
          4165.94,
          4117.89,
          4110.55,
          4103.41,
          4082.11,
          4074.3500000000013,
          4058.530000000001,
          4046.8399999999997,
          4043.0299999999997,
          4040.519999999999,
          4019.5800000000013,
          4018.899999999986,
          3996.9199999999996,
          3972.99,
          3967.24,
          3966.2499999999995,
          3963.8300000000004,
          3956.329999999999,
          3953.1499999999996,
          3879.9900000000002,
          3861.0600000000004,
          3857.0099999999993,
          3847.9899999999984,
          3845.6199999999994,
          3843.6899999999996,
          3835.37,
          3830.959999999998,
          3823.3700000000017,
          3822.5199999999995,
          3805.3500000000013,
          3790.69,
          3782.8700000000003,
          3754.51,
          3744.17,
          3730.809999999999,
          3703.8899999999994,
          3692.360000000002,
          3688.51,
          3687.6999999999994,
          3676.3599999999997,
          3636.539999999997,
          3632.94,
          3626.209999999996,
          3624.36,
          3620.0899999999992,
          3601.2999999999993,
          3591.5299999999993,
          3577.4700000000007,
          3568.9900000000002,
          3561.3999999999965,
          3522.4999999999995,
          3501.97,
          3499.04,
          3492.9099999999994,
          3486.47,
          3440.09,
          3431.2899999999995,
          3417.2999999999997,
          3414.250000000001,
          3373.21,
          3372.009999999999,
          3348.8500000000004,
          3323.4999999999995,
          3271.8899999999985,
          3265.6,
          3265.37,
          3256,
          3245.3300000000004,
          3220.24,
          3207.6299999999997,
          3172.2700000000004,
          3117.4,
          3103.88,
          3097.05,
          3095.38,
          3087.69,
          3075.2799999999993,
          3054.4500000000003,
          3048.6699999999996,
          3023.94,
          3002.4199999999996,
          3001.31,
          2995.029999999996,
          2994.949999999999,
          2958.2999999999997,
          2958.2299999999977,
          2927.059999999999,
          2926.510000000002,
          2902.79,
          2896.81,
          2867.0099999999998,
          2856.09,
          2793.12,
          2774.7499999999977,
          2753.850000000001,
          2717.3499999999995,
          2712.5699999999997,
          2703.6500000000005,
          2665.81,
          2639.2700000000004,
          2622.0599999999995,
          2593.519999999999,
          2569.3999999999996,
          2569.000000000001,
          2556.62,
          2548.940000000002,
          2541.57,
          2531.1000000000004,
          2439.4900000000007,
          2429.29,
          2394.3899999999994,
          2362.5099999999998,
          2334.45,
          2290.350000000001,
          2285.0899999999997,
          2276.5699999999965,
          2261.35,
          2238.7999999999997,
          2233.2699999999995,
          2215.43,
          2155.0299999999997,
          2154.4500000000003,
          2151.74,
          2145.519999999999,
          2105.8100000000004,
          2063.08,
          2036.3,
          2026.2600000000011,
          2008.1599999999992,
          1979.4299999999998,
          1977.1100000000001,
          1937.1100000000001,
          1933.1,
          1921.6299999999994,
          1909.2599999999998,
          1881.7700000000002,
          1874.2499999999973,
          1833.9899999999996,
          1823.1399999999996,
          1821.7600000000007,
          1811.16,
          1797.08,
          1786.7699999999998,
          1762.480000000001,
          1743.98,
          1701.0599999999977,
          1668.4499999999998,
          1594.2799999999997,
          1561.9099999999999,
          1557.8699999999997,
          1557.1599999999992,
          1553.6000000000001,
          1546.8699999999997,
          1545.719999999998,
          1544.730000000001,
          1540.0000000000002,
          1528.5199999999998,
          1522.2500000000016,
          1502.55,
          1462.3600000000001,
          1444.2399999999998,
          1429.5499999999995,
          1417.6800000000007,
          1407.9099999999999,
          1373.65,
          1365.4300000000005,
          1361.9899999999998,
          1360.8199999999997,
          1344.3,
          1334.35,
          1308.0299999999988,
          1301.77,
          1298.38,
          1289.2699999999998,
          1284.09,
          1276.74,
          1253.2299999999996,
          1250.8999999999996,
          1234.01,
          1211.17,
          1210.1100000000001,
          1199.4999999999995,
          1183.59,
          1129.8700000000001,
          1127.4600000000005,
          1126.1899999999998,
          1118.57,
          1110.3400000000001,
          1108.54,
          1068.67,
          1066.2500000000002,
          1043.7100000000003,
          1042.78,
          1035.0500000000002,
          1031.27,
          1027.6299999999999,
          1007.0099999999996,
          1004.49,
          995.2300000000002,
          992.8099999999997,
          986.54,
          981.46,
          974.9199999999996,
          967.0200000000004,
          960.4499999999998,
          948.8999999999997,
          944.7199999999999,
          942.51,
          937.0800000000002,
          903.4399999999999,
          890.0399999999986,
          874.5599999999994,
          870.9199999999998,
          865.5400000000001,
          858.0300000000001,
          852.1699999999997,
          848.0199999999999,
          840.9099999999999,
          810.2999999999998,
          786.3,
          786.2399999999999,
          756.9300000000002,
          748.2599999999999,
          742.45,
          719.67,
          712.1000000000001,
          704.35,
          695.0799999999999,
          682.3699999999999,
          680.6399999999999,
          671.03,
          648.4100000000001,
          635.3100000000002,
          632.1199999999999,
          631.9000000000002,
          612.47,
          596.65,
          589.36,
          574.81,
          562.6100000000002,
          556.21,
          556.1600000000001,
          550.99,
          550.15,
          536.53,
          534.29,
          519.55,
          507.92999999999995,
          482.1099999999999,
          473.86999999999995,
          466.50999999999993,
          464.92999999999995,
          452.31999999999994,
          448.91999999999996,
          421.73999999999995,
          405.63,
          400.6299999999999,
          386.27,
          385.66,
          381.99,
          373.15999999999997,
          372.61999999999995,
          363.41999999999996,
          358.07000000000005,
          354.3299999999999,
          352.44,
          351.81,
          343.52,
          337.3399999999999,
          333.5,
          312.08000000000004,
          311.45000000000005,
          302.74,
          283.35,
          275.4,
          267.3,
          252.42999999999998,
          249.21999999999997,
          233.51,
          230.95999999999998,
          219.37000000000003,
          215.72,
          204.82999999999998,
          199.19,
          181.53,
          167.48000000000002,
          167.06,
          151.93999999999997,
          146.42999999999998,
          141.76999999999998,
          140.96,
          140.01,
          133.26999999999998,
          126.99999999999999,
          123.11,
          121.74,
          112.37,
          97.36999999999999,
          92.53,
          92.22,
          79.71999999999998,
          79.71000000000001,
          79.11000000000001,
          78.72,
          76.52000000000001,
          75.78,
          68.62,
          66.79,
          65.63,
          65.56,
          63.489999999999995,
          61.64,
          59.76,
          56.99,
          54.95,
          53.00000000000001,
          51.2,
          50.68,
          50.48999999999999,
          46.78,
          46.62,
          46.09,
          44.49000000000001,
          42.53,
          42.21,
          41.150000000000006,
          37.22,
          36.83,
          35.19999999999988,
          34.75,
          33.92,
          32.21,
          32.08,
          31.25,
          28.91,
          27.81,
          24.31,
          24.18,
          22.39,
          21.81,
          21.799999999999997,
          17.099999999999998,
          16.68,
          11.98,
          10,
          6.67,
          6.5,
          6.25,
          5.43,
          4.07,
          3,
          2.5700000000000003,
          2,
          1.5,
          1.1800000000000002,
          1,
          0.03
         ],
         "yaxis": "y"
        }
       ],
       "layout": {
        "legend": {
         "tracegroupgap": 0
        },
        "template": {
         "data": {
          "bar": [
           {
            "error_x": {
             "color": "#2a3f5f"
            },
            "error_y": {
             "color": "#2a3f5f"
            },
            "marker": {
             "line": {
              "color": "#E5ECF6",
              "width": 0.5
             },
             "pattern": {
              "fillmode": "overlay",
              "size": 10,
              "solidity": 0.2
             }
            },
            "type": "bar"
           }
          ],
          "barpolar": [
           {
            "marker": {
             "line": {
              "color": "#E5ECF6",
              "width": 0.5
             },
             "pattern": {
              "fillmode": "overlay",
              "size": 10,
              "solidity": 0.2
             }
            },
            "type": "barpolar"
           }
          ],
          "carpet": [
           {
            "aaxis": {
             "endlinecolor": "#2a3f5f",
             "gridcolor": "white",
             "linecolor": "white",
             "minorgridcolor": "white",
             "startlinecolor": "#2a3f5f"
            },
            "baxis": {
             "endlinecolor": "#2a3f5f",
             "gridcolor": "white",
             "linecolor": "white",
             "minorgridcolor": "white",
             "startlinecolor": "#2a3f5f"
            },
            "type": "carpet"
           }
          ],
          "choropleth": [
           {
            "colorbar": {
             "outlinewidth": 0,
             "ticks": ""
            },
            "type": "choropleth"
           }
          ],
          "contour": [
           {
            "colorbar": {
             "outlinewidth": 0,
             "ticks": ""
            },
            "colorscale": [
             [
              0,
              "#0d0887"
             ],
             [
              0.1111111111111111,
              "#46039f"
             ],
             [
              0.2222222222222222,
              "#7201a8"
             ],
             [
              0.3333333333333333,
              "#9c179e"
             ],
             [
              0.4444444444444444,
              "#bd3786"
             ],
             [
              0.5555555555555556,
              "#d8576b"
             ],
             [
              0.6666666666666666,
              "#ed7953"
             ],
             [
              0.7777777777777778,
              "#fb9f3a"
             ],
             [
              0.8888888888888888,
              "#fdca26"
             ],
             [
              1,
              "#f0f921"
             ]
            ],
            "type": "contour"
           }
          ],
          "contourcarpet": [
           {
            "colorbar": {
             "outlinewidth": 0,
             "ticks": ""
            },
            "type": "contourcarpet"
           }
          ],
          "heatmap": [
           {
            "colorbar": {
             "outlinewidth": 0,
             "ticks": ""
            },
            "colorscale": [
             [
              0,
              "#0d0887"
             ],
             [
              0.1111111111111111,
              "#46039f"
             ],
             [
              0.2222222222222222,
              "#7201a8"
             ],
             [
              0.3333333333333333,
              "#9c179e"
             ],
             [
              0.4444444444444444,
              "#bd3786"
             ],
             [
              0.5555555555555556,
              "#d8576b"
             ],
             [
              0.6666666666666666,
              "#ed7953"
             ],
             [
              0.7777777777777778,
              "#fb9f3a"
             ],
             [
              0.8888888888888888,
              "#fdca26"
             ],
             [
              1,
              "#f0f921"
             ]
            ],
            "type": "heatmap"
           }
          ],
          "heatmapgl": [
           {
            "colorbar": {
             "outlinewidth": 0,
             "ticks": ""
            },
            "colorscale": [
             [
              0,
              "#0d0887"
             ],
             [
              0.1111111111111111,
              "#46039f"
             ],
             [
              0.2222222222222222,
              "#7201a8"
             ],
             [
              0.3333333333333333,
              "#9c179e"
             ],
             [
              0.4444444444444444,
              "#bd3786"
             ],
             [
              0.5555555555555556,
              "#d8576b"
             ],
             [
              0.6666666666666666,
              "#ed7953"
             ],
             [
              0.7777777777777778,
              "#fb9f3a"
             ],
             [
              0.8888888888888888,
              "#fdca26"
             ],
             [
              1,
              "#f0f921"
             ]
            ],
            "type": "heatmapgl"
           }
          ],
          "histogram": [
           {
            "marker": {
             "pattern": {
              "fillmode": "overlay",
              "size": 10,
              "solidity": 0.2
             }
            },
            "type": "histogram"
           }
          ],
          "histogram2d": [
           {
            "colorbar": {
             "outlinewidth": 0,
             "ticks": ""
            },
            "colorscale": [
             [
              0,
              "#0d0887"
             ],
             [
              0.1111111111111111,
              "#46039f"
             ],
             [
              0.2222222222222222,
              "#7201a8"
             ],
             [
              0.3333333333333333,
              "#9c179e"
             ],
             [
              0.4444444444444444,
              "#bd3786"
             ],
             [
              0.5555555555555556,
              "#d8576b"
             ],
             [
              0.6666666666666666,
              "#ed7953"
             ],
             [
              0.7777777777777778,
              "#fb9f3a"
             ],
             [
              0.8888888888888888,
              "#fdca26"
             ],
             [
              1,
              "#f0f921"
             ]
            ],
            "type": "histogram2d"
           }
          ],
          "histogram2dcontour": [
           {
            "colorbar": {
             "outlinewidth": 0,
             "ticks": ""
            },
            "colorscale": [
             [
              0,
              "#0d0887"
             ],
             [
              0.1111111111111111,
              "#46039f"
             ],
             [
              0.2222222222222222,
              "#7201a8"
             ],
             [
              0.3333333333333333,
              "#9c179e"
             ],
             [
              0.4444444444444444,
              "#bd3786"
             ],
             [
              0.5555555555555556,
              "#d8576b"
             ],
             [
              0.6666666666666666,
              "#ed7953"
             ],
             [
              0.7777777777777778,
              "#fb9f3a"
             ],
             [
              0.8888888888888888,
              "#fdca26"
             ],
             [
              1,
              "#f0f921"
             ]
            ],
            "type": "histogram2dcontour"
           }
          ],
          "mesh3d": [
           {
            "colorbar": {
             "outlinewidth": 0,
             "ticks": ""
            },
            "type": "mesh3d"
           }
          ],
          "parcoords": [
           {
            "line": {
             "colorbar": {
              "outlinewidth": 0,
              "ticks": ""
             }
            },
            "type": "parcoords"
           }
          ],
          "pie": [
           {
            "automargin": true,
            "type": "pie"
           }
          ],
          "scatter": [
           {
            "fillpattern": {
             "fillmode": "overlay",
             "size": 10,
             "solidity": 0.2
            },
            "type": "scatter"
           }
          ],
          "scatter3d": [
           {
            "line": {
             "colorbar": {
              "outlinewidth": 0,
              "ticks": ""
             }
            },
            "marker": {
             "colorbar": {
              "outlinewidth": 0,
              "ticks": ""
             }
            },
            "type": "scatter3d"
           }
          ],
          "scattercarpet": [
           {
            "marker": {
             "colorbar": {
              "outlinewidth": 0,
              "ticks": ""
             }
            },
            "type": "scattercarpet"
           }
          ],
          "scattergeo": [
           {
            "marker": {
             "colorbar": {
              "outlinewidth": 0,
              "ticks": ""
             }
            },
            "type": "scattergeo"
           }
          ],
          "scattergl": [
           {
            "marker": {
             "colorbar": {
              "outlinewidth": 0,
              "ticks": ""
             }
            },
            "type": "scattergl"
           }
          ],
          "scattermapbox": [
           {
            "marker": {
             "colorbar": {
              "outlinewidth": 0,
              "ticks": ""
             }
            },
            "type": "scattermapbox"
           }
          ],
          "scatterpolar": [
           {
            "marker": {
             "colorbar": {
              "outlinewidth": 0,
              "ticks": ""
             }
            },
            "type": "scatterpolar"
           }
          ],
          "scatterpolargl": [
           {
            "marker": {
             "colorbar": {
              "outlinewidth": 0,
              "ticks": ""
             }
            },
            "type": "scatterpolargl"
           }
          ],
          "scatterternary": [
           {
            "marker": {
             "colorbar": {
              "outlinewidth": 0,
              "ticks": ""
             }
            },
            "type": "scatterternary"
           }
          ],
          "surface": [
           {
            "colorbar": {
             "outlinewidth": 0,
             "ticks": ""
            },
            "colorscale": [
             [
              0,
              "#0d0887"
             ],
             [
              0.1111111111111111,
              "#46039f"
             ],
             [
              0.2222222222222222,
              "#7201a8"
             ],
             [
              0.3333333333333333,
              "#9c179e"
             ],
             [
              0.4444444444444444,
              "#bd3786"
             ],
             [
              0.5555555555555556,
              "#d8576b"
             ],
             [
              0.6666666666666666,
              "#ed7953"
             ],
             [
              0.7777777777777778,
              "#fb9f3a"
             ],
             [
              0.8888888888888888,
              "#fdca26"
             ],
             [
              1,
              "#f0f921"
             ]
            ],
            "type": "surface"
           }
          ],
          "table": [
           {
            "cells": {
             "fill": {
              "color": "#EBF0F8"
             },
             "line": {
              "color": "white"
             }
            },
            "header": {
             "fill": {
              "color": "#C8D4E3"
             },
             "line": {
              "color": "white"
             }
            },
            "type": "table"
           }
          ]
         },
         "layout": {
          "annotationdefaults": {
           "arrowcolor": "#2a3f5f",
           "arrowhead": 0,
           "arrowwidth": 1
          },
          "autotypenumbers": "strict",
          "coloraxis": {
           "colorbar": {
            "outlinewidth": 0,
            "ticks": ""
           }
          },
          "colorscale": {
           "diverging": [
            [
             0,
             "#8e0152"
            ],
            [
             0.1,
             "#c51b7d"
            ],
            [
             0.2,
             "#de77ae"
            ],
            [
             0.3,
             "#f1b6da"
            ],
            [
             0.4,
             "#fde0ef"
            ],
            [
             0.5,
             "#f7f7f7"
            ],
            [
             0.6,
             "#e6f5d0"
            ],
            [
             0.7,
             "#b8e186"
            ],
            [
             0.8,
             "#7fbc41"
            ],
            [
             0.9,
             "#4d9221"
            ],
            [
             1,
             "#276419"
            ]
           ],
           "sequential": [
            [
             0,
             "#0d0887"
            ],
            [
             0.1111111111111111,
             "#46039f"
            ],
            [
             0.2222222222222222,
             "#7201a8"
            ],
            [
             0.3333333333333333,
             "#9c179e"
            ],
            [
             0.4444444444444444,
             "#bd3786"
            ],
            [
             0.5555555555555556,
             "#d8576b"
            ],
            [
             0.6666666666666666,
             "#ed7953"
            ],
            [
             0.7777777777777778,
             "#fb9f3a"
            ],
            [
             0.8888888888888888,
             "#fdca26"
            ],
            [
             1,
             "#f0f921"
            ]
           ],
           "sequentialminus": [
            [
             0,
             "#0d0887"
            ],
            [
             0.1111111111111111,
             "#46039f"
            ],
            [
             0.2222222222222222,
             "#7201a8"
            ],
            [
             0.3333333333333333,
             "#9c179e"
            ],
            [
             0.4444444444444444,
             "#bd3786"
            ],
            [
             0.5555555555555556,
             "#d8576b"
            ],
            [
             0.6666666666666666,
             "#ed7953"
            ],
            [
             0.7777777777777778,
             "#fb9f3a"
            ],
            [
             0.8888888888888888,
             "#fdca26"
            ],
            [
             1,
             "#f0f921"
            ]
           ]
          },
          "colorway": [
           "#636efa",
           "#EF553B",
           "#00cc96",
           "#ab63fa",
           "#FFA15A",
           "#19d3f3",
           "#FF6692",
           "#B6E880",
           "#FF97FF",
           "#FECB52"
          ],
          "font": {
           "color": "#2a3f5f"
          },
          "geo": {
           "bgcolor": "white",
           "lakecolor": "white",
           "landcolor": "#E5ECF6",
           "showlakes": true,
           "showland": true,
           "subunitcolor": "white"
          },
          "hoverlabel": {
           "align": "left"
          },
          "hovermode": "closest",
          "mapbox": {
           "style": "light"
          },
          "paper_bgcolor": "white",
          "plot_bgcolor": "#E5ECF6",
          "polar": {
           "angularaxis": {
            "gridcolor": "white",
            "linecolor": "white",
            "ticks": ""
           },
           "bgcolor": "#E5ECF6",
           "radialaxis": {
            "gridcolor": "white",
            "linecolor": "white",
            "ticks": ""
           }
          },
          "scene": {
           "xaxis": {
            "backgroundcolor": "#E5ECF6",
            "gridcolor": "white",
            "gridwidth": 2,
            "linecolor": "white",
            "showbackground": true,
            "ticks": "",
            "zerolinecolor": "white"
           },
           "yaxis": {
            "backgroundcolor": "#E5ECF6",
            "gridcolor": "white",
            "gridwidth": 2,
            "linecolor": "white",
            "showbackground": true,
            "ticks": "",
            "zerolinecolor": "white"
           },
           "zaxis": {
            "backgroundcolor": "#E5ECF6",
            "gridcolor": "white",
            "gridwidth": 2,
            "linecolor": "white",
            "showbackground": true,
            "ticks": "",
            "zerolinecolor": "white"
           }
          },
          "shapedefaults": {
           "line": {
            "color": "#2a3f5f"
           }
          },
          "ternary": {
           "aaxis": {
            "gridcolor": "white",
            "linecolor": "white",
            "ticks": ""
           },
           "baxis": {
            "gridcolor": "white",
            "linecolor": "white",
            "ticks": ""
           },
           "bgcolor": "#E5ECF6",
           "caxis": {
            "gridcolor": "white",
            "linecolor": "white",
            "ticks": ""
           }
          },
          "title": {
           "x": 0.05
          },
          "xaxis": {
           "automargin": true,
           "gridcolor": "white",
           "linecolor": "white",
           "ticks": "",
           "title": {
            "standoff": 15
           },
           "zerolinecolor": "white",
           "zerolinewidth": 2
          },
          "yaxis": {
           "automargin": true,
           "gridcolor": "white",
           "linecolor": "white",
           "ticks": "",
           "title": {
            "standoff": 15
           },
           "zerolinecolor": "white",
           "zerolinewidth": 2
          }
         }
        },
        "title": {
         "text": "Amount paid per SF parking meter in 2023"
        },
        "xaxis": {
         "anchor": "y",
         "domain": [
          0,
          1
         ],
         "title": {
          "text": "Meter number"
         }
        },
        "yaxis": {
         "anchor": "x",
         "domain": [
          0,
          1
         ],
         "title": {
          "text": "Total ($)"
         }
        }
       }
      }
     },
     "metadata": {},
     "output_type": "display_data"
    }
   ],
   "source": [
    "fig = px.line(amount_meter_2023_df, y=\"sum_amount_paid\",\n",
    "              title=f\"Amount paid per SF parking meter in 2023\")\n",
    "fig.update_layout(xaxis_title='Meter number')\n",
    "fig.update_yaxes(title_text='Total ($)')\n",
    "fig.for_each_annotation(lambda a: a.update(text=a.text.split(\"=\")[-1]))\n",
    "fig.show()"
   ]
  },
  {
   "cell_type": "markdown",
   "id": "8c91f296aee15e76",
   "metadata": {
    "collapsed": false
   },
   "source": [
    "To answer our own question, no, not all parking meters are created equal. A small fraction of parking meters generate on the order of a quarter million dollars a year, the vast majority seem to collect in the &#36;10,000 to &#36;100,000 range, and a sizeable tail collect less than &#36;10,000 a year\n",
    "\n",
    "Let's see the max revenue from a parking meter:"
   ]
  },
  {
   "cell_type": "code",
   "execution_count": 22,
   "id": "ea303cd52417f668",
   "metadata": {
    "ExecuteTime": {
     "end_time": "2024-02-18T23:34:44.329834Z",
     "start_time": "2024-02-18T23:34:43.992901Z"
    },
    "collapsed": false
   },
   "outputs": [
    {
     "data": {
      "text/plain": [
       "266266.58000000054"
      ]
     },
     "execution_count": 22,
     "metadata": {},
     "output_type": "execute_result"
    }
   ],
   "source": [
    "amount_meter_2023_df.sum_amount_paid.max()"
   ]
  },
  {
   "cell_type": "markdown",
   "id": "78eba607f0b47e00",
   "metadata": {
    "collapsed": false
   },
   "source": [
    "&#36;266,266 from a single parking meter, wow!\n",
    "\n",
    "Let's see the median revenue collected from a meter:"
   ]
  },
  {
   "cell_type": "code",
   "execution_count": 23,
   "id": "5a28d72d80a05d48",
   "metadata": {
    "ExecuteTime": {
     "end_time": "2024-02-18T23:34:44.335348Z",
     "start_time": "2024-02-18T23:34:43.995101Z"
    },
    "collapsed": false
   },
   "outputs": [
    {
     "data": {
      "text/plain": [
       "16501.435000000023"
      ]
     },
     "execution_count": 23,
     "metadata": {},
     "output_type": "execute_result"
    }
   ],
   "source": [
    "amount_meter_2023_df.sum_amount_paid.median()"
   ]
  },
  {
   "cell_type": "markdown",
   "id": "191cdfc6a3457ee1",
   "metadata": {
    "collapsed": false
   },
   "source": [
    "The median is &#36;16.5k, a far cry from the maximum value!\n",
    "\n",
    "OK, let's take a look at a different dataset from DataSF: parking citations\n",
    "\n",
    "We can go a little bit quicker this time. First, we'll inspect the columns of the dataset with a `describe`"
   ]
  },
  {
   "cell_type": "code",
   "execution_count": 24,
   "id": "3b6dabf39bfe763b",
   "metadata": {
    "ExecuteTime": {
     "end_time": "2024-02-18T23:34:44.336649Z",
     "start_time": "2024-02-18T23:34:43.997667Z"
    },
    "collapsed": false
   },
   "outputs": [
    {
     "data": {
      "text/html": [
       "<div>\n",
       "<style scoped>\n",
       "    .dataframe tbody tr th:only-of-type {\n",
       "        vertical-align: middle;\n",
       "    }\n",
       "\n",
       "    .dataframe tbody tr th {\n",
       "        vertical-align: top;\n",
       "    }\n",
       "\n",
       "    .dataframe thead th {\n",
       "        text-align: right;\n",
       "    }\n",
       "</style>\n",
       "<table border=\"1\" class=\"dataframe\">\n",
       "  <thead>\n",
       "    <tr style=\"text-align: right;\">\n",
       "      <th></th>\n",
       "      <th>column_name</th>\n",
       "      <th>column_type</th>\n",
       "      <th>null</th>\n",
       "      <th>key</th>\n",
       "      <th>default</th>\n",
       "      <th>extra</th>\n",
       "    </tr>\n",
       "  </thead>\n",
       "  <tbody>\n",
       "    <tr>\n",
       "      <th>0</th>\n",
       "      <td>citation_number</td>\n",
       "      <td>VARCHAR</td>\n",
       "      <td>YES</td>\n",
       "      <td>None</td>\n",
       "      <td>None</td>\n",
       "      <td>None</td>\n",
       "    </tr>\n",
       "    <tr>\n",
       "      <th>1</th>\n",
       "      <td>citation_issued_datetime</td>\n",
       "      <td>VARCHAR</td>\n",
       "      <td>YES</td>\n",
       "      <td>None</td>\n",
       "      <td>None</td>\n",
       "      <td>None</td>\n",
       "    </tr>\n",
       "    <tr>\n",
       "      <th>2</th>\n",
       "      <td>violation</td>\n",
       "      <td>VARCHAR</td>\n",
       "      <td>YES</td>\n",
       "      <td>None</td>\n",
       "      <td>None</td>\n",
       "      <td>None</td>\n",
       "    </tr>\n",
       "    <tr>\n",
       "      <th>3</th>\n",
       "      <td>violation_desc</td>\n",
       "      <td>VARCHAR</td>\n",
       "      <td>YES</td>\n",
       "      <td>None</td>\n",
       "      <td>None</td>\n",
       "      <td>None</td>\n",
       "    </tr>\n",
       "    <tr>\n",
       "      <th>4</th>\n",
       "      <td>citation_location</td>\n",
       "      <td>VARCHAR</td>\n",
       "      <td>YES</td>\n",
       "      <td>None</td>\n",
       "      <td>None</td>\n",
       "      <td>None</td>\n",
       "    </tr>\n",
       "    <tr>\n",
       "      <th>5</th>\n",
       "      <td>vehicle_plate_state</td>\n",
       "      <td>VARCHAR</td>\n",
       "      <td>YES</td>\n",
       "      <td>None</td>\n",
       "      <td>None</td>\n",
       "      <td>None</td>\n",
       "    </tr>\n",
       "    <tr>\n",
       "      <th>6</th>\n",
       "      <td>vehicle_plate</td>\n",
       "      <td>VARCHAR</td>\n",
       "      <td>YES</td>\n",
       "      <td>None</td>\n",
       "      <td>None</td>\n",
       "      <td>None</td>\n",
       "    </tr>\n",
       "    <tr>\n",
       "      <th>7</th>\n",
       "      <td>fine_amount</td>\n",
       "      <td>VARCHAR</td>\n",
       "      <td>YES</td>\n",
       "      <td>None</td>\n",
       "      <td>None</td>\n",
       "      <td>None</td>\n",
       "    </tr>\n",
       "    <tr>\n",
       "      <th>8</th>\n",
       "      <td>date_added</td>\n",
       "      <td>VARCHAR</td>\n",
       "      <td>YES</td>\n",
       "      <td>None</td>\n",
       "      <td>None</td>\n",
       "      <td>None</td>\n",
       "    </tr>\n",
       "    <tr>\n",
       "      <th>9</th>\n",
       "      <td>the_geom</td>\n",
       "      <td>VARCHAR</td>\n",
       "      <td>YES</td>\n",
       "      <td>None</td>\n",
       "      <td>None</td>\n",
       "      <td>None</td>\n",
       "    </tr>\n",
       "  </tbody>\n",
       "</table>\n",
       "</div>"
      ],
      "text/plain": [
       "                column_name column_type null   key default extra\n",
       "0           citation_number     VARCHAR  YES  None    None  None\n",
       "1  citation_issued_datetime     VARCHAR  YES  None    None  None\n",
       "2                 violation     VARCHAR  YES  None    None  None\n",
       "3            violation_desc     VARCHAR  YES  None    None  None\n",
       "4         citation_location     VARCHAR  YES  None    None  None\n",
       "5       vehicle_plate_state     VARCHAR  YES  None    None  None\n",
       "6             vehicle_plate     VARCHAR  YES  None    None  None\n",
       "7               fine_amount     VARCHAR  YES  None    None  None\n",
       "8                date_added     VARCHAR  YES  None    None  None\n",
       "9                  the_geom     VARCHAR  YES  None    None  None"
      ]
     },
     "execution_count": 24,
     "metadata": {},
     "output_type": "execute_result"
    }
   ],
   "source": [
    "query = f\"describe select * from read_parquet('{data_dir}/*.parquet');\"\n",
    "columns_df = duckdb.sql(query).to_df()\n",
    "columns_df"
   ]
  },
  {
   "cell_type": "markdown",
   "id": "997269481156ab64",
   "metadata": {
    "collapsed": false
   },
   "source": [
    "This dataset has 10 columns, also all `varchar` strings. Let's query a single row so we can get familiar with the data:"
   ]
  },
  {
   "cell_type": "code",
   "execution_count": 25,
   "id": "e01d8b5f2026447b",
   "metadata": {
    "ExecuteTime": {
     "end_time": "2024-02-18T23:34:44.416234Z",
     "start_time": "2024-02-18T23:34:44.006373Z"
    },
    "collapsed": false
   },
   "outputs": [
    {
     "data": {
      "text/html": [
       "<div>\n",
       "<style scoped>\n",
       "    .dataframe tbody tr th:only-of-type {\n",
       "        vertical-align: middle;\n",
       "    }\n",
       "\n",
       "    .dataframe tbody tr th {\n",
       "        vertical-align: top;\n",
       "    }\n",
       "\n",
       "    .dataframe thead th {\n",
       "        text-align: right;\n",
       "    }\n",
       "</style>\n",
       "<table border=\"1\" class=\"dataframe\">\n",
       "  <thead>\n",
       "    <tr style=\"text-align: right;\">\n",
       "      <th></th>\n",
       "      <th>citation_number</th>\n",
       "      <th>citation_issued_datetime</th>\n",
       "      <th>violation</th>\n",
       "      <th>violation_desc</th>\n",
       "      <th>citation_location</th>\n",
       "      <th>vehicle_plate_state</th>\n",
       "      <th>vehicle_plate</th>\n",
       "      <th>fine_amount</th>\n",
       "      <th>date_added</th>\n",
       "      <th>the_geom</th>\n",
       "    </tr>\n",
       "  </thead>\n",
       "  <tbody>\n",
       "    <tr>\n",
       "      <th>0</th>\n",
       "      <td>756689080</td>\n",
       "      <td>2008-12-16T12:17:00.000</td>\n",
       "      <td>T202</td>\n",
       "      <td>PRK METER</td>\n",
       "      <td>1720 CHURCH ST</td>\n",
       "      <td>CA</td>\n",
       "      <td>5NQR857</td>\n",
       "      <td>50</td>\n",
       "      <td>2008-12-16T00:00:00.000</td>\n",
       "      <td>None</td>\n",
       "    </tr>\n",
       "  </tbody>\n",
       "</table>\n",
       "</div>"
      ],
      "text/plain": [
       "  citation_number citation_issued_datetime violation violation_desc  \\\n",
       "0       756689080  2008-12-16T12:17:00.000      T202      PRK METER   \n",
       "\n",
       "  citation_location vehicle_plate_state vehicle_plate fine_amount  \\\n",
       "0    1720 CHURCH ST                  CA       5NQR857          50   \n",
       "\n",
       "                date_added the_geom  \n",
       "0  2008-12-16T00:00:00.000     None  "
      ]
     },
     "execution_count": 25,
     "metadata": {},
     "output_type": "execute_result"
    }
   ],
   "source": [
    "query = f\"select * from read_parquet('{data_dir}/*.parquet') limit 1;\"\n",
    "a_row_df = duckdb.sql(query).to_df()\n",
    "a_row_df"
   ]
  },
  {
   "cell_type": "markdown",
   "id": "e5610cd6b4da670b",
   "metadata": {
    "collapsed": false
   },
   "source": [
    "Let's look at this one in detail:\n",
    "\n",
    "1. `citation_number = 848824174`\n",
    "    1. This one's pretty straight forward\n",
    "    2. We expect it to be a unique identifier\n",
    "2. `citation_issued_datetime = 2014-11-26T08:10:00.000`\n",
    "    1. Again, probably straight forward\n",
    "3. `violation = TRC7.2.22`\n",
    "    1. Violation code as found [here](https://www.sfmta.com/sites/default/files/reports-and-documents/2022/05/fy_2023_fees_and_fines_effective_7.1.22.pdf)\n",
    "4. `violation_desc = STR CLEAN`\n",
    "    1. A slightly more detailed but still fairly short description of the violation\n",
    "    2. A longer description is available [here](https://www.sfmta.com/sites/default/files/reports-and-documents/2022/05/fy_2023_fees_and_fines_effective_7.1.22.pdf)\n",
    "5. `citation_location = 799 SHRADER ST`\n",
    "    1. Straight forward\n",
    "    2. Might be interesting to look at violations within a radius to find citation hot spots\n",
    "        1. This is not included in this analysis\n",
    "6. `vehicle_state_plate = CA`\n",
    "    1. Straight forward\n",
    "7. `vehicle_plate = 4SWC745`\n",
    "    1. Straight forward\n",
    "    2. We could aggregate the sum by `vehicle_plate` to find the offenders with the highest fines per year\n",
    "8. `fine_amount = 66`\n",
    "    1. Straight forward\n",
    "    2. Probably the basis for most of the analysis of this dataset\n",
    "9. `date_added = 2014-11-26T00:00:00.000`\n",
    "    1. Date added to dataset (according to DataSF)\n",
    "    2. We probably won't use this data\n",
    "10. `the_geom = None`\n",
    "    1. Geojson point of citation location (according to DataSF)\n",
    "    2. I believe this is rarely populated, so we can ignore it\n",
    "\n",
    "**Note:** this data was not originally checked for duplicates and unfortunately there are duplicates. To de-duplicate the data, we could do a big `group by` and select the lowest (assumed to be original) `date_added`. Something like:\n",
    "\n",
    "```sql\n",
    "select\n",
    "    citation_number,\n",
    "    citation_issued_datetime,\n",
    "    violation,\n",
    "    violation_desc,\n",
    "    citation_location,\n",
    "    vehicle_state_plate,\n",
    "    vehicle_plate,\n",
    "    fine_amount,\n",
    "    min(date_added) as original_date_added,\n",
    "    the_geom\n",
    " from\n",
    "    read_parquet('{data_dir}/*.parquet')\n",
    " group by\n",
    "    citation_number,\n",
    "    citation_issued_datetime,\n",
    "    violation,\n",
    "    violation_desc,\n",
    "    citation_location,\n",
    "    vehicle_state_plate,\n",
    "    vehicle_plate,\n",
    "    fine_amount,\n",
    "    the_geom\n",
    "```\n",
    "\n",
    "Similar to the parking meter data, we can get the sum of all the fines in 2023:"
   ]
  },
  {
   "cell_type": "code",
   "execution_count": 26,
   "id": "6ab8ffdd066922b6",
   "metadata": {
    "ExecuteTime": {
     "end_time": "2024-02-18T23:34:44.418276Z",
     "start_time": "2024-02-18T23:34:44.341760Z"
    },
    "collapsed": false
   },
   "outputs": [
    {
     "ename": "SyntaxError",
     "evalue": "unexpected character after line continuation character (3500224432.py, line 1)",
     "output_type": "error",
     "traceback": [
      "\u001b[0;36m  Cell \u001b[0;32mIn[26], line 1\u001b[0;36m\u001b[0m\n\u001b[0;31m    \\query = f\"\"\"select sum(fine_amount::double) as sum_fines\u001b[0m\n\u001b[0m     ^\u001b[0m\n\u001b[0;31mSyntaxError\u001b[0m\u001b[0;31m:\u001b[0m unexpected character after line continuation character\n"
     ]
    }
   ],
   "source": [
    "\\query = f\"\"\"select sum(fine_amount::double) as sum_fines\n",
    "from read_parquet('{data_dir}/*.parquet')\n",
    "where\n",
    "year(citation_issued_datetime::date) = 2023;\"\"\"\n",
    "fines_sum_2023_df = duckdb.sql(query).to_df()\n",
    "fines_sum_2023_df"
   ]
  },
  {
   "cell_type": "markdown",
   "id": "6c5ab54eb68a989",
   "metadata": {
    "collapsed": false
   },
   "source": [
    "Wow, over $99M in parking violations in 2023 alone! I wonder how many violations that was"
   ]
  },
  {
   "cell_type": "code",
   "execution_count": null,
   "id": "5ee0ac3f4a51fe47",
   "metadata": {
    "ExecuteTime": {
     "start_time": "2024-02-18T23:34:44.344875Z"
    },
    "collapsed": false
   },
   "outputs": [],
   "source": [
    "query = f\"\"\"select count(fine_amount) as count_rows\n",
    "from read_parquet('{data_dir}/*.parquet')\n",
    "where\n",
    "year(citation_issued_datetime::date) = 2023;\"\"\"\n",
    "fines_count_2023_df = duckdb.sql(query).to_df()\n",
    "fines_count_2023_df"
   ]
  },
  {
   "cell_type": "markdown",
   "id": "c03202ba7caafb01",
   "metadata": {
    "collapsed": false
   },
   "source": [
    "There were 1,014,481 citations. A quick spot check is &#36;99M / 1M citations = &#36;99 per citation. That seems about right\n",
    "\n",
    "In San Francisco, many streets have a posted street cleaning time window where parking is not allowed that can be once a week or even every day downtown. It would probably be interesting to see a breakdown of total fine amounts for street cleaning versus all other violations. We can:\n",
    "\n",
    "1. Combine 2 queries with a `union`\n",
    "    1. A query summing the fines for street cleaning violations in 2023\n",
    "    2. A query summing the fines for violations that are not street cleaning in 2023\n",
    "2. Calculate the fraction in pandas  "
   ]
  },
  {
   "cell_type": "code",
   "execution_count": null,
   "id": "7371a636e43b72f7",
   "metadata": {
    "ExecuteTime": {
     "start_time": "2024-02-18T23:34:44.346179Z"
    },
    "collapsed": false
   },
   "outputs": [],
   "source": [
    "query = f\"\"\"select 'Street cleaning' as violation_desc, sum(fine_amount::double) as sum_fines\n",
    "from read_parquet('{data_dir}/*.parquet')\n",
    "where\n",
    "year(citation_issued_datetime::date) = 2023\n",
    "and violation_desc = 'STR CLEAN'\n",
    "union\n",
    "select 'Other' as violation_desc, sum(fine_amount::double) as sum_fines\n",
    "from read_parquet('{data_dir}/*.parquet')\n",
    "where\n",
    "year(citation_issued_datetime::date) = 2023\n",
    "and violation_desc <> 'STR CLEAN';\"\"\"\n",
    "fines_clean_other_2023_df = duckdb.sql(query).to_df()\n",
    "fines_clean_other_2023_df[\n",
    "    \"fraction\"] = fines_clean_other_2023_df.sum_fines / fines_clean_other_2023_df.sum_fines.sum()\n",
    "fines_clean_other_2023_df"
   ]
  },
  {
   "cell_type": "markdown",
   "id": "c2621e7e7b2e295b",
   "metadata": {
    "collapsed": false
   },
   "source": [
    "Wow, over 42% of fines by violation are from street cleaning for a sum of over &#36;42M. That's a huge revenue stream just from street cleaning violations!\n",
    "\n",
    "Let's look at the violations per hour of the day, but let's also add in weekend vs weekday to see if there is any difference. We can:\n",
    "\n",
    "1. `cast()` the citation datetime to weekday to get day of the week\n",
    "2. Use a `case when` to populate a `varchar` with `weekday` or `weekend` accordingly\n",
    "3. Pull out the hour of the day\n",
    "4. `group by` the day of the week (type) and hour\n",
    "5. Aggregate the sum of fines in each group"
   ]
  },
  {
   "cell_type": "code",
   "execution_count": null,
   "id": "bb88db7dd15014bf",
   "metadata": {
    "ExecuteTime": {
     "start_time": "2024-02-18T23:34:44.347542Z"
    },
    "collapsed": false
   },
   "outputs": [],
   "source": [
    "query = f\"\"\"select\n",
    "case when weekday(citation_issued_datetime::timestamp) in (0, 6) then 'weekend'\n",
    "else 'weekday' end as type,\n",
    "hour(citation_issued_datetime::timestamp) as hour,\n",
    "sum(fine_amount::double) sum_fines\n",
    "from read_parquet('{data_dir}/*.parquet')\n",
    "where\n",
    "year(citation_issued_datetime::date) = 2023\n",
    "group by type, hour\n",
    "order by type, hour;\"\"\"\n",
    "fine_day_week_hour_2023_df = duckdb.sql(query).to_df()\n",
    "fine_day_week_hour_2023_df[\n",
    "    \"fraction\"] = fine_day_week_hour_2023_df.sum_fines / fine_day_week_hour_2023_df.sum_fines.sum()\n",
    "fine_day_week_hour_2023_df[\n",
    "    \"proportion\"] = fine_day_week_hour_2023_df.fraction / fine_day_week_hour_2023_df.fraction.max()\n",
    "fine_day_week_hour_2023_df"
   ]
  },
  {
   "cell_type": "markdown",
   "id": "360843a32cab1446",
   "metadata": {
    "collapsed": false
   },
   "source": [
    "Interesting, just like the peak parking meter revenue, the peak parking citation revenue is also at 12 PM on a weekday!\n",
    "\n",
    "There are 48 rows of data here, so it would likely be much easier to see it visually\n",
    "\n",
    "Since we know it's a large portion of total fines, we could also break out by hour and street cleaning violations versus others for weekdays"
   ]
  },
  {
   "cell_type": "code",
   "execution_count": null,
   "id": "de750283b844c5f8",
   "metadata": {
    "ExecuteTime": {
     "start_time": "2024-02-18T23:34:44.348815Z"
    },
    "collapsed": false
   },
   "outputs": [],
   "source": [
    "query = f\"\"\"select\n",
    "case when weekday(citation_issued_datetime::timestamp) in (0, 6) then 'weekend'\n",
    "else 'weekday' end as type,\n",
    "case when violation_desc = 'STR CLEAN' then 'Street cleaning'\n",
    "else 'Other' end as cleaning_or_other,\n",
    "hour(citation_issued_datetime::timestamp) as hour,\n",
    "sum(fine_amount::double) sum_fines\n",
    "from read_parquet('{data_dir}/*.parquet')\n",
    "where\n",
    "year(citation_issued_datetime::date) = 2023\n",
    "and weekday(citation_issued_datetime::timestamp) not in (0, 6)\n",
    "group by type, hour, cleaning_or_other\n",
    "order by type, hour, cleaning_or_other desc;\n",
    "\"\"\"\n",
    "clean_other_weekday_hour_2023_df = duckdb.sql(query).to_df()\n",
    "clean_other_weekday_hour_2023_df[\n",
    "    \"fraction\"] = clean_other_weekday_hour_2023_df.sum_fines / clean_other_weekday_hour_2023_df.sum_fines.sum()\n",
    "clean_other_weekday_hour_2023_df[\n",
    "    \"proportion\"] = clean_other_weekday_hour_2023_df.fraction / clean_other_weekday_hour_2023_df.fraction.max()\n",
    "clean_other_weekday_hour_2023_df"
   ]
  },
  {
   "cell_type": "markdown",
   "id": "aa100e0b0bb697eb",
   "metadata": {
    "collapsed": false
   },
   "source": [
    "Just glancing at these results, we can see the peak is street cleaning violations at 9 AM on a weekday with a sum of &#36;8.5M!\n",
    "\n",
    "Now let's do the same for weekends"
   ]
  },
  {
   "cell_type": "code",
   "execution_count": null,
   "id": "34f00eee8a5eb40",
   "metadata": {
    "ExecuteTime": {
     "start_time": "2024-02-18T23:34:44.350117Z"
    },
    "collapsed": false
   },
   "outputs": [],
   "source": [
    "query = f\"\"\"select\n",
    "case when weekday(citation_issued_datetime::timestamp) in (0, 6) then 'weekend'\n",
    "else 'weekday' end as type,\n",
    "case when violation_desc = 'STR CLEAN' then 'Street cleaning'\n",
    "else 'Other' end as cleaning_or_other,\n",
    "hour(citation_issued_datetime::timestamp) as hour,\n",
    "sum(fine_amount::double) sum_fines\n",
    "from read_parquet('{data_dir}/*.parquet')\n",
    "where\n",
    "year(citation_issued_datetime::date) = 2023\n",
    "and weekday(citation_issued_datetime::timestamp) in (0, 6)\n",
    "group by type, hour, cleaning_or_other\n",
    "order by type, hour, cleaning_or_other desc;\n",
    "\"\"\"\n",
    "clean_other_weekend_hour_2023_df = duckdb.sql(query).to_df()\n",
    "clean_other_weekend_hour_2023_df[\n",
    "    \"fraction\"] = clean_other_weekend_hour_2023_df.sum_fines / clean_other_weekend_hour_2023_df.sum_fines.sum()\n",
    "clean_other_weekend_hour_2023_df[\n",
    "    \"proportion\"] = clean_other_weekend_hour_2023_df.fraction / clean_other_weekend_hour_2023_df.fraction.max()\n",
    "clean_other_weekend_hour_2023_df"
   ]
  },
  {
   "cell_type": "markdown",
   "id": "545d4250cd31d563",
   "metadata": {
    "collapsed": false
   },
   "source": [
    "Here we can spot a peak on the weekend at 11 AM, and it's for anything but street cleaning with a sum just shy of $1M\n",
    "\n",
    "Maybe we've been too focused on street cleaning citations, let's look at all citations by total fines\n",
    "\n",
    "1. `group by` `violation` and `violation_desc`\n",
    "2. Aggregate the sum of the fines per group\n",
    "3. Filter results where sum is over our user variable threshold of &#36;1M\n",
    "4. Join the resulting DataFrame with a longer description defined above\n",
    "5. Calculate the fraction and proportion of each violation"
   ]
  },
  {
   "cell_type": "code",
   "execution_count": null,
   "id": "76da9b17d339b35f",
   "metadata": {
    "ExecuteTime": {
     "start_time": "2024-02-18T23:34:44.351695Z"
    },
    "collapsed": false
   },
   "outputs": [],
   "source": [
    "query = f\"\"\"select\n",
    "violation,\n",
    "violation_desc,\n",
    "sum(fine_amount::double) sum_fines\n",
    "from read_parquet('{data_dir}/*.parquet')\n",
    "where\n",
    "year(citation_issued_datetime::date) = 2023\n",
    "group by violation, violation_desc\n",
    "having sum_fines > {sum_fines_min_thresh}\n",
    "order by sum_fines desc;\"\"\"\n",
    "fine_amounts_2023_df = duckdb.sql(query).to_df()\n",
    "fine_amounts_2023_df = fine_amounts_2023_df.merge(violation_df, left_on=\"violation_desc\", right_index=True)\n",
    "fine_amounts_2023_df[\n",
    "    \"fraction\"] = fine_amounts_2023_df.sum_fines / fine_amounts_2023_df.sum_fines.sum()\n",
    "fine_amounts_2023_df[\n",
    "    \"proportion\"] = fine_amounts_2023_df.fraction / fine_amounts_2023_df.fraction.max()\n",
    "fine_amounts_2023_df"
   ]
  },
  {
   "cell_type": "markdown",
   "id": "22bb532a2f09160f",
   "metadata": {
    "collapsed": false
   },
   "source": [
    "As we know, the top violation is street cleaning. This is followed by residential parking violations, expired parking meters which are broken out by downtown and not, no plates, and yellow zone. The next violation isn't technically a parking citation at all, it's a fare evasion on SFMTA MUNI public transportation\n",
    "\n",
    "Next we can `group by` license plate to see the vehicles with the highest total fines"
   ]
  },
  {
   "cell_type": "code",
   "execution_count": null,
   "id": "2c3922b61d08a889",
   "metadata": {
    "ExecuteTime": {
     "start_time": "2024-02-18T23:34:44.352878Z"
    },
    "collapsed": false
   },
   "outputs": [],
   "source": [
    "query = f\"\"\"select\n",
    "vehicle_plate_state,\n",
    "vehicle_plate,\n",
    "count(fine_amount) as count_fines,\n",
    "sum(fine_amount::double) as sum_fines\n",
    "from read_parquet('{data_dir}/*.parquet')\n",
    "where\n",
    "year(citation_issued_datetime::date) = 2023\n",
    "and vehicle_plate <> ''\n",
    "and fine_amount > 0\n",
    "group by vehicle_plate_state, vehicle_plate\n",
    "order by sum_fines desc;\"\"\"\n",
    "fine_plate_2023_df = duckdb.sql(query).to_df()\n",
    "fine_plate_2023_df"
   ]
  },
  {
   "cell_type": "markdown",
   "id": "5e6e8e96c555d3fa",
   "metadata": {
    "collapsed": false
   },
   "source": [
    "It looks like there were citations for over 455k unique license plates\n",
    "\n",
    "Let's see the max total fines for a single vehicle:"
   ]
  },
  {
   "cell_type": "code",
   "execution_count": null,
   "id": "da8f620b83544319",
   "metadata": {
    "ExecuteTime": {
     "start_time": "2024-02-18T23:34:44.353666Z"
    },
    "collapsed": false
   },
   "outputs": [],
   "source": [
    "fine_plate_2023_df.sum_fines.max()"
   ]
  },
  {
   "cell_type": "markdown",
   "id": "11ffb24d6530c11e",
   "metadata": {
    "collapsed": false
   },
   "source": [
    "Wow, over &#36;18k in fines for a single vehicle. That's more than a fair number of vehicles are worth!\n",
    "\n",
    "What about the median?"
   ]
  },
  {
   "cell_type": "code",
   "execution_count": null,
   "id": "2becf8878fce63a9",
   "metadata": {
    "ExecuteTime": {
     "start_time": "2024-02-18T23:34:44.354413Z"
    },
    "collapsed": false
   },
   "outputs": [],
   "source": [
    "fine_plate_2023_df.sum_fines.median()"
   ]
  },
  {
   "cell_type": "markdown",
   "id": "c1de07cad674943e",
   "metadata": {
    "collapsed": false
   },
   "source": [
    "The median fines per plate in the dataset is &#36;108. That is almost 1/200th of the maximum fines\n",
    "\n",
    "Finally, we can view every 100th item in the citations per license plate. This was used in creating a plot showing the distribution of fines per license plate"
   ]
  },
  {
   "cell_type": "code",
   "execution_count": null,
   "id": "52fed1eb173883ac",
   "metadata": {
    "ExecuteTime": {
     "start_time": "2024-02-18T23:34:44.355131Z"
    },
    "collapsed": false
   },
   "outputs": [],
   "source": [
    "fine_plate_2023_df[::100]"
   ]
  },
  {
   "cell_type": "markdown",
   "id": "505a90d09b3da57c",
   "metadata": {
    "collapsed": false
   },
   "source": [
    "Well, this is all the data used to generate the *Parked 2023* infographic\n",
    "\n",
    "Nick "
   ]
  },
  {
   "cell_type": "code",
   "execution_count": null,
   "id": "ead305a9a28e7c4b",
   "metadata": {
    "ExecuteTime": {
     "start_time": "2024-02-18T23:34:44.355802Z"
    },
    "collapsed": false
   },
   "outputs": [],
   "source": []
  }
 ],
 "metadata": {
  "kernelspec": {
   "display_name": "Python 3",
   "language": "python",
   "name": "python3"
  },
  "language_info": {
   "codemirror_mode": {
    "name": "ipython",
    "version": 3
   },
   "file_extension": ".py",
   "mimetype": "text/x-python",
   "name": "python",
   "nbconvert_exporter": "python",
   "pygments_lexer": "ipython3",
   "version": "3.12.1"
  }
 },
 "nbformat": 4,
 "nbformat_minor": 5
}
